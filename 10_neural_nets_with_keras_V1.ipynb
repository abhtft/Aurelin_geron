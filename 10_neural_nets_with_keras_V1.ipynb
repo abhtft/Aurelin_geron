{
  "cells": [
    {
      "cell_type": "markdown",
      "metadata": {
        "id": "H0GNW59EaIOb"
      },
      "source": [
        "**Chapter 10 – Introduction to Artificial Neural Networks with Keras**\n",
        "\n",
        "_This notebook contains all the sample code and solutions to the exercises in chapter 10._"
      ]
    },
    {
      "cell_type": "code",
      "source": [],
      "metadata": {
        "id": "wVx5u3ADbSks"
      },
      "execution_count": null,
      "outputs": []
    },
    {
      "cell_type": "markdown",
      "metadata": {
        "id": "_AueiztnaIOc"
      },
      "source": [
        "<table align=\"left\">\n",
        "  <td>\n",
        "    <a href=\"https://colab.research.google.com/github/ageron/handson-ml2/blob/master/10_neural_nets_with_keras.ipynb\" target=\"_parent\"><img src=\"https://colab.research.google.com/assets/colab-badge.svg\" alt=\"Open In Colab\"/></a>\n",
        "  </td>\n",
        "  <td>\n",
        "    <a target=\"_blank\" href=\"https://kaggle.com/kernels/welcome?src=https://github.com/ageron/handson-ml2/blob/master/10_neural_nets_with_keras.ipynb\"><img src=\"https://kaggle.com/static/images/open-in-kaggle.svg\" /></a>\n",
        "  </td>\n",
        "</table>"
      ]
    },
    {
      "cell_type": "markdown",
      "metadata": {
        "id": "8WVzvGzMaIOd"
      },
      "source": [
        "# Setup"
      ]
    },
    {
      "cell_type": "markdown",
      "metadata": {
        "id": "Qxsm0FjWaIOd"
      },
      "source": [
        "First, let's import a few common modules, ensure MatplotLib plots figures inline and prepare a function to save the figures. We also check that Python 3.5 or later is installed (although Python 2.x may work, it is deprecated so we strongly recommend you use Python 3 instead), as well as Scikit-Learn ≥0.20 and TensorFlow ≥2.0."
      ]
    },
    {
      "cell_type": "code",
      "execution_count": 1,
      "metadata": {
        "colab": {
          "base_uri": "https://localhost:8080/"
        },
        "id": "swzzoXa9aIOe",
        "outputId": "e172e786-c908-46cf-a19a-14edd5630558"
      },
      "outputs": [
        {
          "output_type": "stream",
          "name": "stdout",
          "text": [
            "Colab only includes TensorFlow 2.x; %tensorflow_version has no effect.\n"
          ]
        }
      ],
      "source": [
        "# Python ≥3.5 is required\n",
        "import sys\n",
        "assert sys.version_info >= (3, 5)\n",
        "\n",
        "# Scikit-Learn ≥0.20 is required\n",
        "import sklearn\n",
        "assert sklearn.__version__ >= \"0.20\"\n",
        "\n",
        "try:\n",
        "    # %tensorflow_version only exists in Colab.\n",
        "    %tensorflow_version 2.x\n",
        "except Exception:\n",
        "    pass\n",
        "\n",
        "# TensorFlow ≥2.0 is required\n",
        "import tensorflow as tf\n",
        "assert tf.__version__ >= \"2.0\"\n",
        "\n",
        "# Common imports\n",
        "import numpy as np\n",
        "import os\n",
        "\n",
        "# to make this notebook's output stable across runs\n",
        "np.random.seed(42)\n",
        "\n",
        "# To plot pretty figures\n",
        "%matplotlib inline\n",
        "import matplotlib as mpl\n",
        "import matplotlib.pyplot as plt\n",
        "mpl.rc('axes', labelsize=14)\n",
        "mpl.rc('xtick', labelsize=12)\n",
        "mpl.rc('ytick', labelsize=12)\n",
        "\n",
        "# Where to save the figures\n",
        "PROJECT_ROOT_DIR = \".\"\n",
        "CHAPTER_ID = \"ann\"\n",
        "IMAGES_PATH = os.path.join(PROJECT_ROOT_DIR, \"images\", CHAPTER_ID)\n",
        "os.makedirs(IMAGES_PATH, exist_ok=True)\n",
        "\n",
        "def save_fig(fig_id, tight_layout=True, fig_extension=\"png\", resolution=300):\n",
        "    path = os.path.join(IMAGES_PATH, fig_id + \".\" + fig_extension)\n",
        "    print(\"Saving figure\", fig_id)\n",
        "    if tight_layout:\n",
        "        plt.tight_layout()\n",
        "    plt.savefig(path, format=fig_extension, dpi=resolution)\n"
      ]
    },
    {
      "cell_type": "code",
      "source": [
        "print(tf.__version__)"
      ],
      "metadata": {
        "id": "71vdvgTMi_hw",
        "outputId": "535f52b0-524b-420c-edc9-540178ab0802",
        "colab": {
          "base_uri": "https://localhost:8080/"
        }
      },
      "execution_count": 3,
      "outputs": [
        {
          "output_type": "stream",
          "name": "stdout",
          "text": [
            "2.18.0\n"
          ]
        }
      ]
    },
    {
      "cell_type": "markdown",
      "metadata": {
        "id": "8CQXcJctaIOe"
      },
      "source": [
        "# Perceptrons"
      ]
    },
    {
      "cell_type": "markdown",
      "metadata": {
        "id": "tZRLfFCXaIOf"
      },
      "source": [
        "**Note**: we set `max_iter` and `tol` explicitly to avoid warnings about the fact that their default value will change in future versions of Scikit-Learn."
      ]
    },
    {
      "cell_type": "code",
      "execution_count": 2,
      "metadata": {
        "id": "r2Ko0cq4aIOf"
      },
      "outputs": [],
      "source": [
        "import numpy as np\n",
        "from sklearn.datasets import load_iris\n",
        "from sklearn.linear_model import Perceptron\n",
        "\n",
        "iris = load_iris()\n",
        "X = iris.data[:, (2, 3)]  # petal length, petal width\n",
        "y = (iris.target == 0).astype(int)\n",
        "\n",
        "per_clf = Perceptron(max_iter=1000, tol=1e-3, random_state=42)\n",
        "per_clf.fit(X, y)\n",
        "\n",
        "y_pred = per_clf.predict([[2, 0.5]])"
      ]
    },
    {
      "cell_type": "code",
      "source": [],
      "metadata": {
        "id": "F2CrZTv1jhN-"
      },
      "execution_count": 2,
      "outputs": []
    },
    {
      "cell_type": "code",
      "execution_count": 3,
      "metadata": {
        "colab": {
          "base_uri": "https://localhost:8080/"
        },
        "id": "SsueRrmHaIOf",
        "outputId": "973acb0d-aa73-4313-f80d-b4c33bac2430"
      },
      "outputs": [
        {
          "output_type": "execute_result",
          "data": {
            "text/plain": [
              "array([1])"
            ]
          },
          "metadata": {},
          "execution_count": 3
        }
      ],
      "source": [
        "y_pred"
      ]
    },
    {
      "cell_type": "code",
      "execution_count": 7,
      "metadata": {
        "colab": {
          "base_uri": "https://localhost:8080/",
          "height": 398
        },
        "id": "co28CaIDaIOf",
        "outputId": "b41971a6-0353-4002-c303-df4a0ee60129"
      },
      "outputs": [
        {
          "output_type": "display_data",
          "data": {
            "text/plain": [
              "<Figure size 1000x400 with 1 Axes>"
            ],
            "image/png": "[encoded data removed]"
          },
          "metadata": {}
        }
      ],
      "source": [
        "import matplotlib.pyplot as plt\n",
        "\n",
        "a = -per_clf.coef_[0][0] / per_clf.coef_[0][1]\n",
        "b = -per_clf.intercept_ / per_clf.coef_[0][1]\n",
        "\n",
        "axes = [0, 5, 0, 2]\n",
        "\n",
        "x0, x1 = np.meshgrid(\n",
        "        np.linspace(axes[0], axes[1], 500).reshape(-1, 1),\n",
        "        np.linspace(axes[2], axes[3], 200).reshape(-1, 1),\n",
        "    )\n",
        "X_new = np.c_[x0.ravel(), x1.ravel()]\n",
        "y_predict = per_clf.predict(X_new)\n",
        "zz = y_predict.reshape(x0.shape)\n",
        "\n",
        "plt.figure(figsize=(10, 4))\n",
        "plt.plot(X[y==0, 0], X[y==0, 1], \"bs\", label=\"Not Iris-Setosa\")\n",
        "plt.plot(X[y==1, 0], X[y==1, 1], \"yo\", label=\"Iris-Setosa\")\n",
        "\n",
        "#[a * axes[0] + b, a * axes[1] + b]: This defines the y-coordinates of the two endpoints of the line. It's essentially the equation of the line (y = ax + b), where:\n",
        "\n",
        "a and b represent the slope and intercept of the line respectively, which are calculated from the Perceptron's learned coefficients and intercept.\n",
        "axes[0] and axes[1] are the same x-coordinates as before.\n",
        "\n",
        "\n",
        "plt.plot([axes[0], axes[1]], [a * axes[0] + b, a * axes[1] + b], \"k-\", linewidth=3)\n",
        "from matplotlib.colors import ListedColormap\n",
        "custom_cmap = ListedColormap(['#9898ff', '#fafab0'])\n",
        "\n",
        "plt.contourf(x0, x1, zz, cmap=custom_cmap)\n",
        "plt.xlabel(\"Petal length\", fontsize=14)\n",
        "plt.ylabel(\"Petal width\", fontsize=14)\n",
        "plt.legend(loc=\"lower right\", fontsize=14)\n",
        "plt.axis(axes)\n",
        "\n",
        "\n",
        "plt.show()"
      ]
    },
    {
      "cell_type": "markdown",
      "metadata": {
        "id": "EutJHhxZaIOg"
      },
      "source": [
        "# Activation functions"
      ]
    },
    {
      "cell_type": "code",
      "execution_count": 17,
      "metadata": {
        "id": "Xug3zRctaIOg"
      },
      "outputs": [],
      "source": [
        "def sigmoid(z):\n",
        "    return 1 / (1 + np.exp(-z))\n",
        "\n",
        "def relu(z):\n",
        "    return np.maximum(0, z)\n",
        "\n",
        "\n",
        "#to undestand basic numerical differential as per change eps[numericla data]\n",
        "def derivative(f, z, eps=0.000001):\n",
        "    return (f(z + eps) - f(z - eps))/(2 * eps)"
      ]
    },
    {
      "cell_type": "code",
      "source": [
        "# z = np.linspace(-5, 5, 201)\n",
        "\n",
        "# print(z)"
      ],
      "metadata": {
        "id": "ZdIctvn2AKvX"
      },
      "execution_count": 18,
      "outputs": []
    },
    {
      "cell_type": "code",
      "execution_count": 15,
      "metadata": {
        "colab": {
          "base_uri": "https://localhost:8080/",
          "height": 392
        },
        "id": "JB5t3SAAaIOg",
        "outputId": "fe15f639-91e2-4b50-d51d-2b696dea7964"
      },
      "outputs": [
        {
          "output_type": "display_data",
          "data": {
            "text/plain": [
              "<Figure size 1100x400 with 2 Axes>"
            ],
            "image/png": "[encoded data removed]"
          },
          "metadata": {}
        }
      ],
      "source": [
        "z = np.linspace(-5, 5, 200)\n",
        "\n",
        "plt.figure(figsize=(11,4))\n",
        "#(r,c,which column)\n",
        "plt.subplot(121)\n",
        "plt.plot(z, np.sign(z), \"r-\", linewidth=1, label=\"Step\")\n",
        "plt.plot(z, sigmoid(z), \"g--\", linewidth=2, label=\"Sigmoid\")\n",
        "plt.plot(z, np.tanh(z), \"b-\", linewidth=2, label=\"Tanh\")\n",
        "plt.plot(z, relu(z), \"m-.\", linewidth=2, label=\"ReLU\")\n",
        "plt.grid(True)\n",
        "plt.legend(loc=\"center right\", fontsize=14)\n",
        "plt.title(\"Activation functions\", fontsize=14)\n",
        "plt.axis([-5, 5, -1.2, 1.2])\n",
        "#step and tan already defined in np\n",
        "\n",
        "plt.subplot(122)\n",
        "plt.plot(z, derivative(np.sign, z), \"r-\", linewidth=1, label=\"Step\")\n",
        "plt.plot(0, 0, \"ro\", markersize=5)\n",
        "plt.plot(0, 0, \"rx\", markersize=10)\n",
        "plt.plot(z, derivative(sigmoid, z), \"g--\", linewidth=2, label=\"Sigmoid\")\n",
        "plt.plot(z, derivative(np.tanh, z), \"b-\", linewidth=2, label=\"Tanh\")\n",
        "plt.plot(z, derivative(relu, z), \"m-.\", linewidth=2, label=\"ReLU\")\n",
        "plt.grid(True)\n",
        "#plt.legend(loc=\"center right\", fontsize=14)\n",
        "plt.title(\"Derivatives\", fontsize=14)\n",
        "plt.axis([-5, 5, -0.2, 1.2])\n",
        "\n",
        "plt.savefig(\"activation_functions_plot\")\n",
        "plt.show()"
      ]
    },
    {
      "cell_type": "code",
      "execution_count": 16,
      "metadata": {
        "id": "8sYKM5PKaIOg"
      },
      "outputs": [],
      "source": [
        "def heaviside(z):\n",
        "    return (z >= 0).astype(z.dtype)\n",
        "\n",
        "def mlp_xor(x1, x2, activation=heaviside):\n",
        "    return activation(-activation(x1 + x2 - 1.5) + activation(x1 + x2 - 0.5) - 0.5)"
      ]
    },
    {
      "cell_type": "code",
      "execution_count": 19,
      "metadata": {
        "scrolled": true,
        "colab": {
          "base_uri": "https://localhost:8080/",
          "height": 392
        },
        "id": "GphxisXAaIOg",
        "outputId": "d25ffce7-118c-4c73-fa15-e8d4f7f1d2ec"
      },
      "outputs": [
        {
          "output_type": "display_data",
          "data": {
            "text/plain": [
              "<Figure size 1000x400 with 2 Axes>"
            ],
            "image/png": "[encoded data removed]"
          },
          "metadata": {}
        }
      ],
      "source": [
        "x1s = np.linspace(-0.2, 1.2, 100)\n",
        "x2s = np.linspace(-0.2, 1.2, 100)\n",
        "x1, x2 = np.meshgrid(x1s, x2s)\n",
        "\n",
        "z1 = mlp_xor(x1, x2, activation=heaviside)\n",
        "z2 = mlp_xor(x1, x2, activation=sigmoid)\n",
        "\n",
        "plt.figure(figsize=(10,4))\n",
        "\n",
        "plt.subplot(121)\n",
        "plt.contourf(x1, x2, z1)\n",
        "plt.plot([0, 1], [0, 1], \"gs\", markersize=20)\n",
        "plt.plot([0, 1], [1, 0], \"y^\", markersize=20)\n",
        "plt.title(\"Activation function: heaviside\", fontsize=14)\n",
        "plt.grid(True)\n",
        "\n",
        "plt.subplot(122)\n",
        "plt.contourf(x1, x2, z2)\n",
        "plt.plot([0, 1], [0, 1], \"gs\", markersize=20)\n",
        "plt.plot([0, 1], [1, 0], \"y^\", markersize=20)\n",
        "plt.title(\"Activation function: sigmoid\", fontsize=14)\n",
        "plt.grid(True)"
      ]
    },
    {
      "cell_type": "markdown",
      "metadata": {
        "id": "Qvf25gU2aIOh"
      },
      "source": [
        "# Building an Image Classifier"
      ]
    },
    {
      "cell_type": "markdown",
      "metadata": {
        "id": "MetPVo-faIOh"
      },
      "source": [
        "First let's import TensorFlow and Keras."
      ]
    },
    {
      "cell_type": "code",
      "execution_count": 20,
      "metadata": {
        "id": "eSJyyI9XaIOh"
      },
      "outputs": [],
      "source": [
        "import tensorflow as tf\n",
        "from tensorflow import keras"
      ]
    },
    {
      "cell_type": "code",
      "execution_count": 21,
      "metadata": {
        "colab": {
          "base_uri": "https://localhost:8080/",
          "height": 36
        },
        "id": "wsn4XvdOaIOh",
        "outputId": "d2521e4f-7bf8-418c-c20f-4b598e807e1d"
      },
      "outputs": [
        {
          "output_type": "execute_result",
          "data": {
            "text/plain": [
              "'2.18.0'"
            ],
            "application/vnd.google.colaboratory.intrinsic+json": {
              "type": "string"
            }
          },
          "metadata": {},
          "execution_count": 21
        }
      ],
      "source": [
        "tf.__version__"
      ]
    },
    {
      "cell_type": "code",
      "execution_count": 22,
      "metadata": {
        "colab": {
          "base_uri": "https://localhost:8080/",
          "height": 36
        },
        "id": "nBJaCU15aIOh",
        "outputId": "e7e58571-7e8a-4326-f1ea-284f18e02d7c"
      },
      "outputs": [
        {
          "output_type": "execute_result",
          "data": {
            "text/plain": [
              "'3.8.0'"
            ],
            "application/vnd.google.colaboratory.intrinsic+json": {
              "type": "string"
            }
          },
          "metadata": {},
          "execution_count": 22
        }
      ],
      "source": [
        "keras.__version__"
      ]
    },
    {
      "cell_type": "markdown",
      "metadata": {
        "id": "wOUwbgq9aIOh"
      },
      "source": [
        "Let's start by loading the fashion MNIST dataset. Keras has a number of functions to load popular datasets in `keras.datasets`. The dataset is already split for you between a training set and a test set, but it can be useful to split the training set further to have a validation set:"
      ]
    },
    {
      "cell_type": "code",
      "execution_count": 23,
      "metadata": {
        "colab": {
          "base_uri": "https://localhost:8080/"
        },
        "id": "teDZvqz4aIOh",
        "outputId": "04acdb2f-160c-4525-b72e-0372079e1e8d"
      },
      "outputs": [
        {
          "output_type": "stream",
          "name": "stdout",
          "text": [
            "Downloading data from https://storage.googleapis.com/tensorflow/tf-keras-datasets/train-labels-idx1-ubyte.gz\n",
            "\u001b[1m29515/29515\u001b[0m \u001b[32m━━━━━━━━━━━━━━━━━━━━\u001b[0m\u001b[37m\u001b[0m \u001b[1m0s\u001b[0m 0us/step\n",
            "Downloading data from https://storage.googleapis.com/tensorflow/tf-keras-datasets/train-images-idx3-ubyte.gz\n",
            "\u001b[1m26421880/26421880\u001b[0m \u001b[32m━━━━━━━━━━━━━━━━━━━━\u001b[0m\u001b[37m\u001b[0m \u001b[1m0s\u001b[0m 0us/step\n",
            "Downloading data from https://storage.googleapis.com/tensorflow/tf-keras-datasets/t10k-labels-idx1-ubyte.gz\n",
            "\u001b[1m5148/5148\u001b[0m \u001b[32m━━━━━━━━━━━━━━━━━━━━\u001b[0m\u001b[37m\u001b[0m \u001b[1m0s\u001b[0m 0us/step\n",
            "Downloading data from https://storage.googleapis.com/tensorflow/tf-keras-datasets/t10k-images-idx3-ubyte.gz\n",
            "\u001b[1m4422102/4422102\u001b[0m \u001b[32m━━━━━━━━━━━━━━━━━━━━\u001b[0m\u001b[37m\u001b[0m \u001b[1m0s\u001b[0m 0us/step\n"
          ]
        }
      ],
      "source": [
        "fashion_mnist = keras.datasets.fashion_mnist\n",
        "(X_train_full, y_train_full), (X_test, y_test) = fashion_mnist.load_data()"
      ]
    },
    {
      "cell_type": "markdown",
      "metadata": {
        "id": "myXIKRf9aIOh"
      },
      "source": [
        "The training set contains 60,000 grayscale images, each 28x28 pixels:"
      ]
    },
    {
      "cell_type": "code",
      "execution_count": 24,
      "metadata": {
        "colab": {
          "base_uri": "https://localhost:8080/"
        },
        "id": "uAmu3VvSaIOi",
        "outputId": "1bd9070f-a440-4639-8a0e-2c21bec67007"
      },
      "outputs": [
        {
          "output_type": "execute_result",
          "data": {
            "text/plain": [
              "(60000, 28, 28)"
            ]
          },
          "metadata": {},
          "execution_count": 24
        }
      ],
      "source": [
        "X_train_full.shape"
      ]
    },
    {
      "cell_type": "markdown",
      "metadata": {
        "id": "eMPrL7ZiaIOi"
      },
      "source": [
        "Each pixel intensity is represented as a byte (0 to 255):"
      ]
    },
    {
      "cell_type": "code",
      "execution_count": 25,
      "metadata": {
        "colab": {
          "base_uri": "https://localhost:8080/"
        },
        "id": "3cdD3nQFaIOi",
        "outputId": "5d016e9a-1ee6-46af-e3ac-9805da907777"
      },
      "outputs": [
        {
          "output_type": "execute_result",
          "data": {
            "text/plain": [
              "dtype('uint8')"
            ]
          },
          "metadata": {},
          "execution_count": 25
        }
      ],
      "source": [
        "X_train_full.dtype"
      ]
    },
    {
      "cell_type": "markdown",
      "metadata": {
        "id": "6bOVrPu5aIOi"
      },
      "source": [
        "Let's split the full training set into a validation set and a (smaller) training set. We also scale the pixel intensities down to the 0-1 range and convert them to floats, by dividing by 255."
      ]
    },
    {
      "cell_type": "code",
      "execution_count": 26,
      "metadata": {
        "id": "4f1AZS8kaIOi"
      },
      "outputs": [],
      "source": [
        "X_valid, X_train = X_train_full[:5000] / 255., X_train_full[5000:] / 255.\n",
        "y_valid, y_train = y_train_full[:5000], y_train_full[5000:]\n",
        "X_test = X_test / 255.0"
      ]
    },
    {
      "cell_type": "markdown",
      "metadata": {
        "id": "xZzrXTyUaIOi"
      },
      "source": [
        "You can plot an image using Matplotlib's `imshow()` function, with a `'binary'`\n",
        " color map:"
      ]
    },
    {
      "cell_type": "code",
      "execution_count": 28,
      "metadata": {
        "colab": {
          "base_uri": "https://localhost:8080/",
          "height": 406
        },
        "id": "6JU0BtAfaIOi",
        "outputId": "217b9da3-f082-45d2-bc08-565590d7778e"
      },
      "outputs": [
        {
          "output_type": "display_data",
          "data": {
            "text/plain": [
              "<Figure size 640x480 with 1 Axes>"
            ],
            "image/png": "[encoded data removed]"
          },
          "metadata": {}
        }
      ],
      "source": [
        "plt.imshow(X_train[0], cmap=\"binary\")\n",
        "plt.axis('off')\n",
        "plt.show()"
      ]
    },
    {
      "cell_type": "markdown",
      "metadata": {
        "id": "cD77uGj7aIOi"
      },
      "source": [
        "The labels are the class IDs (represented as uint8), from 0 to 9:"
      ]
    },
    {
      "cell_type": "code",
      "execution_count": 29,
      "metadata": {
        "colab": {
          "base_uri": "https://localhost:8080/"
        },
        "id": "TJ8E4InCaIOi",
        "outputId": "5f027de6-1415-484a-dca9-3058526b02fc"
      },
      "outputs": [
        {
          "output_type": "execute_result",
          "data": {
            "text/plain": [
              "array([4, 0, 7, ..., 3, 0, 5], dtype=uint8)"
            ]
          },
          "metadata": {},
          "execution_count": 29
        }
      ],
      "source": [
        "y_train"
      ]
    },
    {
      "cell_type": "markdown",
      "metadata": {
        "id": "uNcQ5RS7aIOj"
      },
      "source": [
        "Here are the corresponding class names:"
      ]
    },
    {
      "cell_type": "code",
      "execution_count": 30,
      "metadata": {
        "id": "lpSWdyTYaIOj"
      },
      "outputs": [],
      "source": [
        "class_names = [\"T-shirt/top\", \"Trouser\", \"Pullover\", \"Dress\", \"Coat\",\n",
        "               \"Sandal\", \"Shirt\", \"Sneaker\", \"Bag\", \"Ankle boot\"]"
      ]
    },
    {
      "cell_type": "markdown",
      "metadata": {
        "id": "U5ZTyjvraIOj"
      },
      "source": [
        "So the first image in the training set is a coat:"
      ]
    },
    {
      "cell_type": "code",
      "execution_count": 31,
      "metadata": {
        "colab": {
          "base_uri": "https://localhost:8080/",
          "height": 36
        },
        "id": "IEiZmeTfaIOj",
        "outputId": "96b147bc-6d94-47df-ea62-8ff86eeecf31"
      },
      "outputs": [
        {
          "output_type": "execute_result",
          "data": {
            "text/plain": [
              "'Coat'"
            ],
            "application/vnd.google.colaboratory.intrinsic+json": {
              "type": "string"
            }
          },
          "metadata": {},
          "execution_count": 31
        }
      ],
      "source": [
        "class_names[y_train[0]]"
      ]
    },
    {
      "cell_type": "markdown",
      "metadata": {
        "id": "C6k4gnTjaIOj"
      },
      "source": [
        "The validation set contains 5,000 images, and the test set contains 10,000 images:"
      ]
    },
    {
      "cell_type": "code",
      "execution_count": 32,
      "metadata": {
        "colab": {
          "base_uri": "https://localhost:8080/"
        },
        "id": "Ca-5cRF8aIOj",
        "outputId": "e240f3a0-7385-4d81-a26a-7cee6fac678d"
      },
      "outputs": [
        {
          "output_type": "execute_result",
          "data": {
            "text/plain": [
              "(5000, 28, 28)"
            ]
          },
          "metadata": {},
          "execution_count": 32
        }
      ],
      "source": [
        "X_valid.shape"
      ]
    },
    {
      "cell_type": "code",
      "execution_count": 34,
      "metadata": {
        "colab": {
          "base_uri": "https://localhost:8080/"
        },
        "id": "f68vCH37aIOj",
        "outputId": "23814cb8-e305-4422-a4e5-e637dc9246ea"
      },
      "outputs": [
        {
          "output_type": "execute_result",
          "data": {
            "text/plain": [
              "(55000, 28, 28)"
            ]
          },
          "metadata": {},
          "execution_count": 34
        }
      ],
      "source": [
        "X_train.shape"
      ]
    },
    {
      "cell_type": "markdown",
      "metadata": {
        "id": "bIAJa6gzaIOn"
      },
      "source": [
        "Let's take a look at a sample of the images in the dataset:"
      ]
    },
    {
      "cell_type": "code",
      "execution_count": null,
      "metadata": {
        "id": "umsiuZfAaIOo",
        "outputId": "8869783e-4964-47ac-ed73-9a52ec39fd86"
      },
      "outputs": [
        {
          "name": "stdout",
          "output_type": "stream",
          "text": [
            "Saving figure fashion_mnist_plot\n"
          ]
        },
        {
          "data": {
            "image/png": "[encoded data removed]",
            "text/plain": [
              "<Figure size 864x345.6 with 40 Axes>"
            ]
          },
          "metadata": {
            "needs_background": "light"
          },
          "output_type": "display_data"
        }
      ],
      "source": [
        "n_rows = 4\n",
        "n_cols = 10\n",
        "plt.figure(figsize=(n_cols * 1.2, n_rows * 1.2))\n",
        "for row in range(n_rows):\n",
        "    for col in range(n_cols):\n",
        "        index = n_cols * row + col\n",
        "        plt.subplot(n_rows, n_cols, index + 1)\n",
        "        plt.imshow(X_train[index], cmap=\"binary\", interpolation=\"nearest\")\n",
        "        plt.axis('off')\n",
        "        plt.title(class_names[y_train[index]], fontsize=12)\n",
        "plt.subplots_adjust(wspace=0.2, hspace=0.5)\n",
        "save_fig('fashion_mnist_plot', tight_layout=False)\n",
        "plt.show()"
      ]
    },
    {
      "cell_type": "code",
      "execution_count": 35,
      "metadata": {
        "colab": {
          "base_uri": "https://localhost:8080/"
        },
        "id": "pg4o10tfaIOo",
        "outputId": "a6ae6d9f-4a11-4c86-8374-940d9d170f37"
      },
      "outputs": [
        {
          "output_type": "stream",
          "name": "stderr",
          "text": [
            "/usr/local/lib/python3.11/dist-packages/keras/src/layers/reshaping/flatten.py:37: UserWarning: Do not pass an `input_shape`/`input_dim` argument to a layer. When using Sequential models, prefer using an `Input(shape)` object as the first layer in the model instead.\n",
            "  super().__init__(**kwargs)\n"
          ]
        }
      ],
      "source": [
        "model = keras.models.Sequential()\n",
        "model.add(keras.layers.Flatten(input_shape=[28, 28]))\n",
        "model.add(keras.layers.Dense(300, activation=\"relu\"))\n",
        "model.add(keras.layers.Dense(100, activation=\"relu\"))\n",
        "model.add(keras.layers.Dense(10, activation=\"softmax\"))"
      ]
    },
    {
      "cell_type": "code",
      "execution_count": 36,
      "metadata": {
        "id": "3fzq3sAbaIOo"
      },
      "outputs": [],
      "source": [
        "keras.backend.clear_session()\n",
        "np.random.seed(42)\n",
        "tf.random.set_seed(42)"
      ]
    },
    {
      "cell_type": "code",
      "execution_count": 37,
      "metadata": {
        "id": "5mAZYcRwaIOo"
      },
      "outputs": [],
      "source": [
        "model = keras.models.Sequential([\n",
        "    keras.layers.Flatten(input_shape=[28, 28]),\n",
        "    keras.layers.Dense(300, activation=\"relu\"),\n",
        "    keras.layers.Dense(100, activation=\"relu\"),\n",
        "    keras.layers.Dense(10, activation=\"softmax\")\n",
        "])"
      ]
    },
    {
      "cell_type": "code",
      "execution_count": 38,
      "metadata": {
        "colab": {
          "base_uri": "https://localhost:8080/"
        },
        "id": "E_takmmhaIOo",
        "outputId": "a67534db-c543-4a5f-f514-209a03339e12"
      },
      "outputs": [
        {
          "output_type": "execute_result",
          "data": {
            "text/plain": [
              "[<Flatten name=flatten, built=True>,\n",
              " <Dense name=dense, built=True>,\n",
              " <Dense name=dense_1, built=True>,\n",
              " <Dense name=dense_2, built=True>]"
            ]
          },
          "metadata": {},
          "execution_count": 38
        }
      ],
      "source": [
        "model.layers"
      ]
    },
    {
      "cell_type": "code",
      "execution_count": 39,
      "metadata": {
        "colab": {
          "base_uri": "https://localhost:8080/",
          "height": 256
        },
        "id": "2u4-NIUcaIOo",
        "outputId": "5f0c4f07-d8d7-4a12-c313-1bba65e08ae2"
      },
      "outputs": [
        {
          "output_type": "display_data",
          "data": {
            "text/plain": [
              "\u001b[1mModel: \"sequential\"\u001b[0m\n"
            ],
            "text/html": [
              "<pre style=\"white-space:pre;overflow-x:auto;line-height:normal;font-family:Menlo,'DejaVu Sans Mono',consolas,'Courier New',monospace\"><span style=\"font-weight: bold\">Model: \"sequential\"</span>\n",
              "</pre>\n"
            ]
          },
          "metadata": {}
        },
        {
          "output_type": "display_data",
          "data": {
            "text/plain": [
              "┏━━━━━━━━━━━━━━━━━━━━━━━━━━━━━━━━━┳━━━━━━━━━━━━━━━━━━━━━━━━┳━━━━━━━━━━━━━━━┓\n",
              "┃\u001b[1m \u001b[0m\u001b[1mLayer (type)                   \u001b[0m\u001b[1m \u001b[0m┃\u001b[1m \u001b[0m\u001b[1mOutput Shape          \u001b[0m\u001b[1m \u001b[0m┃\u001b[1m \u001b[0m\u001b[1m      Param #\u001b[0m\u001b[1m \u001b[0m┃\n",
              "┡━━━━━━━━━━━━━━━━━━━━━━━━━━━━━━━━━╇━━━━━━━━━━━━━━━━━━━━━━━━╇━━━━━━━━━━━━━━━┩\n",
              "│ flatten (\u001b[38;5;33mFlatten\u001b[0m)               │ (\u001b[38;5;45mNone\u001b[0m, \u001b[38;5;34m784\u001b[0m)            │             \u001b[38;5;34m0\u001b[0m │\n",
              "├─────────────────────────────────┼────────────────────────┼───────────────┤\n",
              "│ dense (\u001b[38;5;33mDense\u001b[0m)                   │ (\u001b[38;5;45mNone\u001b[0m, \u001b[38;5;34m300\u001b[0m)            │       \u001b[38;5;34m235,500\u001b[0m │\n",
              "├─────────────────────────────────┼────────────────────────┼───────────────┤\n",
              "│ dense_1 (\u001b[38;5;33mDense\u001b[0m)                 │ (\u001b[38;5;45mNone\u001b[0m, \u001b[38;5;34m100\u001b[0m)            │        \u001b[38;5;34m30,100\u001b[0m │\n",
              "├─────────────────────────────────┼────────────────────────┼───────────────┤\n",
              "│ dense_2 (\u001b[38;5;33mDense\u001b[0m)                 │ (\u001b[38;5;45mNone\u001b[0m, \u001b[38;5;34m10\u001b[0m)             │         \u001b[38;5;34m1,010\u001b[0m │\n",
              "└─────────────────────────────────┴────────────────────────┴───────────────┘\n"
            ],
            "text/html": [
              "<pre style=\"white-space:pre;overflow-x:auto;line-height:normal;font-family:Menlo,'DejaVu Sans Mono',consolas,'Courier New',monospace\">┏━━━━━━━━━━━━━━━━━━━━━━━━━━━━━━━━━┳━━━━━━━━━━━━━━━━━━━━━━━━┳━━━━━━━━━━━━━━━┓\n",
              "┃<span style=\"font-weight: bold\"> Layer (type)                    </span>┃<span style=\"font-weight: bold\"> Output Shape           </span>┃<span style=\"font-weight: bold\">       Param # </span>┃\n",
              "┡━━━━━━━━━━━━━━━━━━━━━━━━━━━━━━━━━╇━━━━━━━━━━━━━━━━━━━━━━━━╇━━━━━━━━━━━━━━━┩\n",
              "│ flatten (<span style=\"color: #0087ff; text-decoration-color: #0087ff\">Flatten</span>)               │ (<span style=\"color: #00d7ff; text-decoration-color: #00d7ff\">None</span>, <span style=\"color: #00af00; text-decoration-color: #00af00\">784</span>)            │             <span style=\"color: #00af00; text-decoration-color: #00af00\">0</span> │\n",
              "├─────────────────────────────────┼────────────────────────┼───────────────┤\n",
              "│ dense (<span style=\"color: #0087ff; text-decoration-color: #0087ff\">Dense</span>)                   │ (<span style=\"color: #00d7ff; text-decoration-color: #00d7ff\">None</span>, <span style=\"color: #00af00; text-decoration-color: #00af00\">300</span>)            │       <span style=\"color: #00af00; text-decoration-color: #00af00\">235,500</span> │\n",
              "├─────────────────────────────────┼────────────────────────┼───────────────┤\n",
              "│ dense_1 (<span style=\"color: #0087ff; text-decoration-color: #0087ff\">Dense</span>)                 │ (<span style=\"color: #00d7ff; text-decoration-color: #00d7ff\">None</span>, <span style=\"color: #00af00; text-decoration-color: #00af00\">100</span>)            │        <span style=\"color: #00af00; text-decoration-color: #00af00\">30,100</span> │\n",
              "├─────────────────────────────────┼────────────────────────┼───────────────┤\n",
              "│ dense_2 (<span style=\"color: #0087ff; text-decoration-color: #0087ff\">Dense</span>)                 │ (<span style=\"color: #00d7ff; text-decoration-color: #00d7ff\">None</span>, <span style=\"color: #00af00; text-decoration-color: #00af00\">10</span>)             │         <span style=\"color: #00af00; text-decoration-color: #00af00\">1,010</span> │\n",
              "└─────────────────────────────────┴────────────────────────┴───────────────┘\n",
              "</pre>\n"
            ]
          },
          "metadata": {}
        },
        {
          "output_type": "display_data",
          "data": {
            "text/plain": [
              "\u001b[1m Total params: \u001b[0m\u001b[38;5;34m266,610\u001b[0m (1.02 MB)\n"
            ],
            "text/html": [
              "<pre style=\"white-space:pre;overflow-x:auto;line-height:normal;font-family:Menlo,'DejaVu Sans Mono',consolas,'Courier New',monospace\"><span style=\"font-weight: bold\"> Total params: </span><span style=\"color: #00af00; text-decoration-color: #00af00\">266,610</span> (1.02 MB)\n",
              "</pre>\n"
            ]
          },
          "metadata": {}
        },
        {
          "output_type": "display_data",
          "data": {
            "text/plain": [
              "\u001b[1m Trainable params: \u001b[0m\u001b[38;5;34m266,610\u001b[0m (1.02 MB)\n"
            ],
            "text/html": [
              "<pre style=\"white-space:pre;overflow-x:auto;line-height:normal;font-family:Menlo,'DejaVu Sans Mono',consolas,'Courier New',monospace\"><span style=\"font-weight: bold\"> Trainable params: </span><span style=\"color: #00af00; text-decoration-color: #00af00\">266,610</span> (1.02 MB)\n",
              "</pre>\n"
            ]
          },
          "metadata": {}
        },
        {
          "output_type": "display_data",
          "data": {
            "text/plain": [
              "\u001b[1m Non-trainable params: \u001b[0m\u001b[38;5;34m0\u001b[0m (0.00 B)\n"
            ],
            "text/html": [
              "<pre style=\"white-space:pre;overflow-x:auto;line-height:normal;font-family:Menlo,'DejaVu Sans Mono',consolas,'Courier New',monospace\"><span style=\"font-weight: bold\"> Non-trainable params: </span><span style=\"color: #00af00; text-decoration-color: #00af00\">0</span> (0.00 B)\n",
              "</pre>\n"
            ]
          },
          "metadata": {}
        }
      ],
      "source": [
        "model.summary()"
      ]
    },
    {
      "cell_type": "code",
      "execution_count": 41,
      "metadata": {
        "colab": {
          "base_uri": "https://localhost:8080/",
          "height": 1000
        },
        "id": "NpHw0YJbaIOo",
        "outputId": "ddb4bca8-6703-46a0-8a4c-d68f22b3591c"
      },
      "outputs": [
        {
          "output_type": "execute_result",
          "data": {
            "image/png": "[encoded data removed]",
            "text/plain": [
              "<IPython.core.display.Image object>"
            ]
          },
          "metadata": {},
          "execution_count": 41
        }
      ],
      "source": [
        "keras.utils.plot_model(model, \"my_fashion_mnist_model.png\", show_shapes=True)"
      ]
    },
    {
      "cell_type": "code",
      "execution_count": 42,
      "metadata": {
        "colab": {
          "base_uri": "https://localhost:8080/",
          "height": 36
        },
        "id": "cDZv2NuDaIOo",
        "outputId": "c9c8faa6-02c0-4c21-f968-687f745a0c1e"
      },
      "outputs": [
        {
          "output_type": "execute_result",
          "data": {
            "text/plain": [
              "'dense'"
            ],
            "application/vnd.google.colaboratory.intrinsic+json": {
              "type": "string"
            }
          },
          "metadata": {},
          "execution_count": 42
        }
      ],
      "source": [
        "hidden1 = model.layers[1]\n",
        "hidden1.name"
      ]
    },
    {
      "cell_type": "code",
      "execution_count": 43,
      "metadata": {
        "colab": {
          "base_uri": "https://localhost:8080/"
        },
        "id": "A8rgIuf1aIOp",
        "outputId": "92140d2b-08f2-4f41-d6a4-bc4dd9c6e1f9"
      },
      "outputs": [
        {
          "output_type": "execute_result",
          "data": {
            "text/plain": [
              "True"
            ]
          },
          "metadata": {},
          "execution_count": 43
        }
      ],
      "source": [
        "model.get_layer(hidden1.name) is hidden1"
      ]
    },
    {
      "cell_type": "code",
      "execution_count": 44,
      "metadata": {
        "id": "uClUyIXtaIOp"
      },
      "outputs": [],
      "source": [
        "weights, biases = hidden1.get_weights()"
      ]
    },
    {
      "cell_type": "code",
      "execution_count": 45,
      "metadata": {
        "colab": {
          "base_uri": "https://localhost:8080/"
        },
        "id": "6lMgzBk5aIOp",
        "outputId": "31800cac-fac9-4166-b870-2c533892bf64"
      },
      "outputs": [
        {
          "output_type": "execute_result",
          "data": {
            "text/plain": [
              "array([[ 0.05675703, -0.00141683, -0.067664  , ...,  0.02885544,\n",
              "         0.05025244,  0.02420082],\n",
              "       [-0.06281749, -0.02315574,  0.04698578, ...,  0.05876815,\n",
              "         0.05804101, -0.06069702],\n",
              "       [-0.00984596,  0.01563631,  0.05817065, ...,  0.00337594,\n",
              "        -0.01043034, -0.04658294],\n",
              "       ...,\n",
              "       [-0.04192143, -0.01523955,  0.06208651, ..., -0.06224906,\n",
              "         0.05914046, -0.06341432],\n",
              "       [-0.03176679,  0.00758523,  0.02946752, ..., -0.05630162,\n",
              "        -0.04331804,  0.05323236],\n",
              "       [-0.00906711, -0.00904571,  0.01762043, ...,  0.07221501,\n",
              "         0.05492724,  0.00701466]], dtype=float32)"
            ]
          },
          "metadata": {},
          "execution_count": 45
        }
      ],
      "source": [
        "weights"
      ]
    },
    {
      "cell_type": "code",
      "execution_count": 46,
      "metadata": {
        "colab": {
          "base_uri": "https://localhost:8080/"
        },
        "id": "9GrXxFBYaIOp",
        "outputId": "28e81404-59d7-4797-c466-b886d598ac34"
      },
      "outputs": [
        {
          "output_type": "execute_result",
          "data": {
            "text/plain": [
              "(784, 300)"
            ]
          },
          "metadata": {},
          "execution_count": 46
        }
      ],
      "source": [
        "weights.shape\n",
        "#random weights are provided"
      ]
    },
    {
      "cell_type": "code",
      "execution_count": 47,
      "metadata": {
        "colab": {
          "base_uri": "https://localhost:8080/"
        },
        "id": "mUUrrR7VaIOp",
        "outputId": "4b5bbaf2-14ff-4135-a548-4bbbc3b4814b"
      },
      "outputs": [
        {
          "output_type": "execute_result",
          "data": {
            "text/plain": [
              "array([0., 0., 0., 0., 0., 0., 0., 0., 0., 0., 0., 0., 0., 0., 0., 0., 0.,\n",
              "       0., 0., 0., 0., 0., 0., 0., 0., 0., 0., 0., 0., 0., 0., 0., 0., 0.,\n",
              "       0., 0., 0., 0., 0., 0., 0., 0., 0., 0., 0., 0., 0., 0., 0., 0., 0.,\n",
              "       0., 0., 0., 0., 0., 0., 0., 0., 0., 0., 0., 0., 0., 0., 0., 0., 0.,\n",
              "       0., 0., 0., 0., 0., 0., 0., 0., 0., 0., 0., 0., 0., 0., 0., 0., 0.,\n",
              "       0., 0., 0., 0., 0., 0., 0., 0., 0., 0., 0., 0., 0., 0., 0., 0., 0.,\n",
              "       0., 0., 0., 0., 0., 0., 0., 0., 0., 0., 0., 0., 0., 0., 0., 0., 0.,\n",
              "       0., 0., 0., 0., 0., 0., 0., 0., 0., 0., 0., 0., 0., 0., 0., 0., 0.,\n",
              "       0., 0., 0., 0., 0., 0., 0., 0., 0., 0., 0., 0., 0., 0., 0., 0., 0.,\n",
              "       0., 0., 0., 0., 0., 0., 0., 0., 0., 0., 0., 0., 0., 0., 0., 0., 0.,\n",
              "       0., 0., 0., 0., 0., 0., 0., 0., 0., 0., 0., 0., 0., 0., 0., 0., 0.,\n",
              "       0., 0., 0., 0., 0., 0., 0., 0., 0., 0., 0., 0., 0., 0., 0., 0., 0.,\n",
              "       0., 0., 0., 0., 0., 0., 0., 0., 0., 0., 0., 0., 0., 0., 0., 0., 0.,\n",
              "       0., 0., 0., 0., 0., 0., 0., 0., 0., 0., 0., 0., 0., 0., 0., 0., 0.,\n",
              "       0., 0., 0., 0., 0., 0., 0., 0., 0., 0., 0., 0., 0., 0., 0., 0., 0.,\n",
              "       0., 0., 0., 0., 0., 0., 0., 0., 0., 0., 0., 0., 0., 0., 0., 0., 0.,\n",
              "       0., 0., 0., 0., 0., 0., 0., 0., 0., 0., 0., 0., 0., 0., 0., 0., 0.,\n",
              "       0., 0., 0., 0., 0., 0., 0., 0., 0., 0., 0.], dtype=float32)"
            ]
          },
          "metadata": {},
          "execution_count": 47
        }
      ],
      "source": [
        "\n",
        "biases"
      ]
    },
    {
      "cell_type": "code",
      "execution_count": 48,
      "metadata": {
        "colab": {
          "base_uri": "https://localhost:8080/"
        },
        "id": "k3LEZ8dcaIOp",
        "outputId": "4266f71a-c90c-4580-d0d5-a20f00ef9a86"
      },
      "outputs": [
        {
          "output_type": "execute_result",
          "data": {
            "text/plain": [
              "(300,)"
            ]
          },
          "metadata": {},
          "execution_count": 48
        }
      ],
      "source": [
        "biases.shape"
      ]
    },
    {
      "cell_type": "code",
      "execution_count": 50,
      "metadata": {
        "id": "tmIdtITvaIOp"
      },
      "outputs": [],
      "source": [
        "model.compile(loss=\"sparse_categorical_crossentropy\",\n",
        "              optimizer=\"sgd\",\n",
        "              metrics=[\"accuracy\"])"
      ]
    },
    {
      "cell_type": "markdown",
      "metadata": {
        "id": "Tvl82N96aIOq"
      },
      "source": [
        "This is equivalent to:"
      ]
    },
    {
      "cell_type": "markdown",
      "metadata": {
        "id": "i5MdGCvZaIOq"
      },
      "source": [
        "```python\n",
        "model.compile(loss=keras.losses.sparse_categorical_crossentropy,\n",
        "              optimizer=keras.optimizers.SGD(),\n",
        "              metrics=[keras.metrics.sparse_categorical_accuracy])\n",
        "```"
      ]
    },
    {
      "cell_type": "code",
      "source": [
        "history = model.fit(X_train, y_train, epochs=30,\n",
        "                    validation_data=(X_valid, y_valid))"
      ],
      "metadata": {
        "id": "87v4ujXHaIOq",
        "outputId": "00583dd2-4dc1-48a8-d21c-75e6d0b179f7",
        "colab": {
          "base_uri": "https://localhost:8080/"
        }
      },
      "execution_count": 51,
      "outputs": [
        {
          "output_type": "stream",
          "name": "stdout",
          "text": [
            "Epoch 1/30\n",
            "\u001b[1m1719/1719\u001b[0m \u001b[32m━━━━━━━━━━━━━━━━━━━━\u001b[0m\u001b[37m\u001b[0m \u001b[1m7s\u001b[0m 4ms/step - accuracy: 0.7026 - loss: 0.9665 - val_accuracy: 0.8296 - val_loss: 0.5097\n",
            "Epoch 2/30\n",
            "\u001b[1m1719/1719\u001b[0m \u001b[32m━━━━━━━━━━━━━━━━━━━━\u001b[0m\u001b[37m\u001b[0m \u001b[1m10s\u001b[0m 4ms/step - accuracy: 0.8260 - loss: 0.4989 - val_accuracy: 0.8470 - val_loss: 0.4465\n",
            "Epoch 3/30\n",
            "\u001b[1m1719/1719\u001b[0m \u001b[32m━━━━━━━━━━━━━━━━━━━━\u001b[0m\u001b[37m\u001b[0m \u001b[1m8s\u001b[0m 4ms/step - accuracy: 0.8427 - loss: 0.4464 - val_accuracy: 0.8572 - val_loss: 0.4151\n",
            "Epoch 4/30\n",
            "\u001b[1m1719/1719\u001b[0m \u001b[32m━━━━━━━━━━━━━━━━━━━━\u001b[0m\u001b[37m\u001b[0m \u001b[1m7s\u001b[0m 4ms/step - accuracy: 0.8523 - loss: 0.4164 - val_accuracy: 0.8636 - val_loss: 0.3944\n",
            "Epoch 5/30\n",
            "\u001b[1m1719/1719\u001b[0m \u001b[32m━━━━━━━━━━━━━━━━━━━━\u001b[0m\u001b[37m\u001b[0m \u001b[1m11s\u001b[0m 4ms/step - accuracy: 0.8602 - loss: 0.3949 - val_accuracy: 0.8688 - val_loss: 0.3789\n",
            "Epoch 6/30\n",
            "\u001b[1m1719/1719\u001b[0m \u001b[32m━━━━━━━━━━━━━━━━━━━━\u001b[0m\u001b[37m\u001b[0m \u001b[1m11s\u001b[0m 5ms/step - accuracy: 0.8658 - loss: 0.3780 - val_accuracy: 0.8722 - val_loss: 0.3680\n",
            "Epoch 7/30\n",
            "\u001b[1m1719/1719\u001b[0m \u001b[32m━━━━━━━━━━━━━━━━━━━━\u001b[0m\u001b[37m\u001b[0m \u001b[1m6s\u001b[0m 4ms/step - accuracy: 0.8700 - loss: 0.3641 - val_accuracy: 0.8742 - val_loss: 0.3589\n",
            "Epoch 8/30\n",
            "\u001b[1m1719/1719\u001b[0m \u001b[32m━━━━━━━━━━━━━━━━━━━━\u001b[0m\u001b[37m\u001b[0m \u001b[1m8s\u001b[0m 4ms/step - accuracy: 0.8741 - loss: 0.3522 - val_accuracy: 0.8754 - val_loss: 0.3511\n",
            "Epoch 9/30\n",
            "\u001b[1m1719/1719\u001b[0m \u001b[32m━━━━━━━━━━━━━━━━━━━━\u001b[0m\u001b[37m\u001b[0m \u001b[1m10s\u001b[0m 4ms/step - accuracy: 0.8782 - loss: 0.3419 - val_accuracy: 0.8784 - val_loss: 0.3448\n",
            "Epoch 10/30\n",
            "\u001b[1m1719/1719\u001b[0m \u001b[32m━━━━━━━━━━━━━━━━━━━━\u001b[0m\u001b[37m\u001b[0m \u001b[1m11s\u001b[0m 5ms/step - accuracy: 0.8813 - loss: 0.3323 - val_accuracy: 0.8802 - val_loss: 0.3389\n",
            "Epoch 11/30\n",
            "\u001b[1m1719/1719\u001b[0m \u001b[32m━━━━━━━━━━━━━━━━━━━━\u001b[0m\u001b[37m\u001b[0m \u001b[1m9s\u001b[0m 4ms/step - accuracy: 0.8836 - loss: 0.3236 - val_accuracy: 0.8814 - val_loss: 0.3343\n",
            "Epoch 12/30\n",
            "\u001b[1m1719/1719\u001b[0m \u001b[32m━━━━━━━━━━━━━━━━━━━━\u001b[0m\u001b[37m\u001b[0m \u001b[1m8s\u001b[0m 5ms/step - accuracy: 0.8865 - loss: 0.3159 - val_accuracy: 0.8826 - val_loss: 0.3298\n",
            "Epoch 13/30\n",
            "\u001b[1m1719/1719\u001b[0m \u001b[32m━━━━━━━━━━━━━━━━━━━━\u001b[0m\u001b[37m\u001b[0m \u001b[1m8s\u001b[0m 4ms/step - accuracy: 0.8887 - loss: 0.3084 - val_accuracy: 0.8830 - val_loss: 0.3277\n",
            "Epoch 14/30\n",
            "\u001b[1m1719/1719\u001b[0m \u001b[32m━━━━━━━━━━━━━━━━━━━━\u001b[0m\u001b[37m\u001b[0m \u001b[1m9s\u001b[0m 4ms/step - accuracy: 0.8912 - loss: 0.3016 - val_accuracy: 0.8828 - val_loss: 0.3240\n",
            "Epoch 15/30\n",
            "\u001b[1m1719/1719\u001b[0m \u001b[32m━━━━━━━━━━━━━━━━━━━━\u001b[0m\u001b[37m\u001b[0m \u001b[1m8s\u001b[0m 4ms/step - accuracy: 0.8932 - loss: 0.2954 - val_accuracy: 0.8834 - val_loss: 0.3217\n",
            "Epoch 16/30\n",
            "\u001b[1m1719/1719\u001b[0m \u001b[32m━━━━━━━━━━━━━━━━━━━━\u001b[0m\u001b[37m\u001b[0m \u001b[1m7s\u001b[0m 4ms/step - accuracy: 0.8955 - loss: 0.2894 - val_accuracy: 0.8846 - val_loss: 0.3194\n",
            "Epoch 17/30\n",
            "\u001b[1m1719/1719\u001b[0m \u001b[32m━━━━━━━━━━━━━━━━━━━━\u001b[0m\u001b[37m\u001b[0m \u001b[1m8s\u001b[0m 5ms/step - accuracy: 0.8973 - loss: 0.2836 - val_accuracy: 0.8848 - val_loss: 0.3167\n",
            "Epoch 18/30\n",
            "\u001b[1m1719/1719\u001b[0m \u001b[32m━━━━━━━━━━━━━━━━━━━━\u001b[0m\u001b[37m\u001b[0m \u001b[1m10s\u001b[0m 5ms/step - accuracy: 0.8996 - loss: 0.2780 - val_accuracy: 0.8846 - val_loss: 0.3138\n",
            "Epoch 19/30\n",
            "\u001b[1m1719/1719\u001b[0m \u001b[32m━━━━━━━━━━━━━━━━━━━━\u001b[0m\u001b[37m\u001b[0m \u001b[1m9s\u001b[0m 4ms/step - accuracy: 0.9016 - loss: 0.2727 - val_accuracy: 0.8848 - val_loss: 0.3128\n",
            "Epoch 20/30\n",
            "\u001b[1m1719/1719\u001b[0m \u001b[32m━━━━━━━━━━━━━━━━━━━━\u001b[0m\u001b[37m\u001b[0m \u001b[1m10s\u001b[0m 4ms/step - accuracy: 0.9038 - loss: 0.2677 - val_accuracy: 0.8838 - val_loss: 0.3111\n",
            "Epoch 21/30\n",
            "\u001b[1m1719/1719\u001b[0m \u001b[32m━━━━━━━━━━━━━━━━━━━━\u001b[0m\u001b[37m\u001b[0m \u001b[1m8s\u001b[0m 5ms/step - accuracy: 0.9057 - loss: 0.2629 - val_accuracy: 0.8854 - val_loss: 0.3107\n",
            "Epoch 22/30\n",
            "\u001b[1m1719/1719\u001b[0m \u001b[32m━━━━━━━━━━━━━━━━━━━━\u001b[0m\u001b[37m\u001b[0m \u001b[1m7s\u001b[0m 4ms/step - accuracy: 0.9078 - loss: 0.2582 - val_accuracy: 0.8862 - val_loss: 0.3093\n",
            "Epoch 23/30\n",
            "\u001b[1m1719/1719\u001b[0m \u001b[32m━━━━━━━━━━━━━━━━━━━━\u001b[0m\u001b[37m\u001b[0m \u001b[1m8s\u001b[0m 5ms/step - accuracy: 0.9098 - loss: 0.2535 - val_accuracy: 0.8862 - val_loss: 0.3081\n",
            "Epoch 24/30\n",
            "\u001b[1m1719/1719\u001b[0m \u001b[32m━━━━━━━━━━━━━━━━━━━━\u001b[0m\u001b[37m\u001b[0m \u001b[1m8s\u001b[0m 5ms/step - accuracy: 0.9123 - loss: 0.2491 - val_accuracy: 0.8880 - val_loss: 0.3058\n",
            "Epoch 25/30\n",
            "\u001b[1m1719/1719\u001b[0m \u001b[32m━━━━━━━━━━━━━━━━━━━━\u001b[0m\u001b[37m\u001b[0m \u001b[1m7s\u001b[0m 4ms/step - accuracy: 0.9134 - loss: 0.2447 - val_accuracy: 0.8882 - val_loss: 0.3044\n",
            "Epoch 26/30\n",
            "\u001b[1m1719/1719\u001b[0m \u001b[32m━━━━━━━━━━━━━━━━━━━━\u001b[0m\u001b[37m\u001b[0m \u001b[1m10s\u001b[0m 4ms/step - accuracy: 0.9150 - loss: 0.2406 - val_accuracy: 0.8878 - val_loss: 0.3034\n",
            "Epoch 27/30\n",
            "\u001b[1m1719/1719\u001b[0m \u001b[32m━━━━━━━━━━━━━━━━━━━━\u001b[0m\u001b[37m\u001b[0m \u001b[1m8s\u001b[0m 5ms/step - accuracy: 0.9163 - loss: 0.2364 - val_accuracy: 0.8878 - val_loss: 0.3017\n",
            "Epoch 28/30\n",
            "\u001b[1m1719/1719\u001b[0m \u001b[32m━━━━━━━━━━━━━━━━━━━━\u001b[0m\u001b[37m\u001b[0m \u001b[1m7s\u001b[0m 4ms/step - accuracy: 0.9175 - loss: 0.2325 - val_accuracy: 0.8894 - val_loss: 0.3010\n",
            "Epoch 29/30\n",
            "\u001b[1m1719/1719\u001b[0m \u001b[32m━━━━━━━━━━━━━━━━━━━━\u001b[0m\u001b[37m\u001b[0m \u001b[1m8s\u001b[0m 5ms/step - accuracy: 0.9191 - loss: 0.2285 - val_accuracy: 0.8892 - val_loss: 0.2991\n",
            "Epoch 30/30\n",
            "\u001b[1m1719/1719\u001b[0m \u001b[32m━━━━━━━━━━━━━━━━━━━━\u001b[0m\u001b[37m\u001b[0m \u001b[1m7s\u001b[0m 4ms/step - accuracy: 0.9206 - loss: 0.2247 - val_accuracy: 0.8902 - val_loss: 0.2986\n"
          ]
        }
      ]
    },
    {
      "cell_type": "markdown",
      "source": [
        "![image.png]()all lossese are auto evaluated here\n"
      ],
      "metadata": {
        "id": "ij83j14TLtZj"
      }
    },
    {
      "cell_type": "code",
      "execution_count": 54,
      "metadata": {
        "colab": {
          "base_uri": "https://localhost:8080/"
        },
        "id": "ugi_4oVmaIOq",
        "outputId": "23a975b4-3e2f-43f0-e7a3-fb72dd369e23"
      },
      "outputs": [
        {
          "output_type": "execute_result",
          "data": {
            "text/plain": [
              "{'verbose': 'auto', 'epochs': 30, 'steps': 1719}"
            ]
          },
          "metadata": {},
          "execution_count": 54
        }
      ],
      "source": [
        "history.params"
      ]
    },
    {
      "cell_type": "code",
      "execution_count": 55,
      "metadata": {
        "colab": {
          "base_uri": "https://localhost:8080/"
        },
        "id": "umj3zg42aIOq",
        "outputId": "4c02fe0a-ebbf-405f-f08f-9a0ca7ee5f74"
      },
      "outputs": [
        {
          "output_type": "stream",
          "name": "stdout",
          "text": [
            "[0, 1, 2, 3, 4, 5, 6, 7, 8, 9, 10, 11, 12, 13, 14, 15, 16, 17, 18, 19, 20, 21, 22, 23, 24, 25, 26, 27, 28, 29]\n"
          ]
        }
      ],
      "source": [
        "print(history.epoch)"
      ]
    },
    {
      "cell_type": "code",
      "execution_count": 56,
      "metadata": {
        "colab": {
          "base_uri": "https://localhost:8080/"
        },
        "id": "Yz5U6EnyaIOq",
        "outputId": "ed61cc63-f97b-47ac-ac7f-e3d97cde9e6b"
      },
      "outputs": [
        {
          "output_type": "execute_result",
          "data": {
            "text/plain": [
              "dict_keys(['accuracy', 'loss', 'val_accuracy', 'val_loss'])"
            ]
          },
          "metadata": {},
          "execution_count": 56
        }
      ],
      "source": [
        "history.history.keys()"
      ]
    },
    {
      "cell_type": "code",
      "execution_count": 61,
      "metadata": {
        "colab": {
          "base_uri": "https://localhost:8080/",
          "height": 451
        },
        "id": "gRFbTf4qaIOq",
        "outputId": "326f8632-6591-4228-c0c3-e4ec7e044f68"
      },
      "outputs": [
        {
          "output_type": "display_data",
          "data": {
            "text/plain": [
              "<Figure size 800x500 with 1 Axes>"
            ],
            "image/png": "[encoded data removed]"
          },
          "metadata": {}
        }
      ],
      "source": [
        "import pandas as pd\n",
        "\n",
        "pd.DataFrame(history.history).plot(figsize=(8, 5))\n",
        "plt.grid(True)\n",
        "plt.gca().set_ylim(0, 1)\n",
        "plt.savefig(\"keras_learning_curves_plot\")\n",
        "plt.show()"
      ]
    },
    {
      "cell_type": "code",
      "execution_count": 62,
      "metadata": {
        "colab": {
          "base_uri": "https://localhost:8080/"
        },
        "id": "snvcQuZTaIOq",
        "outputId": "648f155b-65dd-4cd4-dc71-44da80144b11"
      },
      "outputs": [
        {
          "output_type": "stream",
          "name": "stdout",
          "text": [
            "\u001b[1m313/313\u001b[0m \u001b[32m━━━━━━━━━━━━━━━━━━━━\u001b[0m\u001b[37m\u001b[0m \u001b[1m1s\u001b[0m 2ms/step - accuracy: 0.8777 - loss: 0.3508\n"
          ]
        },
        {
          "output_type": "execute_result",
          "data": {
            "text/plain": [
              "[0.3478280305862427, 0.8787000179290771]"
            ]
          },
          "metadata": {},
          "execution_count": 62
        }
      ],
      "source": [
        "model.evaluate(X_test, y_test)"
      ]
    },
    {
      "cell_type": "code",
      "execution_count": 63,
      "metadata": {
        "colab": {
          "base_uri": "https://localhost:8080/"
        },
        "id": "2D38VSqzaIOr",
        "outputId": "73fd54bb-5748-4450-dad8-db2f4fe0f2b3"
      },
      "outputs": [
        {
          "output_type": "stream",
          "name": "stdout",
          "text": [
            "\u001b[1m1/1\u001b[0m \u001b[32m━━━━━━━━━━━━━━━━━━━━\u001b[0m\u001b[37m\u001b[0m \u001b[1m0s\u001b[0m 39ms/step\n"
          ]
        },
        {
          "output_type": "execute_result",
          "data": {
            "text/plain": [
              "array([[0.  , 0.  , 0.  , 0.  , 0.  , 0.01, 0.  , 0.03, 0.  , 0.96],\n",
              "       [0.  , 0.  , 1.  , 0.  , 0.  , 0.  , 0.  , 0.  , 0.  , 0.  ],\n",
              "       [0.  , 1.  , 0.  , 0.  , 0.  , 0.  , 0.  , 0.  , 0.  , 0.  ]],\n",
              "      dtype=float32)"
            ]
          },
          "metadata": {},
          "execution_count": 63
        }
      ],
      "source": [
        "X_new = X_test[:3]\n",
        "y_proba = model.predict(X_new)\n",
        "y_proba.round(2)"
      ]
    },
    {
      "cell_type": "markdown",
      "metadata": {
        "id": "Nx9ZwIFoaIOr"
      },
      "source": [
        "**Warning**: `model.predict_classes(X_new)` is deprecated. It is replaced with `np.argmax(model.predict(X_new), axis=-1)`."
      ]
    },
    {
      "cell_type": "code",
      "execution_count": 64,
      "metadata": {
        "colab": {
          "base_uri": "https://localhost:8080/"
        },
        "id": "M0TbczA2aIOr",
        "outputId": "31b8e9a6-eea3-43fd-9032-5496531c88f7"
      },
      "outputs": [
        {
          "output_type": "stream",
          "name": "stdout",
          "text": [
            "\u001b[1m1/1\u001b[0m \u001b[32m━━━━━━━━━━━━━━━━━━━━\u001b[0m\u001b[37m\u001b[0m \u001b[1m0s\u001b[0m 43ms/step\n"
          ]
        },
        {
          "output_type": "execute_result",
          "data": {
            "text/plain": [
              "array([9, 2, 1])"
            ]
          },
          "metadata": {},
          "execution_count": 64
        }
      ],
      "source": [
        "#y_pred = model.predict_classes(X_new) # deprecated\n",
        "y_pred = np.argmax(model.predict(X_new), axis=-1)\n",
        "y_pred"
      ]
    },
    {
      "cell_type": "code",
      "execution_count": null,
      "metadata": {
        "id": "JXcG97jwaIOr",
        "outputId": "8c39e28b-523b-405d-934d-4a3a5df0b9e1"
      },
      "outputs": [
        {
          "data": {
            "text/plain": [
              "array(['Ankle boot', 'Pullover', 'Trouser'], dtype='<U11')"
            ]
          },
          "execution_count": 45,
          "metadata": {},
          "output_type": "execute_result"
        }
      ],
      "source": [
        "np.array(class_names)[y_pred]"
      ]
    },
    {
      "cell_type": "code",
      "execution_count": null,
      "metadata": {
        "id": "y4hArG2MaIOr",
        "outputId": "65665731-1338-4aed-aec4-32d195dc4487"
      },
      "outputs": [
        {
          "data": {
            "text/plain": [
              "array([9, 2, 1], dtype=uint8)"
            ]
          },
          "execution_count": 46,
          "metadata": {},
          "output_type": "execute_result"
        }
      ],
      "source": [
        "y_new = y_test[:3]\n",
        "y_new"
      ]
    },
    {
      "cell_type": "code",
      "execution_count": 67,
      "metadata": {
        "colab": {
          "base_uri": "https://localhost:8080/",
          "height": 223
        },
        "id": "x-wsPaOvaIOr",
        "outputId": "3c580c8e-57aa-4fd1-9887-14b06e4f6ee7"
      },
      "outputs": [
        {
          "output_type": "display_data",
          "data": {
            "text/plain": [
              "<Figure size 720x240 with 3 Axes>"
            ],
            "image/png": "[encoded data removed]"
          },
          "metadata": {}
        }
      ],
      "source": [
        "plt.figure(figsize=(7.2, 2.4))\n",
        "for index, image in enumerate(X_new):\n",
        "    plt.subplot(1, 3, index + 1)\n",
        "    #imp to shape/cmap/inter\n",
        "    plt.imshow(image, cmap=\"binary\", interpolation=\"nearest\")\n",
        "    plt.axis('off')\n",
        "    plt.title(class_names[y_test[index]], fontsize=12)\n",
        "plt.subplots_adjust(wspace=0.2, hspace=0.5)\n",
        "plt.savefig('fashion_mnist_images_plot')\n",
        "plt.show()"
      ]
    },
    {
      "cell_type": "code",
      "source": [
        "import matplotlib.pyplot as plt\n",
        "import seaborn as sns\n",
        "from sklearn.metrics import confusion_matrix\n",
        "import numpy as np\n",
        "\n",
        "def plot_conf_matrix(y_true, y_pred, classes=None, normalize=False,\n",
        "                     title='Confusion Matrix', cmap='Blues',\n",
        "                     figsize=(8, 6), annot_fontsize=14, save_path=None):\n",
        "    \"\"\"\n",
        "    Plots a confusion matrix for classification results.\n",
        "\n",
        "    Parameters:\n",
        "    - y_true: array-like of shape (n_samples,)\n",
        "    - y_pred: array-like of shape (n_samples,)\n",
        "    - classes: list of class names (optional)\n",
        "    - normalize: bool, whether to normalize by row\n",
        "    - title: str, title of the plot\n",
        "    - cmap: str, colormap for heatmap\n",
        "    - figsize: tuple, size of the plot\n",
        "    - annot_fontsize: int, font size for annotations\n",
        "    - save_path: str or None, file path to save the plot\n",
        "    \"\"\"\n",
        "    cm = confusion_matrix(y_true, y_pred)\n",
        "\n",
        "    if normalize:\n",
        "        cm = cm.astype('float') / cm.sum(axis=1, keepdims=True)\n",
        "        cm = np.round(cm, 2)\n",
        "\n",
        "    plt.figure(figsize=figsize)\n",
        "    sns.heatmap(cm, annot=True, fmt=\".2f\" if normalize else \"d\",\n",
        "                cmap=cmap, xticklabels=classes, yticklabels=classes,\n",
        "                annot_kws={\"size\": annot_fontsize}, vmin=0, vmax=1 if normalize else None)\n",
        "\n",
        "    plt.title(title, fontsize=16)\n",
        "    plt.ylabel('True label', fontsize=14)\n",
        "    plt.xlabel('Predicted label', fontsize=14)\n",
        "    plt.tight_layout()\n",
        "\n",
        "    if save_path:\n",
        "        plt.savefig(save_path, dpi=300)\n",
        "\n",
        "    plt.show()"
      ],
      "metadata": {
        "id": "_1ZZRTxWObpH"
      },
      "execution_count": 68,
      "outputs": []
    },
    {
      "cell_type": "code",
      "source": [
        "ypredall=model.predict(X_test)\n",
        "ypredall = np.argmax(ypredall, axis=-1)\n",
        "plot_conf_matrix(y_test, ypredall, classes=class_names, normalize=False,\n",
        "                     title='Confusion Matrix', cmap='Blues',\n",
        "                     figsize=(8, 6), annot_fontsize=14, save_path='CNF')"
      ],
      "metadata": {
        "id": "yAbqT_SxO15V",
        "outputId": "d7c28131-66c3-4cf6-b46f-dd0339b64d4a",
        "colab": {
          "base_uri": "https://localhost:8080/",
          "height": 625
        }
      },
      "execution_count": 73,
      "outputs": [
        {
          "output_type": "stream",
          "name": "stdout",
          "text": [
            "\u001b[1m313/313\u001b[0m \u001b[32m━━━━━━━━━━━━━━━━━━━━\u001b[0m\u001b[37m\u001b[0m \u001b[1m1s\u001b[0m 2ms/step\n"
          ]
        },
        {
          "output_type": "display_data",
          "data": {
            "text/plain": [
              "<Figure size 800x600 with 2 Axes>"
            ],
            "image/png": "[encoded data removed]"
          },
          "metadata": {}
        }
      ]
    },
    {
      "cell_type": "code",
      "source": [],
      "metadata": {
        "id": "wi22ZhgTPwL3"
      },
      "execution_count": 73,
      "outputs": []
    },
    {
      "cell_type": "code",
      "source": [],
      "metadata": {
        "id": "MB3xc00JRIs3"
      },
      "execution_count": null,
      "outputs": []
    },
    {
      "cell_type": "markdown",
      "metadata": {
        "id": "vLwj4rTqaIOs"
      },
      "source": [
        "# Regression MLP"
      ]
    },
    {
      "cell_type": "code",
      "source": [],
      "metadata": {
        "id": "FKibLT36OeZY"
      },
      "execution_count": 73,
      "outputs": []
    },
    {
      "cell_type": "markdown",
      "metadata": {
        "id": "xksjIm6baIOs"
      },
      "source": [
        "Let's load, split and scale the California housing dataset (the original one, not the modified one as in chapter 2):"
      ]
    },
    {
      "cell_type": "code",
      "execution_count": 74,
      "metadata": {
        "id": "7Sby4NoGaIOs"
      },
      "outputs": [],
      "source": [
        "from sklearn.datasets import fetch_california_housing\n",
        "from sklearn.model_selection import train_test_split\n",
        "from sklearn.preprocessing import StandardScaler\n",
        "\n",
        "housing = fetch_california_housing()\n",
        "\n",
        "X_train_full, X_test, y_train_full, y_test = train_test_split(housing.data, housing.target, random_state=42)\n",
        "X_train, X_valid, y_train, y_valid = train_test_split(X_train_full, y_train_full, random_state=42)\n",
        "\n",
        "scaler = StandardScaler()\n",
        "X_train = scaler.fit_transform(X_train)\n",
        "X_valid = scaler.transform(X_valid)\n",
        "X_test = scaler.transform(X_test)"
      ]
    },
    {
      "cell_type": "code",
      "execution_count": 75,
      "metadata": {
        "id": "SWjRvajNaIOs"
      },
      "outputs": [],
      "source": [
        "np.random.seed(42)\n",
        "tf.random.set_seed(42)"
      ]
    },
    {
      "cell_type": "code",
      "execution_count": 76,
      "metadata": {
        "colab": {
          "base_uri": "https://localhost:8080/"
        },
        "id": "nFRwqQlPaIOs",
        "outputId": "d5aac2b2-c737-4a48-81da-40dec95a19b7"
      },
      "outputs": [
        {
          "output_type": "stream",
          "name": "stdout",
          "text": [
            "Epoch 1/20\n"
          ]
        },
        {
          "output_type": "stream",
          "name": "stderr",
          "text": [
            "/usr/local/lib/python3.11/dist-packages/keras/src/layers/core/dense.py:87: UserWarning: Do not pass an `input_shape`/`input_dim` argument to a layer. When using Sequential models, prefer using an `Input(shape)` object as the first layer in the model instead.\n",
            "  super().__init__(activity_regularizer=activity_regularizer, **kwargs)\n"
          ]
        },
        {
          "output_type": "stream",
          "name": "stdout",
          "text": [
            "\u001b[1m363/363\u001b[0m \u001b[32m━━━━━━━━━━━━━━━━━━━━\u001b[0m\u001b[37m\u001b[0m \u001b[1m2s\u001b[0m 4ms/step - loss: 3.0757 - val_loss: 0.9119\n",
            "Epoch 2/20\n",
            "\u001b[1m363/363\u001b[0m \u001b[32m━━━━━━━━━━━━━━━━━━━━\u001b[0m\u001b[37m\u001b[0m \u001b[1m2s\u001b[0m 3ms/step - loss: 0.8873 - val_loss: 0.7305\n",
            "Epoch 3/20\n",
            "\u001b[1m363/363\u001b[0m \u001b[32m━━━━━━━━━━━━━━━━━━━━\u001b[0m\u001b[37m\u001b[0m \u001b[1m1s\u001b[0m 3ms/step - loss: 0.7675 - val_loss: 0.6746\n",
            "Epoch 4/20\n",
            "\u001b[1m363/363\u001b[0m \u001b[32m━━━━━━━━━━━━━━━━━━━━\u001b[0m\u001b[37m\u001b[0m \u001b[1m1s\u001b[0m 2ms/step - loss: 0.7164 - val_loss: 0.6399\n",
            "Epoch 5/20\n",
            "\u001b[1m363/363\u001b[0m \u001b[32m━━━━━━━━━━━━━━━━━━━━\u001b[0m\u001b[37m\u001b[0m \u001b[1m1s\u001b[0m 3ms/step - loss: 0.6760 - val_loss: 0.6087\n",
            "Epoch 6/20\n",
            "\u001b[1m363/363\u001b[0m \u001b[32m━━━━━━━━━━━━━━━━━━━━\u001b[0m\u001b[37m\u001b[0m \u001b[1m1s\u001b[0m 3ms/step - loss: 0.6415 - val_loss: 0.5805\n",
            "Epoch 7/20\n",
            "\u001b[1m363/363\u001b[0m \u001b[32m━━━━━━━━━━━━━━━━━━━━\u001b[0m\u001b[37m\u001b[0m \u001b[1m1s\u001b[0m 2ms/step - loss: 0.6110 - val_loss: 0.5546\n",
            "Epoch 8/20\n",
            "\u001b[1m363/363\u001b[0m \u001b[32m━━━━━━━━━━━━━━━━━━━━\u001b[0m\u001b[37m\u001b[0m \u001b[1m1s\u001b[0m 2ms/step - loss: 0.5838 - val_loss: 0.5312\n",
            "Epoch 9/20\n",
            "\u001b[1m363/363\u001b[0m \u001b[32m━━━━━━━━━━━━━━━━━━━━\u001b[0m\u001b[37m\u001b[0m \u001b[1m1s\u001b[0m 2ms/step - loss: 0.5596 - val_loss: 0.5112\n",
            "Epoch 10/20\n",
            "\u001b[1m363/363\u001b[0m \u001b[32m━━━━━━━━━━━━━━━━━━━━\u001b[0m\u001b[37m\u001b[0m \u001b[1m2s\u001b[0m 3ms/step - loss: 0.5383 - val_loss: 0.4919\n",
            "Epoch 11/20\n",
            "\u001b[1m363/363\u001b[0m \u001b[32m━━━━━━━━━━━━━━━━━━━━\u001b[0m\u001b[37m\u001b[0m \u001b[1m1s\u001b[0m 3ms/step - loss: 0.5196 - val_loss: 0.4748\n",
            "Epoch 12/20\n",
            "\u001b[1m363/363\u001b[0m \u001b[32m━━━━━━━━━━━━━━━━━━━━\u001b[0m\u001b[37m\u001b[0m \u001b[1m1s\u001b[0m 3ms/step - loss: 0.5037 - val_loss: 0.4597\n",
            "Epoch 13/20\n",
            "\u001b[1m363/363\u001b[0m \u001b[32m━━━━━━━━━━━━━━━━━━━━\u001b[0m\u001b[37m\u001b[0m \u001b[1m1s\u001b[0m 2ms/step - loss: 0.4905 - val_loss: 0.4469\n",
            "Epoch 14/20\n",
            "\u001b[1m363/363\u001b[0m \u001b[32m━━━━━━━━━━━━━━━━━━━━\u001b[0m\u001b[37m\u001b[0m \u001b[1m1s\u001b[0m 3ms/step - loss: 0.4796 - val_loss: 0.4364\n",
            "Epoch 15/20\n",
            "\u001b[1m363/363\u001b[0m \u001b[32m━━━━━━━━━━━━━━━━━━━━\u001b[0m\u001b[37m\u001b[0m \u001b[1m1s\u001b[0m 2ms/step - loss: 0.4705 - val_loss: 0.4275\n",
            "Epoch 16/20\n",
            "\u001b[1m363/363\u001b[0m \u001b[32m━━━━━━━━━━━━━━━━━━━━\u001b[0m\u001b[37m\u001b[0m \u001b[1m1s\u001b[0m 3ms/step - loss: 0.4631 - val_loss: 0.4202\n",
            "Epoch 17/20\n",
            "\u001b[1m363/363\u001b[0m \u001b[32m━━━━━━━━━━━━━━━━━━━━\u001b[0m\u001b[37m\u001b[0m \u001b[1m1s\u001b[0m 2ms/step - loss: 0.4569 - val_loss: 0.4140\n",
            "Epoch 18/20\n",
            "\u001b[1m363/363\u001b[0m \u001b[32m━━━━━━━━━━━━━━━━━━━━\u001b[0m\u001b[37m\u001b[0m \u001b[1m1s\u001b[0m 2ms/step - loss: 0.4517 - val_loss: 0.4087\n",
            "Epoch 19/20\n",
            "\u001b[1m363/363\u001b[0m \u001b[32m━━━━━━━━━━━━━━━━━━━━\u001b[0m\u001b[37m\u001b[0m \u001b[1m1s\u001b[0m 2ms/step - loss: 0.4472 - val_loss: 0.4043\n",
            "Epoch 20/20\n",
            "\u001b[1m363/363\u001b[0m \u001b[32m━━━━━━━━━━━━━━━━━━━━\u001b[0m\u001b[37m\u001b[0m \u001b[1m1s\u001b[0m 2ms/step - loss: 0.4433 - val_loss: 0.4005\n",
            "\u001b[1m162/162\u001b[0m \u001b[32m━━━━━━━━━━━━━━━━━━━━\u001b[0m\u001b[37m\u001b[0m \u001b[1m0s\u001b[0m 2ms/step - loss: 0.4272\n",
            "\u001b[1m1/1\u001b[0m \u001b[32m━━━━━━━━━━━━━━━━━━━━\u001b[0m\u001b[37m\u001b[0m \u001b[1m0s\u001b[0m 88ms/step\n"
          ]
        }
      ],
      "source": [
        "model = keras.models.Sequential([\n",
        "    keras.layers.Dense(30, activation=\"relu\", input_shape=X_train.shape[1:]),\n",
        "    keras.layers.Dense(1)\n",
        "])\n",
        "model.compile(loss=\"mean_squared_error\", optimizer=keras.optimizers.SGD(learning_rate=1e-3))\n",
        "history = model.fit(X_train, y_train, epochs=20, validation_data=(X_valid, y_valid))\n",
        "mse_test = model.evaluate(X_test, y_test)\n",
        "X_new = X_test[:3]\n",
        "y_pred = model.predict(X_new)"
      ]
    },
    {
      "cell_type": "code",
      "execution_count": 84,
      "metadata": {
        "colab": {
          "base_uri": "https://localhost:8080/",
          "height": 435
        },
        "id": "MGEIG423aIOs",
        "outputId": "8aa2eb14-fe9c-4766-c051-3646a4666657"
      },
      "outputs": [
        {
          "output_type": "display_data",
          "data": {
            "text/plain": [
              "<Figure size 640x480 with 1 Axes>"
            ],
            "image/png": "[encoded data removed]"
          },
          "metadata": {}
        }
      ],
      "source": [
        "plt.plot(pd.DataFrame(history.history))\n",
        "plt.grid(True)\n",
        "plt.gca().set_ylim(0, 1)\n",
        "#plt.label()\n",
        "plt.show()"
      ]
    },
    {
      "cell_type": "code",
      "execution_count": 78,
      "metadata": {
        "colab": {
          "base_uri": "https://localhost:8080/"
        },
        "id": "sGbVvcsoaIOt",
        "outputId": "0ebe8bfb-d6ea-4a77-cb02-b1be58d77d6a"
      },
      "outputs": [
        {
          "output_type": "execute_result",
          "data": {
            "text/plain": [
              "array([[0.6065312],\n",
              "       [1.7560837],\n",
              "       [3.1584396]], dtype=float32)"
            ]
          },
          "metadata": {},
          "execution_count": 78
        }
      ],
      "source": [
        "y_pred"
      ]
    },
    {
      "cell_type": "markdown",
      "metadata": {
        "id": "5vjq5egVaIOt"
      },
      "source": [
        "# Functional API"
      ]
    },
    {
      "cell_type": "markdown",
      "metadata": {
        "id": "yAZ-X5tnaIOt"
      },
      "source": [
        "Not all neural network models are simply sequential. Some may have complex topologies. Some may have multiple inputs and/or multiple outputs. For example, a Wide & Deep neural network (see [paper](https://ai.google/research/pubs/pub45413)) connects all or part of the inputs directly to the output layer."
      ]
    },
    {
      "cell_type": "code",
      "execution_count": 79,
      "metadata": {
        "id": "1hbZXoJuaIOt"
      },
      "outputs": [],
      "source": [
        "np.random.seed(42)\n",
        "tf.random.set_seed(42)"
      ]
    },
    {
      "cell_type": "code",
      "execution_count": 80,
      "metadata": {
        "id": "aTcMi0OvaIOt"
      },
      "outputs": [],
      "source": [
        "input_ = keras.layers.Input(shape=X_train.shape[1:])\n",
        "hidden1 = keras.layers.Dense(30, activation=\"relu\")(input_)\n",
        "hidden2 = keras.layers.Dense(30, activation=\"relu\")(hidden1)\n",
        "concat = keras.layers.concatenate([input_, hidden2])\n",
        "output = keras.layers.Dense(1)(concat)\n",
        "model = keras.models.Model(inputs=[input_], outputs=[output])"
      ]
    },
    {
      "cell_type": "code",
      "execution_count": 81,
      "metadata": {
        "colab": {
          "base_uri": "https://localhost:8080/",
          "height": 320
        },
        "id": "SDCMn2L_aIOt",
        "outputId": "3077fce7-4cc5-4d47-dff6-84c3cb5a63b4"
      },
      "outputs": [
        {
          "output_type": "display_data",
          "data": {
            "text/plain": [
              "\u001b[1mModel: \"functional_2\"\u001b[0m\n"
            ],
            "text/html": [
              "<pre style=\"white-space:pre;overflow-x:auto;line-height:normal;font-family:Menlo,'DejaVu Sans Mono',consolas,'Courier New',monospace\"><span style=\"font-weight: bold\">Model: \"functional_2\"</span>\n",
              "</pre>\n"
            ]
          },
          "metadata": {}
        },
        {
          "output_type": "display_data",
          "data": {
            "text/plain": [
              "┏━━━━━━━━━━━━━━━━━━━━━┳━━━━━━━━━━━━━━━━━━━┳━━━━━━━━━━━━┳━━━━━━━━━━━━━━━━━━━┓\n",
              "┃\u001b[1m \u001b[0m\u001b[1mLayer (type)       \u001b[0m\u001b[1m \u001b[0m┃\u001b[1m \u001b[0m\u001b[1mOutput Shape     \u001b[0m\u001b[1m \u001b[0m┃\u001b[1m \u001b[0m\u001b[1m   Param #\u001b[0m\u001b[1m \u001b[0m┃\u001b[1m \u001b[0m\u001b[1mConnected to     \u001b[0m\u001b[1m \u001b[0m┃\n",
              "┡━━━━━━━━━━━━━━━━━━━━━╇━━━━━━━━━━━━━━━━━━━╇━━━━━━━━━━━━╇━━━━━━━━━━━━━━━━━━━┩\n",
              "│ input_layer_2       │ (\u001b[38;5;45mNone\u001b[0m, \u001b[38;5;34m8\u001b[0m)         │          \u001b[38;5;34m0\u001b[0m │ -                 │\n",
              "│ (\u001b[38;5;33mInputLayer\u001b[0m)        │                   │            │                   │\n",
              "├─────────────────────┼───────────────────┼────────────┼───────────────────┤\n",
              "│ dense_5 (\u001b[38;5;33mDense\u001b[0m)     │ (\u001b[38;5;45mNone\u001b[0m, \u001b[38;5;34m30\u001b[0m)        │        \u001b[38;5;34m270\u001b[0m │ input_layer_2[\u001b[38;5;34m0\u001b[0m]… │\n",
              "├─────────────────────┼───────────────────┼────────────┼───────────────────┤\n",
              "│ dense_6 (\u001b[38;5;33mDense\u001b[0m)     │ (\u001b[38;5;45mNone\u001b[0m, \u001b[38;5;34m30\u001b[0m)        │        \u001b[38;5;34m930\u001b[0m │ dense_5[\u001b[38;5;34m0\u001b[0m][\u001b[38;5;34m0\u001b[0m]     │\n",
              "├─────────────────────┼───────────────────┼────────────┼───────────────────┤\n",
              "│ concatenate         │ (\u001b[38;5;45mNone\u001b[0m, \u001b[38;5;34m38\u001b[0m)        │          \u001b[38;5;34m0\u001b[0m │ input_layer_2[\u001b[38;5;34m0\u001b[0m]… │\n",
              "│ (\u001b[38;5;33mConcatenate\u001b[0m)       │                   │            │ dense_6[\u001b[38;5;34m0\u001b[0m][\u001b[38;5;34m0\u001b[0m]     │\n",
              "├─────────────────────┼───────────────────┼────────────┼───────────────────┤\n",
              "│ dense_7 (\u001b[38;5;33mDense\u001b[0m)     │ (\u001b[38;5;45mNone\u001b[0m, \u001b[38;5;34m1\u001b[0m)         │         \u001b[38;5;34m39\u001b[0m │ concatenate[\u001b[38;5;34m0\u001b[0m][\u001b[38;5;34m0\u001b[0m] │\n",
              "└─────────────────────┴───────────────────┴────────────┴───────────────────┘\n"
            ],
            "text/html": [
              "<pre style=\"white-space:pre;overflow-x:auto;line-height:normal;font-family:Menlo,'DejaVu Sans Mono',consolas,'Courier New',monospace\">┏━━━━━━━━━━━━━━━━━━━━━┳━━━━━━━━━━━━━━━━━━━┳━━━━━━━━━━━━┳━━━━━━━━━━━━━━━━━━━┓\n",
              "┃<span style=\"font-weight: bold\"> Layer (type)        </span>┃<span style=\"font-weight: bold\"> Output Shape      </span>┃<span style=\"font-weight: bold\">    Param # </span>┃<span style=\"font-weight: bold\"> Connected to      </span>┃\n",
              "┡━━━━━━━━━━━━━━━━━━━━━╇━━━━━━━━━━━━━━━━━━━╇━━━━━━━━━━━━╇━━━━━━━━━━━━━━━━━━━┩\n",
              "│ input_layer_2       │ (<span style=\"color: #00d7ff; text-decoration-color: #00d7ff\">None</span>, <span style=\"color: #00af00; text-decoration-color: #00af00\">8</span>)         │          <span style=\"color: #00af00; text-decoration-color: #00af00\">0</span> │ -                 │\n",
              "│ (<span style=\"color: #0087ff; text-decoration-color: #0087ff\">InputLayer</span>)        │                   │            │                   │\n",
              "├─────────────────────┼───────────────────┼────────────┼───────────────────┤\n",
              "│ dense_5 (<span style=\"color: #0087ff; text-decoration-color: #0087ff\">Dense</span>)     │ (<span style=\"color: #00d7ff; text-decoration-color: #00d7ff\">None</span>, <span style=\"color: #00af00; text-decoration-color: #00af00\">30</span>)        │        <span style=\"color: #00af00; text-decoration-color: #00af00\">270</span> │ input_layer_2[<span style=\"color: #00af00; text-decoration-color: #00af00\">0</span>]… │\n",
              "├─────────────────────┼───────────────────┼────────────┼───────────────────┤\n",
              "│ dense_6 (<span style=\"color: #0087ff; text-decoration-color: #0087ff\">Dense</span>)     │ (<span style=\"color: #00d7ff; text-decoration-color: #00d7ff\">None</span>, <span style=\"color: #00af00; text-decoration-color: #00af00\">30</span>)        │        <span style=\"color: #00af00; text-decoration-color: #00af00\">930</span> │ dense_5[<span style=\"color: #00af00; text-decoration-color: #00af00\">0</span>][<span style=\"color: #00af00; text-decoration-color: #00af00\">0</span>]     │\n",
              "├─────────────────────┼───────────────────┼────────────┼───────────────────┤\n",
              "│ concatenate         │ (<span style=\"color: #00d7ff; text-decoration-color: #00d7ff\">None</span>, <span style=\"color: #00af00; text-decoration-color: #00af00\">38</span>)        │          <span style=\"color: #00af00; text-decoration-color: #00af00\">0</span> │ input_layer_2[<span style=\"color: #00af00; text-decoration-color: #00af00\">0</span>]… │\n",
              "│ (<span style=\"color: #0087ff; text-decoration-color: #0087ff\">Concatenate</span>)       │                   │            │ dense_6[<span style=\"color: #00af00; text-decoration-color: #00af00\">0</span>][<span style=\"color: #00af00; text-decoration-color: #00af00\">0</span>]     │\n",
              "├─────────────────────┼───────────────────┼────────────┼───────────────────┤\n",
              "│ dense_7 (<span style=\"color: #0087ff; text-decoration-color: #0087ff\">Dense</span>)     │ (<span style=\"color: #00d7ff; text-decoration-color: #00d7ff\">None</span>, <span style=\"color: #00af00; text-decoration-color: #00af00\">1</span>)         │         <span style=\"color: #00af00; text-decoration-color: #00af00\">39</span> │ concatenate[<span style=\"color: #00af00; text-decoration-color: #00af00\">0</span>][<span style=\"color: #00af00; text-decoration-color: #00af00\">0</span>] │\n",
              "└─────────────────────┴───────────────────┴────────────┴───────────────────┘\n",
              "</pre>\n"
            ]
          },
          "metadata": {}
        },
        {
          "output_type": "display_data",
          "data": {
            "text/plain": [
              "\u001b[1m Total params: \u001b[0m\u001b[38;5;34m1,239\u001b[0m (4.84 KB)\n"
            ],
            "text/html": [
              "<pre style=\"white-space:pre;overflow-x:auto;line-height:normal;font-family:Menlo,'DejaVu Sans Mono',consolas,'Courier New',monospace\"><span style=\"font-weight: bold\"> Total params: </span><span style=\"color: #00af00; text-decoration-color: #00af00\">1,239</span> (4.84 KB)\n",
              "</pre>\n"
            ]
          },
          "metadata": {}
        },
        {
          "output_type": "display_data",
          "data": {
            "text/plain": [
              "\u001b[1m Trainable params: \u001b[0m\u001b[38;5;34m1,239\u001b[0m (4.84 KB)\n"
            ],
            "text/html": [
              "<pre style=\"white-space:pre;overflow-x:auto;line-height:normal;font-family:Menlo,'DejaVu Sans Mono',consolas,'Courier New',monospace\"><span style=\"font-weight: bold\"> Trainable params: </span><span style=\"color: #00af00; text-decoration-color: #00af00\">1,239</span> (4.84 KB)\n",
              "</pre>\n"
            ]
          },
          "metadata": {}
        },
        {
          "output_type": "display_data",
          "data": {
            "text/plain": [
              "\u001b[1m Non-trainable params: \u001b[0m\u001b[38;5;34m0\u001b[0m (0.00 B)\n"
            ],
            "text/html": [
              "<pre style=\"white-space:pre;overflow-x:auto;line-height:normal;font-family:Menlo,'DejaVu Sans Mono',consolas,'Courier New',monospace\"><span style=\"font-weight: bold\"> Non-trainable params: </span><span style=\"color: #00af00; text-decoration-color: #00af00\">0</span> (0.00 B)\n",
              "</pre>\n"
            ]
          },
          "metadata": {}
        }
      ],
      "source": [
        "model.summary()"
      ]
    },
    {
      "cell_type": "code",
      "execution_count": 82,
      "metadata": {
        "colab": {
          "base_uri": "https://localhost:8080/"
        },
        "id": "nXasYry2aIOu",
        "outputId": "5ef94b28-f00d-4c5a-f796-5e672ad05f7c"
      },
      "outputs": [
        {
          "output_type": "stream",
          "name": "stdout",
          "text": [
            "Epoch 1/20\n"
          ]
        },
        {
          "output_type": "stream",
          "name": "stderr",
          "text": [
            "/usr/local/lib/python3.11/dist-packages/keras/src/models/functional.py:237: UserWarning: The structure of `inputs` doesn't match the expected structure.\n",
            "Expected: ['keras_tensor_8']\n",
            "Received: inputs=Tensor(shape=(None, 8))\n",
            "  warnings.warn(msg)\n"
          ]
        },
        {
          "output_type": "stream",
          "name": "stdout",
          "text": [
            "\u001b[1m363/363\u001b[0m \u001b[32m━━━━━━━━━━━━━━━━━━━━\u001b[0m\u001b[37m\u001b[0m \u001b[1m1s\u001b[0m 3ms/step - loss: 2.9920 - val_loss: 4.5564\n",
            "Epoch 2/20\n",
            "\u001b[1m363/363\u001b[0m \u001b[32m━━━━━━━━━━━━━━━━━━━━\u001b[0m\u001b[37m\u001b[0m \u001b[1m1s\u001b[0m 3ms/step - loss: 0.8311 - val_loss: 4.6121\n",
            "Epoch 3/20\n",
            "\u001b[1m363/363\u001b[0m \u001b[32m━━━━━━━━━━━━━━━━━━━━\u001b[0m\u001b[37m\u001b[0m \u001b[1m1s\u001b[0m 3ms/step - loss: 0.7410 - val_loss: 3.6495\n",
            "Epoch 4/20\n",
            "\u001b[1m363/363\u001b[0m \u001b[32m━━━━━━━━━━━━━━━━━━━━\u001b[0m\u001b[37m\u001b[0m \u001b[1m1s\u001b[0m 2ms/step - loss: 0.6856 - val_loss: 3.6904\n",
            "Epoch 5/20\n",
            "\u001b[1m363/363\u001b[0m \u001b[32m━━━━━━━━━━━━━━━━━━━━\u001b[0m\u001b[37m\u001b[0m \u001b[1m1s\u001b[0m 2ms/step - loss: 0.6465 - val_loss: 2.9075\n",
            "Epoch 6/20\n",
            "\u001b[1m363/363\u001b[0m \u001b[32m━━━━━━━━━━━━━━━━━━━━\u001b[0m\u001b[37m\u001b[0m \u001b[1m1s\u001b[0m 2ms/step - loss: 0.6119 - val_loss: 2.9336\n",
            "Epoch 7/20\n",
            "\u001b[1m363/363\u001b[0m \u001b[32m━━━━━━━━━━━━━━━━━━━━\u001b[0m\u001b[37m\u001b[0m \u001b[1m1s\u001b[0m 2ms/step - loss: 0.5869 - val_loss: 2.4796\n",
            "Epoch 8/20\n",
            "\u001b[1m363/363\u001b[0m \u001b[32m━━━━━━━━━━━━━━━━━━━━\u001b[0m\u001b[37m\u001b[0m \u001b[1m1s\u001b[0m 2ms/step - loss: 0.5631 - val_loss: 2.3872\n",
            "Epoch 9/20\n",
            "\u001b[1m363/363\u001b[0m \u001b[32m━━━━━━━━━━━━━━━━━━━━\u001b[0m\u001b[37m\u001b[0m \u001b[1m1s\u001b[0m 3ms/step - loss: 0.5459 - val_loss: 2.2022\n",
            "Epoch 10/20\n",
            "\u001b[1m363/363\u001b[0m \u001b[32m━━━━━━━━━━━━━━━━━━━━\u001b[0m\u001b[37m\u001b[0m \u001b[1m1s\u001b[0m 3ms/step - loss: 0.5281 - val_loss: 1.8479\n",
            "Epoch 11/20\n",
            "\u001b[1m363/363\u001b[0m \u001b[32m━━━━━━━━━━━━━━━━━━━━\u001b[0m\u001b[37m\u001b[0m \u001b[1m2s\u001b[0m 3ms/step - loss: 0.5155 - val_loss: 1.9067\n",
            "Epoch 12/20\n",
            "\u001b[1m363/363\u001b[0m \u001b[32m━━━━━━━━━━━━━━━━━━━━\u001b[0m\u001b[37m\u001b[0m \u001b[1m1s\u001b[0m 3ms/step - loss: 0.5027 - val_loss: 1.6848\n",
            "Epoch 13/20\n",
            "\u001b[1m363/363\u001b[0m \u001b[32m━━━━━━━━━━━━━━━━━━━━\u001b[0m\u001b[37m\u001b[0m \u001b[1m1s\u001b[0m 2ms/step - loss: 0.4934 - val_loss: 1.6735\n",
            "Epoch 14/20\n",
            "\u001b[1m363/363\u001b[0m \u001b[32m━━━━━━━━━━━━━━━━━━━━\u001b[0m\u001b[37m\u001b[0m \u001b[1m1s\u001b[0m 2ms/step - loss: 0.4836 - val_loss: 1.5188\n",
            "Epoch 15/20\n",
            "\u001b[1m363/363\u001b[0m \u001b[32m━━━━━━━━━━━━━━━━━━━━\u001b[0m\u001b[37m\u001b[0m \u001b[1m1s\u001b[0m 3ms/step - loss: 0.4761 - val_loss: 1.6635\n",
            "Epoch 16/20\n",
            "\u001b[1m363/363\u001b[0m \u001b[32m━━━━━━━━━━━━━━━━━━━━\u001b[0m\u001b[37m\u001b[0m \u001b[1m1s\u001b[0m 2ms/step - loss: 0.4687 - val_loss: 1.5025\n",
            "Epoch 17/20\n",
            "\u001b[1m363/363\u001b[0m \u001b[32m━━━━━━━━━━━━━━━━━━━━\u001b[0m\u001b[37m\u001b[0m \u001b[1m1s\u001b[0m 2ms/step - loss: 0.4626 - val_loss: 1.7220\n",
            "Epoch 18/20\n",
            "\u001b[1m363/363\u001b[0m \u001b[32m━━━━━━━━━━━━━━━━━━━━\u001b[0m\u001b[37m\u001b[0m \u001b[1m2s\u001b[0m 3ms/step - loss: 0.4567 - val_loss: 1.5386\n",
            "Epoch 19/20\n",
            "\u001b[1m363/363\u001b[0m \u001b[32m━━━━━━━━━━━━━━━━━━━━\u001b[0m\u001b[37m\u001b[0m \u001b[1m1s\u001b[0m 4ms/step - loss: 0.4518 - val_loss: 1.9237\n",
            "Epoch 20/20\n",
            "\u001b[1m363/363\u001b[0m \u001b[32m━━━━━━━━━━━━━━━━━━━━\u001b[0m\u001b[37m\u001b[0m \u001b[1m2s\u001b[0m 3ms/step - loss: 0.4473 - val_loss: 1.6592\n",
            "\u001b[1m162/162\u001b[0m \u001b[32m━━━━━━━━━━━━━━━━━━━━\u001b[0m\u001b[37m\u001b[0m \u001b[1m0s\u001b[0m 2ms/step - loss: 0.4328\n",
            "\u001b[1m1/1\u001b[0m \u001b[32m━━━━━━━━━━━━━━━━━━━━\u001b[0m\u001b[37m\u001b[0m \u001b[1m0s\u001b[0m 74ms/step\n"
          ]
        },
        {
          "output_type": "stream",
          "name": "stderr",
          "text": [
            "/usr/local/lib/python3.11/dist-packages/keras/src/models/functional.py:237: UserWarning: The structure of `inputs` doesn't match the expected structure.\n",
            "Expected: ['keras_tensor_8']\n",
            "Received: inputs=Tensor(shape=(3, 8))\n",
            "  warnings.warn(msg)\n"
          ]
        }
      ],
      "source": [
        "# model = keras.models.Sequential([\n",
        "#     keras.layers.Dense(30, activation=\"relu\", input_shape=X_train.shape[1:]),\n",
        "#     keras.layers.Dense(1)\n",
        "# ])\n",
        "# model.compile(loss=\"mean_squared_error\", optimizer=keras.optimizers.SGD(learning_rate=1e-3))\n",
        "# history = model.fit(X_train, y_train, epochs=20, validation_data=(X_valid, y_valid))\n",
        "# mse_test = model.evaluate(X_test, y_test)\n",
        "# X_new = X_test[:3]\n",
        "# y_pred = model.predict(X_new)\n",
        "\n",
        "\n",
        "model.compile(loss=\"mean_squared_error\", optimizer=keras.optimizers.SGD(learning_rate=1e-3))\n",
        "history = model.fit(X_train, y_train, epochs=20,\n",
        "                    validation_data=(X_valid, y_valid))\n",
        "mse_test = model.evaluate(X_test, y_test)\n",
        "y_pred = model.predict(X_new)"
      ]
    },
    {
      "cell_type": "markdown",
      "metadata": {
        "id": "ZFF9RzbEaIOu"
      },
      "source": [
        "What if you want to send different subsets of input features through the wide or deep paths? We will send 5 features (features 0 to 4), and 6 through the deep path (features 2 to 7). Note that 3 features will go through both (features 2, 3 and 4)."
      ]
    },
    {
      "cell_type": "code",
      "source": [
        "plt.plot(pd.DataFrame(history.history))"
      ],
      "metadata": {
        "id": "BToft-O3Sv1T",
        "outputId": "ca0afa97-9d6e-479c-f3f2-73e69fc0e076",
        "colab": {
          "base_uri": "https://localhost:8080/",
          "height": 466
        }
      },
      "execution_count": 89,
      "outputs": [
        {
          "output_type": "execute_result",
          "data": {
            "text/plain": [
              "[<matplotlib.lines.Line2D at 0x7c69224c3190>,\n",
              " <matplotlib.lines.Line2D at 0x7c694473e450>]"
            ]
          },
          "metadata": {},
          "execution_count": 89
        },
        {
          "output_type": "display_data",
          "data": {
            "text/plain": [
              "<Figure size 640x480 with 1 Axes>"
            ],
            "image/png": "[encoded data removed]"
          },
          "metadata": {}
        }
      ]
    },
    {
      "cell_type": "code",
      "execution_count": null,
      "metadata": {
        "id": "PA1ulw3MaIOu"
      },
      "outputs": [],
      "source": [
        "np.random.seed(42)\n",
        "tf.random.set_seed(42)"
      ]
    },
    {
      "cell_type": "markdown",
      "source": [
        "\n",
        "\n",
        "> Add blockquote![Concat_method2.png](data:image/png;base64,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)\n",
        "\n"
      ],
      "metadata": {
        "id": "i2WNvYFIUMPJ"
      }
    },
    {
      "cell_type": "code",
      "execution_count": 90,
      "metadata": {
        "id": "HK07qAMbaIOu"
      },
      "outputs": [],
      "source": [
        "input_A = keras.layers.Input(shape=[5], name=\"wide_input\")\n",
        "input_B = keras.layers.Input(shape=[6], name=\"deep_input\")\n",
        "hidden1 = keras.layers.Dense(30, activation=\"relu\")(input_B)\n",
        "hidden2 = keras.layers.Dense(30, activation=\"relu\")(hidden1)\n",
        "concat = keras.layers.concatenate([input_A, hidden2])\n",
        "output = keras.layers.Dense(1, name=\"output\")(concat)\n",
        "model = keras.models.Model(inputs=[input_A, input_B], outputs=[output])"
      ]
    },
    {
      "cell_type": "code",
      "execution_count": 91,
      "metadata": {
        "colab": {
          "base_uri": "https://localhost:8080/"
        },
        "id": "JRzV35Z5aIOv",
        "outputId": "3f548306-78b0-4098-925e-4ec6f96b0ed3"
      },
      "outputs": [
        {
          "output_type": "stream",
          "name": "stdout",
          "text": [
            "Epoch 1/20\n",
            "\u001b[1m363/363\u001b[0m \u001b[32m━━━━━━━━━━━━━━━━━━━━\u001b[0m\u001b[37m\u001b[0m \u001b[1m1s\u001b[0m 3ms/step - loss: 3.1165 - val_loss: 1.2033\n",
            "Epoch 2/20\n",
            "\u001b[1m363/363\u001b[0m \u001b[32m━━━━━━━━━━━━━━━━━━━━\u001b[0m\u001b[37m\u001b[0m \u001b[1m1s\u001b[0m 3ms/step - loss: 1.0638 - val_loss: 0.8281\n",
            "Epoch 3/20\n",
            "\u001b[1m363/363\u001b[0m \u001b[32m━━━━━━━━━━━━━━━━━━━━\u001b[0m\u001b[37m\u001b[0m \u001b[1m1s\u001b[0m 2ms/step - loss: 0.8202 - val_loss: 0.7041\n",
            "Epoch 4/20\n",
            "\u001b[1m363/363\u001b[0m \u001b[32m━━━━━━━━━━━━━━━━━━━━\u001b[0m\u001b[37m\u001b[0m \u001b[1m1s\u001b[0m 3ms/step - loss: 0.7280 - val_loss: 0.6391\n",
            "Epoch 5/20\n",
            "\u001b[1m363/363\u001b[0m \u001b[32m━━━━━━━━━━━━━━━━━━━━\u001b[0m\u001b[37m\u001b[0m \u001b[1m1s\u001b[0m 2ms/step - loss: 0.6717 - val_loss: 0.5893\n",
            "Epoch 6/20\n",
            "\u001b[1m363/363\u001b[0m \u001b[32m━━━━━━━━━━━━━━━━━━━━\u001b[0m\u001b[37m\u001b[0m \u001b[1m1s\u001b[0m 2ms/step - loss: 0.6235 - val_loss: 0.5447\n",
            "Epoch 7/20\n",
            "\u001b[1m363/363\u001b[0m \u001b[32m━━━━━━━━━━━━━━━━━━━━\u001b[0m\u001b[37m\u001b[0m \u001b[1m1s\u001b[0m 2ms/step - loss: 0.5802 - val_loss: 0.5084\n",
            "Epoch 8/20\n",
            "\u001b[1m363/363\u001b[0m \u001b[32m━━━━━━━━━━━━━━━━━━━━\u001b[0m\u001b[37m\u001b[0m \u001b[1m1s\u001b[0m 3ms/step - loss: 0.5477 - val_loss: 0.4794\n",
            "Epoch 9/20\n",
            "\u001b[1m363/363\u001b[0m \u001b[32m━━━━━━━━━━━━━━━━━━━━\u001b[0m\u001b[37m\u001b[0m \u001b[1m2s\u001b[0m 3ms/step - loss: 0.5232 - val_loss: 0.4571\n",
            "Epoch 10/20\n",
            "\u001b[1m363/363\u001b[0m \u001b[32m━━━━━━━━━━━━━━━━━━━━\u001b[0m\u001b[37m\u001b[0m \u001b[1m2s\u001b[0m 6ms/step - loss: 0.5044 - val_loss: 0.4406\n",
            "Epoch 11/20\n",
            "\u001b[1m363/363\u001b[0m \u001b[32m━━━━━━━━━━━━━━━━━━━━\u001b[0m\u001b[37m\u001b[0m \u001b[1m2s\u001b[0m 4ms/step - loss: 0.4901 - val_loss: 0.4282\n",
            "Epoch 12/20\n",
            "\u001b[1m363/363\u001b[0m \u001b[32m━━━━━━━━━━━━━━━━━━━━\u001b[0m\u001b[37m\u001b[0m \u001b[1m2s\u001b[0m 2ms/step - loss: 0.4785 - val_loss: 0.4187\n",
            "Epoch 13/20\n",
            "\u001b[1m363/363\u001b[0m \u001b[32m━━━━━━━━━━━━━━━━━━━━\u001b[0m\u001b[37m\u001b[0m \u001b[1m1s\u001b[0m 2ms/step - loss: 0.4688 - val_loss: 0.4116\n",
            "Epoch 14/20\n",
            "\u001b[1m363/363\u001b[0m \u001b[32m━━━━━━━━━━━━━━━━━━━━\u001b[0m\u001b[37m\u001b[0m \u001b[1m1s\u001b[0m 2ms/step - loss: 0.4609 - val_loss: 0.4062\n",
            "Epoch 15/20\n",
            "\u001b[1m363/363\u001b[0m \u001b[32m━━━━━━━━━━━━━━━━━━━━\u001b[0m\u001b[37m\u001b[0m \u001b[1m1s\u001b[0m 2ms/step - loss: 0.4549 - val_loss: 0.4021\n",
            "Epoch 16/20\n",
            "\u001b[1m363/363\u001b[0m \u001b[32m━━━━━━━━━━━━━━━━━━━━\u001b[0m\u001b[37m\u001b[0m \u001b[1m1s\u001b[0m 3ms/step - loss: 0.4502 - val_loss: 0.3984\n",
            "Epoch 17/20\n",
            "\u001b[1m363/363\u001b[0m \u001b[32m━━━━━━━━━━━━━━━━━━━━\u001b[0m\u001b[37m\u001b[0m \u001b[1m1s\u001b[0m 2ms/step - loss: 0.4463 - val_loss: 0.3952\n",
            "Epoch 18/20\n",
            "\u001b[1m363/363\u001b[0m \u001b[32m━━━━━━━━━━━━━━━━━━━━\u001b[0m\u001b[37m\u001b[0m \u001b[1m1s\u001b[0m 3ms/step - loss: 0.4429 - val_loss: 0.3924\n",
            "Epoch 19/20\n",
            "\u001b[1m363/363\u001b[0m \u001b[32m━━━━━━━━━━━━━━━━━━━━\u001b[0m\u001b[37m\u001b[0m \u001b[1m2s\u001b[0m 3ms/step - loss: 0.4400 - val_loss: 0.3901\n",
            "Epoch 20/20\n",
            "\u001b[1m363/363\u001b[0m \u001b[32m━━━━━━━━━━━━━━━━━━━━\u001b[0m\u001b[37m\u001b[0m \u001b[1m2s\u001b[0m 2ms/step - loss: 0.4373 - val_loss: 0.3880\n",
            "\u001b[1m162/162\u001b[0m \u001b[32m━━━━━━━━━━━━━━━━━━━━\u001b[0m\u001b[37m\u001b[0m \u001b[1m0s\u001b[0m 2ms/step - loss: 0.4190\n",
            "\u001b[1m1/1\u001b[0m \u001b[32m━━━━━━━━━━━━━━━━━━━━\u001b[0m\u001b[37m\u001b[0m \u001b[1m0s\u001b[0m 71ms/step\n"
          ]
        }
      ],
      "source": [
        "model.compile(loss=\"mse\", optimizer=keras.optimizers.SGD(learning_rate=1e-3))\n",
        "\n",
        "X_train_A, X_train_B = X_train[:, :5], X_train[:, 2:]\n",
        "X_valid_A, X_valid_B = X_valid[:, :5], X_valid[:, 2:]\n",
        "X_test_A, X_test_B = X_test[:, :5], X_test[:, 2:]\n",
        "X_new_A, X_new_B = X_test_A[:3], X_test_B[:3]\n",
        "\n",
        "history = model.fit((X_train_A, X_train_B), y_train, epochs=20,\n",
        "                    validation_data=((X_valid_A, X_valid_B), y_valid))\n",
        "mse_test = model.evaluate((X_test_A, X_test_B), y_test)\n",
        "y_pred = model.predict((X_new_A, X_new_B))"
      ]
    },
    {
      "cell_type": "markdown",
      "metadata": {
        "id": "Ko437Z3IaIOv"
      },
      "source": [
        "Adding an auxiliary output for regularization:"
      ]
    },
    {
      "cell_type": "markdown",
      "source": [],
      "metadata": {
        "id": "nvKXHYM2UqQ2"
      }
    },
    {
      "cell_type": "code",
      "execution_count": null,
      "metadata": {
        "id": "TkyB2IMbaIOv"
      },
      "outputs": [],
      "source": [
        "np.random.seed(42)\n",
        "tf.random.set_seed(42)"
      ]
    },
    {
      "cell_type": "code",
      "execution_count": null,
      "metadata": {
        "id": "IaLIu3I4aIOv"
      },
      "outputs": [],
      "source": [
        "input_A = keras.layers.Input(shape=[5], name=\"wide_input\")\n",
        "input_B = keras.layers.Input(shape=[6], name=\"deep_input\")\n",
        "hidden1 = keras.layers.Dense(30, activation=\"relu\")(input_B)\n",
        "hidden2 = keras.layers.Dense(30, activation=\"relu\")(hidden1)\n",
        "concat = keras.layers.concatenate([input_A, hidden2])\n",
        "output = keras.layers.Dense(1, name=\"main_output\")(concat)\n",
        "aux_output = keras.layers.Dense(1, name=\"aux_output\")(hidden2)\n",
        "model = keras.models.Model(inputs=[input_A, input_B],\n",
        "                           outputs=[output, aux_output])"
      ]
    },
    {
      "cell_type": "code",
      "execution_count": null,
      "metadata": {
        "id": "Ej44AhKmaIOv"
      },
      "outputs": [],
      "source": [
        "model.compile(loss=[\"mse\", \"mse\"], loss_weights=[0.9, 0.1], optimizer=keras.optimizers.SGD(learning_rate=1e-3))"
      ]
    },
    {
      "cell_type": "code",
      "execution_count": null,
      "metadata": {
        "id": "MBXZsHHvaIOw",
        "outputId": "86458c91-985c-4d90-c372-d17865427ca6"
      },
      "outputs": [
        {
          "name": "stdout",
          "output_type": "stream",
          "text": [
            "Epoch 1/20\n",
            "363/363 [==============================] - 1s 1ms/step - loss: 3.4633 - main_output_loss: 3.3289 - aux_output_loss: 4.6732 - val_loss: 1.6233 - val_main_output_loss: 0.8468 - val_aux_output_loss: 8.6117\n",
            "Epoch 2/20\n",
            "363/363 [==============================] - 0s 879us/step - loss: 0.9807 - main_output_loss: 0.7503 - aux_output_loss: 3.0537 - val_loss: 1.5163 - val_main_output_loss: 0.6836 - val_aux_output_loss: 9.0109\n",
            "Epoch 3/20\n",
            "363/363 [==============================] - 0s 890us/step - loss: 0.7742 - main_output_loss: 0.6290 - aux_output_loss: 2.0810 - val_loss: 1.4639 - val_main_output_loss: 0.6229 - val_aux_output_loss: 9.0326\n",
            "Epoch 4/20\n",
            "363/363 [==============================] - 0s 847us/step - loss: 0.6952 - main_output_loss: 0.5897 - aux_output_loss: 1.6449 - val_loss: 1.3388 - val_main_output_loss: 0.5481 - val_aux_output_loss: 8.4552\n",
            "Epoch 5/20\n",
            "363/363 [==============================] - 0s 902us/step - loss: 0.6469 - main_output_loss: 0.5508 - aux_output_loss: 1.5118 - val_loss: 1.2177 - val_main_output_loss: 0.5194 - val_aux_output_loss: 7.5030\n",
            "Epoch 6/20\n",
            "363/363 [==============================] - 0s 867us/step - loss: 0.6120 - main_output_loss: 0.5251 - aux_output_loss: 1.3943 - val_loss: 1.0935 - val_main_output_loss: 0.5106 - val_aux_output_loss: 6.3396\n",
            "Epoch 7/20\n",
            "363/363 [==============================] - 0s 864us/step - loss: 0.6114 - main_output_loss: 0.5256 - aux_output_loss: 1.3833 - val_loss: 0.9918 - val_main_output_loss: 0.5115 - val_aux_output_loss: 5.3151\n",
            "Epoch 8/20\n",
            "363/363 [==============================] - 0s 850us/step - loss: 0.5765 - main_output_loss: 0.5024 - aux_output_loss: 1.2439 - val_loss: 0.8733 - val_main_output_loss: 0.4733 - val_aux_output_loss: 4.4740\n",
            "Epoch 9/20\n",
            "363/363 [==============================] - 0s 882us/step - loss: 0.5535 - main_output_loss: 0.4811 - aux_output_loss: 1.2057 - val_loss: 0.7832 - val_main_output_loss: 0.4555 - val_aux_output_loss: 3.7323\n",
            "Epoch 10/20\n",
            "363/363 [==============================] - 0s 846us/step - loss: 0.5456 - main_output_loss: 0.4708 - aux_output_loss: 1.2189 - val_loss: 0.7170 - val_main_output_loss: 0.4604 - val_aux_output_loss: 3.0262\n",
            "Epoch 11/20\n",
            "363/363 [==============================] - 0s 875us/step - loss: 0.5297 - main_output_loss: 0.4587 - aux_output_loss: 1.1684 - val_loss: 0.6510 - val_main_output_loss: 0.4293 - val_aux_output_loss: 2.6468\n",
            "Epoch 12/20\n",
            "363/363 [==============================] - 0s 879us/step - loss: 0.5181 - main_output_loss: 0.4501 - aux_output_loss: 1.1305 - val_loss: 0.6051 - val_main_output_loss: 0.4310 - val_aux_output_loss: 2.1722\n",
            "Epoch 13/20\n",
            "363/363 [==============================] - 0s 879us/step - loss: 0.5100 - main_output_loss: 0.4487 - aux_output_loss: 1.0620 - val_loss: 0.5644 - val_main_output_loss: 0.4161 - val_aux_output_loss: 1.8992\n",
            "Epoch 14/20\n",
            "363/363 [==============================] - 0s 884us/step - loss: 0.5064 - main_output_loss: 0.4459 - aux_output_loss: 1.0503 - val_loss: 0.5354 - val_main_output_loss: 0.4119 - val_aux_output_loss: 1.6466\n",
            "Epoch 15/20\n",
            "363/363 [==============================] - 0s 878us/step - loss: 0.5027 - main_output_loss: 0.4452 - aux_output_loss: 1.0207 - val_loss: 0.5124 - val_main_output_loss: 0.4047 - val_aux_output_loss: 1.4812\n",
            "Epoch 16/20\n",
            "363/363 [==============================] - 0s 864us/step - loss: 0.5057 - main_output_loss: 0.4480 - aux_output_loss: 1.0249 - val_loss: 0.4934 - val_main_output_loss: 0.4034 - val_aux_output_loss: 1.3035\n",
            "Epoch 17/20\n",
            "363/363 [==============================] - 0s 855us/step - loss: 0.4931 - main_output_loss: 0.4360 - aux_output_loss: 1.0075 - val_loss: 0.4801 - val_main_output_loss: 0.3984 - val_aux_output_loss: 1.2150\n",
            "Epoch 18/20\n",
            "363/363 [==============================] - 0s 863us/step - loss: 0.4922 - main_output_loss: 0.4352 - aux_output_loss: 1.0053 - val_loss: 0.4694 - val_main_output_loss: 0.3962 - val_aux_output_loss: 1.1279\n",
            "Epoch 19/20\n",
            "363/363 [==============================] - 0s 895us/step - loss: 0.4658 - main_output_loss: 0.4139 - aux_output_loss: 0.9323 - val_loss: 0.4580 - val_main_output_loss: 0.3936 - val_aux_output_loss: 1.0372\n",
            "Epoch 20/20\n",
            "363/363 [==============================] - 0s 870us/step - loss: 0.4589 - main_output_loss: 0.4072 - aux_output_loss: 0.9243 - val_loss: 0.4655 - val_main_output_loss: 0.4048 - val_aux_output_loss: 1.0118\n"
          ]
        }
      ],
      "source": [
        "history = model.fit([X_train_A, X_train_B], [y_train, y_train], epochs=20,\n",
        "                    validation_data=([X_valid_A, X_valid_B], [y_valid, y_valid]))"
      ]
    },
    {
      "cell_type": "code",
      "execution_count": null,
      "metadata": {
        "id": "LIUOd1vxaIOw",
        "outputId": "3c8389d6-d77a-4e65-a8f1-db792d35c69e"
      },
      "outputs": [
        {
          "name": "stdout",
          "output_type": "stream",
          "text": [
            "162/162 [==============================] - 0s 546us/step - loss: 0.4668 - main_output_loss: 0.4178 - aux_output_loss: 0.9082\n",
            "WARNING:tensorflow:5 out of the last 6 calls to <function Model.make_predict_function.<locals>.predict_function at 0x7fd97a1a24d0> triggered tf.function retracing. Tracing is expensive and the excessive number of tracings could be due to (1) creating @tf.function repeatedly in a loop, (2) passing tensors with different shapes, (3) passing Python objects instead of tensors. For (1), please define your @tf.function outside of the loop. For (2), @tf.function has experimental_relax_shapes=True option that relaxes argument shapes that can avoid unnecessary retracing. For (3), please refer to https://www.tensorflow.org/guide/function#controlling_retracing and https://www.tensorflow.org/api_docs/python/tf/function for  more details.\n"
          ]
        }
      ],
      "source": [
        "total_loss, main_loss, aux_loss = model.evaluate(\n",
        "    [X_test_A, X_test_B], [y_test, y_test])\n",
        "y_pred_main, y_pred_aux = model.predict([X_new_A, X_new_B])"
      ]
    },
    {
      "cell_type": "markdown",
      "metadata": {
        "id": "DOx0V_DXaIOw"
      },
      "source": [
        "# The subclassing API"
      ]
    },
    {
      "cell_type": "code",
      "execution_count": null,
      "metadata": {
        "id": "pnBkJSO5aIOw"
      },
      "outputs": [],
      "source": [
        "class WideAndDeepModel(keras.models.Model):\n",
        "    def __init__(self, units=30, activation=\"relu\", **kwargs):\n",
        "        super().__init__(**kwargs)\n",
        "        self.hidden1 = keras.layers.Dense(units, activation=activation)\n",
        "        self.hidden2 = keras.layers.Dense(units, activation=activation)\n",
        "        self.main_output = keras.layers.Dense(1)\n",
        "        self.aux_output = keras.layers.Dense(1)\n",
        "\n",
        "    def call(self, inputs):\n",
        "        input_A, input_B = inputs\n",
        "        hidden1 = self.hidden1(input_B)\n",
        "        hidden2 = self.hidden2(hidden1)\n",
        "        concat = keras.layers.concatenate([input_A, hidden2])\n",
        "        main_output = self.main_output(concat)\n",
        "        aux_output = self.aux_output(hidden2)\n",
        "        return main_output, aux_output\n",
        "\n",
        "model = WideAndDeepModel(30, activation=\"relu\")"
      ]
    },
    {
      "cell_type": "code",
      "execution_count": null,
      "metadata": {
        "id": "42todiswaIOw",
        "outputId": "24dfb9f4-5df9-4c8b-db95-8a07aa607893"
      },
      "outputs": [
        {
          "name": "stdout",
          "output_type": "stream",
          "text": [
            "Epoch 1/10\n",
            "363/363 [==============================] - 1s 1ms/step - loss: 3.3855 - output_1_loss: 3.3304 - output_2_loss: 3.8821 - val_loss: 2.1435 - val_output_1_loss: 1.1581 - val_output_2_loss: 11.0117\n",
            "Epoch 2/10\n",
            "363/363 [==============================] - 0s 852us/step - loss: 1.0790 - output_1_loss: 0.9329 - output_2_loss: 2.3942 - val_loss: 1.7567 - val_output_1_loss: 0.8205 - val_output_2_loss: 10.1825\n",
            "Epoch 3/10\n",
            "363/363 [==============================] - 0s 885us/step - loss: 0.8644 - output_1_loss: 0.7583 - output_2_loss: 1.8194 - val_loss: 1.5664 - val_output_1_loss: 0.7913 - val_output_2_loss: 8.5419\n",
            "Epoch 4/10\n",
            "363/363 [==============================] - 0s 863us/step - loss: 0.7850 - output_1_loss: 0.6979 - output_2_loss: 1.5689 - val_loss: 1.3088 - val_output_1_loss: 0.6549 - val_output_2_loss: 7.1933\n",
            "Epoch 5/10\n",
            "363/363 [==============================] - 0s 843us/step - loss: 0.7294 - output_1_loss: 0.6499 - output_2_loss: 1.4452 - val_loss: 1.1357 - val_output_1_loss: 0.5964 - val_output_2_loss: 5.9898\n",
            "Epoch 6/10\n",
            "363/363 [==============================] - 0s 837us/step - loss: 0.6880 - output_1_loss: 0.6092 - output_2_loss: 1.3974 - val_loss: 1.0036 - val_output_1_loss: 0.5937 - val_output_2_loss: 4.6933\n",
            "Epoch 7/10\n",
            "363/363 [==============================] - 0s 866us/step - loss: 0.6918 - output_1_loss: 0.6143 - output_2_loss: 1.3899 - val_loss: 0.8904 - val_output_1_loss: 0.5591 - val_output_2_loss: 3.8714\n",
            "Epoch 8/10\n",
            "363/363 [==============================] - 0s 840us/step - loss: 0.6504 - output_1_loss: 0.5805 - output_2_loss: 1.2797 - val_loss: 0.8009 - val_output_1_loss: 0.5243 - val_output_2_loss: 3.2903\n",
            "Epoch 9/10\n",
            "363/363 [==============================] - 0s 842us/step - loss: 0.6270 - output_1_loss: 0.5574 - output_2_loss: 1.2533 - val_loss: 0.7357 - val_output_1_loss: 0.5144 - val_output_2_loss: 2.7275\n",
            "Epoch 10/10\n",
            "363/363 [==============================] - 0s 863us/step - loss: 0.6160 - output_1_loss: 0.5456 - output_2_loss: 1.2495 - val_loss: 0.6849 - val_output_1_loss: 0.5014 - val_output_2_loss: 2.3370\n",
            "162/162 [==============================] - 0s 546us/step - loss: 0.5841 - output_1_loss: 0.5188 - output_2_loss: 1.1722\n",
            "WARNING:tensorflow:6 out of the last 7 calls to <function Model.make_predict_function.<locals>.predict_function at 0x7fd9725c2320> triggered tf.function retracing. Tracing is expensive and the excessive number of tracings could be due to (1) creating @tf.function repeatedly in a loop, (2) passing tensors with different shapes, (3) passing Python objects instead of tensors. For (1), please define your @tf.function outside of the loop. For (2), @tf.function has experimental_relax_shapes=True option that relaxes argument shapes that can avoid unnecessary retracing. For (3), please refer to https://www.tensorflow.org/guide/function#controlling_retracing and https://www.tensorflow.org/api_docs/python/tf/function for  more details.\n"
          ]
        }
      ],
      "source": [
        "model.compile(loss=\"mse\", loss_weights=[0.9, 0.1], optimizer=keras.optimizers.SGD(learning_rate=1e-3))\n",
        "history = model.fit((X_train_A, X_train_B), (y_train, y_train), epochs=10,\n",
        "                    validation_data=((X_valid_A, X_valid_B), (y_valid, y_valid)))\n",
        "total_loss, main_loss, aux_loss = model.evaluate((X_test_A, X_test_B), (y_test, y_test))\n",
        "y_pred_main, y_pred_aux = model.predict((X_new_A, X_new_B))"
      ]
    },
    {
      "cell_type": "markdown",
      "metadata": {
        "id": "Ar1hjZ3HaIOw"
      },
      "source": [
        "# Saving and Restoring"
      ]
    },
    {
      "cell_type": "code",
      "execution_count": null,
      "metadata": {
        "id": "bsNGhgl-aIOw"
      },
      "outputs": [],
      "source": [
        "np.random.seed(42)\n",
        "tf.random.set_seed(42)"
      ]
    },
    {
      "cell_type": "code",
      "execution_count": null,
      "metadata": {
        "id": "b7kY1tmjaIOw"
      },
      "outputs": [],
      "source": [
        "model = keras.models.Sequential([\n",
        "    keras.layers.Dense(30, activation=\"relu\", input_shape=[8]),\n",
        "    keras.layers.Dense(30, activation=\"relu\"),\n",
        "    keras.layers.Dense(1)\n",
        "])"
      ]
    },
    {
      "cell_type": "code",
      "execution_count": null,
      "metadata": {
        "id": "wADT4mogaIOw",
        "outputId": "dcf03f8f-157e-419e-f916-4b97cb027773"
      },
      "outputs": [
        {
          "name": "stdout",
          "output_type": "stream",
          "text": [
            "Epoch 1/10\n",
            "363/363 [==============================] - 0s 882us/step - loss: 3.3697 - val_loss: 0.7126\n",
            "Epoch 2/10\n",
            "363/363 [==============================] - 0s 646us/step - loss: 0.6964 - val_loss: 0.6880\n",
            "Epoch 3/10\n",
            "363/363 [==============================] - 0s 658us/step - loss: 0.6167 - val_loss: 0.5803\n",
            "Epoch 4/10\n",
            "363/363 [==============================] - 0s 653us/step - loss: 0.5846 - val_loss: 0.5166\n",
            "Epoch 5/10\n",
            "363/363 [==============================] - 0s 649us/step - loss: 0.5321 - val_loss: 0.4895\n",
            "Epoch 6/10\n",
            "363/363 [==============================] - 0s 664us/step - loss: 0.5083 - val_loss: 0.4951\n",
            "Epoch 7/10\n",
            "363/363 [==============================] - 0s 677us/step - loss: 0.5044 - val_loss: 0.4861\n",
            "Epoch 8/10\n",
            "363/363 [==============================] - 0s 649us/step - loss: 0.4813 - val_loss: 0.4554\n",
            "Epoch 9/10\n",
            "363/363 [==============================] - 0s 676us/step - loss: 0.4627 - val_loss: 0.4413\n",
            "Epoch 10/10\n",
            "363/363 [==============================] - 0s 688us/step - loss: 0.4549 - val_loss: 0.4379\n",
            "162/162 [==============================] - 0s 497us/step - loss: 0.4382\n"
          ]
        }
      ],
      "source": [
        "model.compile(loss=\"mse\", optimizer=keras.optimizers.SGD(learning_rate=1e-3))\n",
        "history = model.fit(X_train, y_train, epochs=10, validation_data=(X_valid, y_valid))\n",
        "mse_test = model.evaluate(X_test, y_test)"
      ]
    },
    {
      "cell_type": "code",
      "execution_count": null,
      "metadata": {
        "id": "WnB-rHl9aIOx"
      },
      "outputs": [],
      "source": [
        "model.save(\"my_keras_model.h5\")"
      ]
    },
    {
      "cell_type": "code",
      "execution_count": null,
      "metadata": {
        "id": "JzsebLmsaIOx"
      },
      "outputs": [],
      "source": [
        "model = keras.models.load_model(\"my_keras_model.h5\")"
      ]
    },
    {
      "cell_type": "code",
      "execution_count": null,
      "metadata": {
        "id": "oYQQktxHaIOx",
        "outputId": "398000f2-9a18-4a9b-bb63-b12ab6326279"
      },
      "outputs": [
        {
          "name": "stdout",
          "output_type": "stream",
          "text": [
            "WARNING:tensorflow:7 out of the last 8 calls to <function Model.make_predict_function.<locals>.predict_function at 0x7fd9725c28c0> triggered tf.function retracing. Tracing is expensive and the excessive number of tracings could be due to (1) creating @tf.function repeatedly in a loop, (2) passing tensors with different shapes, (3) passing Python objects instead of tensors. For (1), please define your @tf.function outside of the loop. For (2), @tf.function has experimental_relax_shapes=True option that relaxes argument shapes that can avoid unnecessary retracing. For (3), please refer to https://www.tensorflow.org/guide/function#controlling_retracing and https://www.tensorflow.org/api_docs/python/tf/function for  more details.\n"
          ]
        },
        {
          "data": {
            "text/plain": [
              "array([[0.5400236],\n",
              "       [1.6505969],\n",
              "       [3.0098243]], dtype=float32)"
            ]
          },
          "execution_count": 73,
          "metadata": {},
          "output_type": "execute_result"
        }
      ],
      "source": [
        "model.predict(X_new)"
      ]
    },
    {
      "cell_type": "code",
      "execution_count": null,
      "metadata": {
        "id": "CL5mBoi1aIOx"
      },
      "outputs": [],
      "source": [
        "model.save_weights(\"my_keras_weights.ckpt\")"
      ]
    },
    {
      "cell_type": "code",
      "execution_count": null,
      "metadata": {
        "id": "mfhC6gdmaIOx",
        "outputId": "f23623de-2836-4fda-c4c8-4d04ad80443d"
      },
      "outputs": [
        {
          "data": {
            "text/plain": [
              "<tensorflow.python.training.tracking.util.CheckpointLoadStatus at 0x7fd9890c2990>"
            ]
          },
          "execution_count": 75,
          "metadata": {},
          "output_type": "execute_result"
        }
      ],
      "source": [
        "model.load_weights(\"my_keras_weights.ckpt\")"
      ]
    },
    {
      "cell_type": "markdown",
      "metadata": {
        "id": "c2uiKqN2aIOx"
      },
      "source": [
        "# Using Callbacks during Training"
      ]
    },
    {
      "cell_type": "code",
      "execution_count": null,
      "metadata": {
        "id": "nNyN5Je3aIOy"
      },
      "outputs": [],
      "source": [
        "keras.backend.clear_session()\n",
        "np.random.seed(42)\n",
        "tf.random.set_seed(42)"
      ]
    },
    {
      "cell_type": "code",
      "execution_count": null,
      "metadata": {
        "id": "uMl0HxRoaIOy"
      },
      "outputs": [],
      "source": [
        "model = keras.models.Sequential([\n",
        "    keras.layers.Dense(30, activation=\"relu\", input_shape=[8]),\n",
        "    keras.layers.Dense(30, activation=\"relu\"),\n",
        "    keras.layers.Dense(1)\n",
        "])"
      ]
    },
    {
      "cell_type": "code",
      "execution_count": null,
      "metadata": {
        "id": "_uYdMeBoaIOy",
        "outputId": "279d93f6-7947-4714-83a4-b2c1a530ec6e"
      },
      "outputs": [
        {
          "name": "stdout",
          "output_type": "stream",
          "text": [
            "Epoch 1/10\n",
            "363/363 [==============================] - 0s 846us/step - loss: 3.3697 - val_loss: 0.7126\n",
            "Epoch 2/10\n",
            "363/363 [==============================] - 0s 672us/step - loss: 0.6964 - val_loss: 0.6880\n",
            "Epoch 3/10\n",
            "363/363 [==============================] - 0s 658us/step - loss: 0.6167 - val_loss: 0.5803\n",
            "Epoch 4/10\n",
            "363/363 [==============================] - 0s 651us/step - loss: 0.5846 - val_loss: 0.5166\n",
            "Epoch 5/10\n",
            "363/363 [==============================] - 0s 670us/step - loss: 0.5321 - val_loss: 0.4895\n",
            "Epoch 6/10\n",
            "363/363 [==============================] - 0s 658us/step - loss: 0.5083 - val_loss: 0.4951\n",
            "Epoch 7/10\n",
            "363/363 [==============================] - 0s 682us/step - loss: 0.5044 - val_loss: 0.4861\n",
            "Epoch 8/10\n",
            "363/363 [==============================] - 0s 657us/step - loss: 0.4813 - val_loss: 0.4554\n",
            "Epoch 9/10\n",
            "363/363 [==============================] - 0s 672us/step - loss: 0.4627 - val_loss: 0.4413\n",
            "Epoch 10/10\n",
            "363/363 [==============================] - 0s 655us/step - loss: 0.4549 - val_loss: 0.4379\n",
            "162/162 [==============================] - 0s 460us/step - loss: 0.4382\n"
          ]
        }
      ],
      "source": [
        "model.compile(loss=\"mse\", optimizer=keras.optimizers.SGD(learning_rate=1e-3))\n",
        "checkpoint_cb = keras.callbacks.ModelCheckpoint(\"my_keras_model.h5\", save_best_only=True)\n",
        "history = model.fit(X_train, y_train, epochs=10,\n",
        "                    validation_data=(X_valid, y_valid),\n",
        "                    callbacks=[checkpoint_cb])\n",
        "model = keras.models.load_model(\"my_keras_model.h5\") # rollback to best model\n",
        "mse_test = model.evaluate(X_test, y_test)"
      ]
    },
    {
      "cell_type": "code",
      "execution_count": null,
      "metadata": {
        "id": "ofhDhPPvaIOy",
        "outputId": "61e527c3-3672-4dbd-9213-4536a845e10b"
      },
      "outputs": [
        {
          "name": "stdout",
          "output_type": "stream",
          "text": [
            "Epoch 1/100\n",
            "363/363 [==============================] - 0s 878us/step - loss: 0.4578 - val_loss: 0.4110\n",
            "Epoch 2/100\n",
            "363/363 [==============================] - 0s 702us/step - loss: 0.4430 - val_loss: 0.4266\n",
            "Epoch 3/100\n",
            "363/363 [==============================] - 0s 676us/step - loss: 0.4376 - val_loss: 0.3996\n",
            "Epoch 4/100\n",
            "363/363 [==============================] - 0s 671us/step - loss: 0.4361 - val_loss: 0.3939\n",
            "Epoch 5/100\n",
            "363/363 [==============================] - 0s 674us/step - loss: 0.4204 - val_loss: 0.3889\n",
            "Epoch 6/100\n",
            "363/363 [==============================] - 0s 672us/step - loss: 0.4112 - val_loss: 0.3866\n",
            "Epoch 7/100\n",
            "363/363 [==============================] - 0s 671us/step - loss: 0.4226 - val_loss: 0.3860\n",
            "Epoch 8/100\n",
            "363/363 [==============================] - 0s 659us/step - loss: 0.4135 - val_loss: 0.3793\n",
            "Epoch 9/100\n",
            "363/363 [==============================] - 0s 661us/step - loss: 0.4039 - val_loss: 0.3746\n",
            "Epoch 10/100\n",
            "363/363 [==============================] - 0s 655us/step - loss: 0.4023 - val_loss: 0.3723\n",
            "Epoch 11/100\n",
            "363/363 [==============================] - 0s 674us/step - loss: 0.3950 - val_loss: 0.3697\n",
            "Epoch 12/100\n",
            "363/363 [==============================] - 0s 652us/step - loss: 0.3912 - val_loss: 0.3669\n",
            "Epoch 13/100\n",
            "363/363 [==============================] - 0s 660us/step - loss: 0.3939 - val_loss: 0.3661\n",
            "Epoch 14/100\n",
            "363/363 [==============================] - 0s 648us/step - loss: 0.3868 - val_loss: 0.3631\n",
            "Epoch 15/100\n",
            "363/363 [==============================] - 0s 677us/step - loss: 0.3878 - val_loss: 0.3660\n",
            "Epoch 16/100\n",
            "363/363 [==============================] - 0s 651us/step - loss: 0.3935 - val_loss: 0.3625\n",
            "Epoch 17/100\n",
            "363/363 [==============================] - 0s 653us/step - loss: 0.3817 - val_loss: 0.3592\n",
            "Epoch 18/100\n",
            "<<123 more lines>>\n",
            "Epoch 80/100\n",
            "363/363 [==============================] - 0s 677us/step - loss: 0.3323 - val_loss: 0.3354\n",
            "Epoch 81/100\n",
            "363/363 [==============================] - 0s 677us/step - loss: 0.3297 - val_loss: 0.3274\n",
            "Epoch 82/100\n",
            "363/363 [==============================] - 0s 643us/step - loss: 0.3441 - val_loss: 0.3167\n",
            "Epoch 83/100\n",
            "363/363 [==============================] - 0s 699us/step - loss: 0.3369 - val_loss: 0.3280\n",
            "Epoch 84/100\n",
            "363/363 [==============================] - 0s 646us/step - loss: 0.3182 - val_loss: 0.3634\n",
            "Epoch 85/100\n",
            "363/363 [==============================] - 0s 682us/step - loss: 0.3235 - val_loss: 0.3176\n",
            "Epoch 86/100\n",
            "363/363 [==============================] - 0s 590us/step - loss: 0.3184 - val_loss: 0.3156\n",
            "Epoch 87/100\n",
            "363/363 [==============================] - 0s 677us/step - loss: 0.3395 - val_loss: 0.3529\n",
            "Epoch 88/100\n",
            "363/363 [==============================] - 0s 701us/step - loss: 0.3264 - val_loss: 0.3258\n",
            "Epoch 89/100\n",
            "363/363 [==============================] - 0s 710us/step - loss: 0.3210 - val_loss: 0.3630\n",
            "Epoch 90/100\n",
            "363/363 [==============================] - 0s 692us/step - loss: 0.3192 - val_loss: 0.3376\n",
            "Epoch 91/100\n",
            "363/363 [==============================] - 0s 704us/step - loss: 0.3237 - val_loss: 0.3211\n",
            "Epoch 92/100\n",
            "363/363 [==============================] - 0s 696us/step - loss: 0.3281 - val_loss: 0.3456\n",
            "Epoch 93/100\n",
            "363/363 [==============================] - 0s 696us/step - loss: 0.3424 - val_loss: 0.3158\n",
            "Epoch 94/100\n",
            "363/363 [==============================] - 0s 684us/step - loss: 0.3209 - val_loss: 0.3409\n",
            "Epoch 95/100\n",
            "363/363 [==============================] - 0s 676us/step - loss: 0.3230 - val_loss: 0.3379\n",
            "Epoch 96/100\n",
            "363/363 [==============================] - 0s 676us/step - loss: 0.3341 - val_loss: 0.3213\n",
            "162/162 [==============================] - 0s 440us/step - loss: 0.3310\n"
          ]
        }
      ],
      "source": [
        "model.compile(loss=\"mse\", optimizer=keras.optimizers.SGD(learning_rate=1e-3))\n",
        "early_stopping_cb = keras.callbacks.EarlyStopping(patience=10,\n",
        "                                                  restore_best_weights=True)\n",
        "history = model.fit(X_train, y_train, epochs=100,\n",
        "                    validation_data=(X_valid, y_valid),\n",
        "                    callbacks=[checkpoint_cb, early_stopping_cb])\n",
        "mse_test = model.evaluate(X_test, y_test)"
      ]
    },
    {
      "cell_type": "code",
      "execution_count": null,
      "metadata": {
        "id": "2ZWN2DWtaIOy"
      },
      "outputs": [],
      "source": [
        "class PrintValTrainRatioCallback(keras.callbacks.Callback):\n",
        "    def on_epoch_end(self, epoch, logs):\n",
        "        print(\"\\nval/train: {:.2f}\".format(logs[\"val_loss\"] / logs[\"loss\"]))"
      ]
    },
    {
      "cell_type": "code",
      "execution_count": null,
      "metadata": {
        "id": "ub8FWpySaIOy",
        "outputId": "1b71e231-58d1-4762-8d64-b3165155cb34"
      },
      "outputs": [
        {
          "name": "stdout",
          "output_type": "stream",
          "text": [
            "363/363 [==============================] - 0s 799us/step - loss: 0.3302 - val_loss: 0.3556\n",
            "\n",
            "val/train: 1.08\n"
          ]
        }
      ],
      "source": [
        "val_train_ratio_cb = PrintValTrainRatioCallback()\n",
        "history = model.fit(X_train, y_train, epochs=1,\n",
        "                    validation_data=(X_valid, y_valid),\n",
        "                    callbacks=[val_train_ratio_cb])"
      ]
    },
    {
      "cell_type": "markdown",
      "metadata": {
        "id": "GaJ9p5bPaIOy"
      },
      "source": [
        "# TensorBoard"
      ]
    },
    {
      "cell_type": "code",
      "execution_count": null,
      "metadata": {
        "id": "GSBcGby-aIOy"
      },
      "outputs": [],
      "source": [
        "root_logdir = os.path.join(os.curdir, \"my_logs\")"
      ]
    },
    {
      "cell_type": "code",
      "execution_count": null,
      "metadata": {
        "id": "Tv1KidUSaIOz",
        "outputId": "1950c891-c3c8-4dd7-8729-a2d24b64db7f"
      },
      "outputs": [
        {
          "data": {
            "text/plain": [
              "'./my_logs/run_2021_02_13-18_39_20'"
            ]
          },
          "execution_count": 83,
          "metadata": {},
          "output_type": "execute_result"
        }
      ],
      "source": [
        "def get_run_logdir():\n",
        "    import time\n",
        "    run_id = time.strftime(\"run_%Y_%m_%d-%H_%M_%S\")\n",
        "    return os.path.join(root_logdir, run_id)\n",
        "\n",
        "run_logdir = get_run_logdir()\n",
        "run_logdir"
      ]
    },
    {
      "cell_type": "code",
      "execution_count": null,
      "metadata": {
        "id": "Kn2VME0_aIOz"
      },
      "outputs": [],
      "source": [
        "keras.backend.clear_session()\n",
        "np.random.seed(42)\n",
        "tf.random.set_seed(42)"
      ]
    },
    {
      "cell_type": "code",
      "execution_count": null,
      "metadata": {
        "id": "NW3AKyOuaIOz"
      },
      "outputs": [],
      "source": [
        "model = keras.models.Sequential([\n",
        "    keras.layers.Dense(30, activation=\"relu\", input_shape=[8]),\n",
        "    keras.layers.Dense(30, activation=\"relu\"),\n",
        "    keras.layers.Dense(1)\n",
        "])\n",
        "model.compile(loss=\"mse\", optimizer=keras.optimizers.SGD(learning_rate=1e-3))"
      ]
    },
    {
      "cell_type": "code",
      "execution_count": null,
      "metadata": {
        "id": "UeHwQi4xaIOz",
        "outputId": "94049e4c-4e57-4ec1-8909-bffa0757a55a"
      },
      "outputs": [
        {
          "name": "stdout",
          "output_type": "stream",
          "text": [
            "Epoch 1/30\n",
            "363/363 [==============================] - 1s 927us/step - loss: 3.3697 - val_loss: 0.7126\n",
            "Epoch 2/30\n",
            "363/363 [==============================] - 0s 695us/step - loss: 0.6964 - val_loss: 0.6880\n",
            "Epoch 3/30\n",
            "363/363 [==============================] - 0s 668us/step - loss: 0.6167 - val_loss: 0.5803\n",
            "Epoch 4/30\n",
            "363/363 [==============================] - 0s 672us/step - loss: 0.5846 - val_loss: 0.5166\n",
            "Epoch 5/30\n",
            "363/363 [==============================] - 0s 692us/step - loss: 0.5321 - val_loss: 0.4895\n",
            "Epoch 6/30\n",
            "363/363 [==============================] - 0s 755us/step - loss: 0.5083 - val_loss: 0.4951\n",
            "Epoch 7/30\n",
            "363/363 [==============================] - 0s 697us/step - loss: 0.5044 - val_loss: 0.4861\n",
            "Epoch 8/30\n",
            "363/363 [==============================] - 0s 668us/step - loss: 0.4813 - val_loss: 0.4554\n",
            "Epoch 9/30\n",
            "363/363 [==============================] - 0s 681us/step - loss: 0.4627 - val_loss: 0.4413\n",
            "Epoch 10/30\n",
            "363/363 [==============================] - 0s 701us/step - loss: 0.4549 - val_loss: 0.4379\n",
            "Epoch 11/30\n",
            "363/363 [==============================] - 0s 696us/step - loss: 0.4416 - val_loss: 0.4396\n",
            "Epoch 12/30\n",
            "363/363 [==============================] - 0s 692us/step - loss: 0.4295 - val_loss: 0.4507\n",
            "Epoch 13/30\n",
            "363/363 [==============================] - 0s 703us/step - loss: 0.4326 - val_loss: 0.3997\n",
            "Epoch 14/30\n",
            "363/363 [==============================] - 0s 703us/step - loss: 0.4207 - val_loss: 0.3956\n",
            "Epoch 15/30\n",
            "363/363 [==============================] - 0s 698us/step - loss: 0.4198 - val_loss: 0.3916\n",
            "Epoch 16/30\n",
            "363/363 [==============================] - 0s 695us/step - loss: 0.4248 - val_loss: 0.3937\n",
            "Epoch 17/30\n",
            "363/363 [==============================] - 0s 699us/step - loss: 0.4105 - val_loss: 0.3809\n",
            "Epoch 18/30\n",
            "363/363 [==============================] - 0s 697us/step - loss: 0.4070 - val_loss: 0.3793\n",
            "Epoch 19/30\n",
            "363/363 [==============================] - 0s 674us/step - loss: 0.3902 - val_loss: 0.3850\n",
            "Epoch 20/30\n",
            "363/363 [==============================] - 0s 680us/step - loss: 0.3864 - val_loss: 0.3809\n",
            "Epoch 21/30\n",
            "363/363 [==============================] - 0s 693us/step - loss: 0.3978 - val_loss: 0.3701\n",
            "Epoch 22/30\n",
            "363/363 [==============================] - 0s 694us/step - loss: 0.3816 - val_loss: 0.3781\n",
            "Epoch 23/30\n",
            "363/363 [==============================] - 0s 680us/step - loss: 0.4042 - val_loss: 0.3650\n",
            "Epoch 24/30\n",
            "363/363 [==============================] - 0s 630us/step - loss: 0.3823 - val_loss: 0.3655\n",
            "Epoch 25/30\n",
            "363/363 [==============================] - 0s 699us/step - loss: 0.3792 - val_loss: 0.3611\n",
            "Epoch 26/30\n",
            "363/363 [==============================] - 0s 684us/step - loss: 0.3800 - val_loss: 0.3626\n",
            "Epoch 27/30\n",
            "363/363 [==============================] - 0s 686us/step - loss: 0.3858 - val_loss: 0.3564\n",
            "Epoch 28/30\n",
            "363/363 [==============================] - 0s 690us/step - loss: 0.3839 - val_loss: 0.3579\n",
            "Epoch 29/30\n",
            "363/363 [==============================] - 0s 695us/step - loss: 0.3736 - val_loss: 0.3561\n",
            "Epoch 30/30\n",
            "363/363 [==============================] - 0s 684us/step - loss: 0.3843 - val_loss: 0.3548\n"
          ]
        }
      ],
      "source": [
        "tensorboard_cb = keras.callbacks.TensorBoard(run_logdir)\n",
        "history = model.fit(X_train, y_train, epochs=30,\n",
        "                    validation_data=(X_valid, y_valid),\n",
        "                    callbacks=[checkpoint_cb, tensorboard_cb])"
      ]
    },
    {
      "cell_type": "markdown",
      "metadata": {
        "id": "l-mH4RwkaIOz"
      },
      "source": [
        "To start the TensorBoard server, one option is to open a terminal, if needed activate the virtualenv where you installed TensorBoard, go to this notebook's directory, then type:\n",
        "\n",
        "```bash\n",
        "$ tensorboard --logdir=./my_logs --port=6006\n",
        "```\n",
        "\n",
        "You can then open your web browser to [localhost:6006](http://localhost:6006) and use TensorBoard. Once you are done, press Ctrl-C in the terminal window, this will shutdown the TensorBoard server.\n",
        "\n",
        "Alternatively, you can load TensorBoard's Jupyter extension and run it like this:"
      ]
    },
    {
      "cell_type": "code",
      "execution_count": null,
      "metadata": {
        "id": "oaCx4677aIOz",
        "outputId": "39fefc27-d990-48e1-d93e-cbf55824d22a"
      },
      "outputs": [
        {
          "data": {
            "text/html": [
              "\n",
              "      <iframe id=\"tensorboard-frame-96b788e8a876699a\" width=\"100%\" height=\"800\" frameborder=\"0\">\n",
              "      </iframe>\n",
              "      <script>\n",
              "        (function() {\n",
              "          const frame = document.getElementById(\"tensorboard-frame-96b788e8a876699a\");\n",
              "          const url = new URL(\"/\", window.location);\n",
              "          const port = 6006;\n",
              "          if (port) {\n",
              "            url.port = port;\n",
              "          }\n",
              "          frame.src = url;\n",
              "        })();\n",
              "      </script>\n",
              "    "
            ],
            "text/plain": [
              "<IPython.core.display.HTML object>"
            ]
          },
          "metadata": {},
          "output_type": "display_data"
        }
      ],
      "source": [
        "%load_ext tensorboard\n",
        "%tensorboard --logdir=./my_logs --port=6006"
      ]
    },
    {
      "cell_type": "code",
      "execution_count": null,
      "metadata": {
        "id": "TRhY0PpEaIOz",
        "outputId": "71ea2f23-97b4-4029-c162-bdbe9d4ab98b"
      },
      "outputs": [
        {
          "data": {
            "text/plain": [
              "'./my_logs/run_2021_02_13-18_39_31'"
            ]
          },
          "execution_count": 88,
          "metadata": {},
          "output_type": "execute_result"
        }
      ],
      "source": [
        "run_logdir2 = get_run_logdir()\n",
        "run_logdir2"
      ]
    },
    {
      "cell_type": "code",
      "execution_count": null,
      "metadata": {
        "id": "C99As30WaIOz"
      },
      "outputs": [],
      "source": [
        "keras.backend.clear_session()\n",
        "np.random.seed(42)\n",
        "tf.random.set_seed(42)"
      ]
    },
    {
      "cell_type": "code",
      "execution_count": null,
      "metadata": {
        "id": "cM1VcArPaIOz"
      },
      "outputs": [],
      "source": [
        "model = keras.models.Sequential([\n",
        "    keras.layers.Dense(30, activation=\"relu\", input_shape=[8]),\n",
        "    keras.layers.Dense(30, activation=\"relu\"),\n",
        "    keras.layers.Dense(1)\n",
        "])\n",
        "model.compile(loss=\"mse\", optimizer=keras.optimizers.SGD(learning_rate=0.05))"
      ]
    },
    {
      "cell_type": "code",
      "execution_count": null,
      "metadata": {
        "id": "QhL661-waIO0",
        "outputId": "3298fd02-7d8e-4566-cbb3-1f2bff9efaae"
      },
      "outputs": [
        {
          "name": "stdout",
          "output_type": "stream",
          "text": [
            "Epoch 1/30\n",
            "363/363 [==============================] - 1s 1ms/step - loss: 0.7645 - val_loss: 302.8536\n",
            "Epoch 2/30\n",
            "363/363 [==============================] - 0s 713us/step - loss: 8159520618.2209 - val_loss: 1.3230\n",
            "Epoch 3/30\n",
            "363/363 [==============================] - 0s 735us/step - loss: 1.3439 - val_loss: 1.3176\n",
            "Epoch 4/30\n",
            "363/363 [==============================] - 0s 738us/step - loss: 1.3546 - val_loss: 1.3261\n",
            "Epoch 5/30\n",
            "363/363 [==============================] - 0s 712us/step - loss: 1.3513 - val_loss: 1.3154\n",
            "Epoch 6/30\n",
            "363/363 [==============================] - 0s 724us/step - loss: 1.3274 - val_loss: 1.3203\n",
            "Epoch 7/30\n",
            "363/363 [==============================] - 0s 693us/step - loss: 1.3639 - val_loss: 1.3149\n",
            "Epoch 8/30\n",
            "363/363 [==============================] - 0s 709us/step - loss: 1.3487 - val_loss: 1.3157\n",
            "Epoch 9/30\n",
            "363/363 [==============================] - 0s 681us/step - loss: 1.3445 - val_loss: 1.3150\n",
            "Epoch 10/30\n",
            "363/363 [==============================] - 0s 681us/step - loss: 1.3697 - val_loss: 1.3172\n",
            "Epoch 11/30\n",
            "363/363 [==============================] - 0s 687us/step - loss: 1.3622 - val_loss: 1.3174\n",
            "Epoch 12/30\n",
            "363/363 [==============================] - 0s 693us/step - loss: 1.3389 - val_loss: 1.3150\n",
            "Epoch 13/30\n",
            "363/363 [==============================] - 0s 668us/step - loss: 1.3336 - val_loss: 1.3270\n",
            "Epoch 14/30\n",
            "363/363 [==============================] - 0s 673us/step - loss: 1.3429 - val_loss: 1.3195\n",
            "Epoch 15/30\n",
            "363/363 [==============================] - 0s 679us/step - loss: 1.3275 - val_loss: 1.3157\n",
            "Epoch 16/30\n",
            "363/363 [==============================] - 0s 701us/step - loss: 1.3669 - val_loss: 1.3182\n",
            "Epoch 17/30\n",
            "363/363 [==============================] - 0s 692us/step - loss: 1.3645 - val_loss: 1.3223\n",
            "Epoch 18/30\n",
            "363/363 [==============================] - 0s 691us/step - loss: 1.3839 - val_loss: 1.3154\n",
            "Epoch 19/30\n",
            "363/363 [==============================] - 0s 680us/step - loss: 1.3078 - val_loss: 1.3168\n",
            "Epoch 20/30\n",
            "363/363 [==============================] - 0s 663us/step - loss: 1.3215 - val_loss: 1.3151\n",
            "Epoch 21/30\n",
            "363/363 [==============================] - 0s 723us/step - loss: 1.3344 - val_loss: 1.3174\n",
            "Epoch 22/30\n",
            "363/363 [==============================] - 0s 674us/step - loss: 1.3269 - val_loss: 1.3204\n",
            "Epoch 23/30\n",
            "363/363 [==============================] - 0s 700us/step - loss: 1.3590 - val_loss: 1.3164\n",
            "Epoch 24/30\n",
            "363/363 [==============================] - 0s 687us/step - loss: 1.3381 - val_loss: 1.3157\n",
            "Epoch 25/30\n",
            "363/363 [==============================] - 0s 687us/step - loss: 1.3265 - val_loss: 1.3180\n",
            "Epoch 26/30\n",
            "363/363 [==============================] - 0s 704us/step - loss: 1.3532 - val_loss: 1.3195\n",
            "Epoch 27/30\n",
            "363/363 [==============================] - 0s 715us/step - loss: 1.3552 - val_loss: 1.3157\n",
            "Epoch 28/30\n",
            "363/363 [==============================] - 0s 698us/step - loss: 1.3447 - val_loss: 1.3222\n",
            "Epoch 29/30\n",
            "363/363 [==============================] - 0s 713us/step - loss: 1.3379 - val_loss: 1.3267\n",
            "Epoch 30/30\n",
            "363/363 [==============================] - 0s 698us/step - loss: 1.3583 - val_loss: 1.3174\n"
          ]
        }
      ],
      "source": [
        "tensorboard_cb = keras.callbacks.TensorBoard(run_logdir2)\n",
        "history = model.fit(X_train, y_train, epochs=30,\n",
        "                    validation_data=(X_valid, y_valid),\n",
        "                    callbacks=[checkpoint_cb, tensorboard_cb])"
      ]
    },
    {
      "cell_type": "markdown",
      "metadata": {
        "id": "BK3XNU8laIO0"
      },
      "source": [
        "Notice how TensorBoard now sees two runs, and you can compare the learning curves."
      ]
    },
    {
      "cell_type": "markdown",
      "metadata": {
        "id": "g8wCKCO-aIO0"
      },
      "source": [
        "Check out the other available logging options:"
      ]
    },
    {
      "cell_type": "code",
      "execution_count": null,
      "metadata": {
        "id": "QGTboK_vaIO0",
        "outputId": "93517aff-d2d7-46f1-91bc-c0341f2fbb1c"
      },
      "outputs": [
        {
          "name": "stdout",
          "output_type": "stream",
          "text": [
            "Help on function __init__ in module tensorflow.python.keras.callbacks:\n",
            "\n",
            "__init__(self, log_dir='logs', histogram_freq=0, write_graph=True, write_images=False, update_freq='epoch', profile_batch=2, embeddings_freq=0, embeddings_metadata=None, **kwargs)\n",
            "    Initialize self.  See help(type(self)) for accurate signature.\n",
            "\n"
          ]
        }
      ],
      "source": [
        "help(keras.callbacks.TensorBoard.__init__)"
      ]
    },
    {
      "cell_type": "markdown",
      "metadata": {
        "id": "QReAARbwaIO0"
      },
      "source": [
        "# Hyperparameter Tuning"
      ]
    },
    {
      "cell_type": "code",
      "execution_count": null,
      "metadata": {
        "id": "fBjwz2sIaIO0"
      },
      "outputs": [],
      "source": [
        "keras.backend.clear_session()\n",
        "np.random.seed(42)\n",
        "tf.random.set_seed(42)"
      ]
    },
    {
      "cell_type": "code",
      "execution_count": null,
      "metadata": {
        "id": "-Hd2dFp1aIO0"
      },
      "outputs": [],
      "source": [
        "def build_model(n_hidden=1, n_neurons=30, learning_rate=3e-3, input_shape=[8]):\n",
        "    model = keras.models.Sequential()\n",
        "    model.add(keras.layers.InputLayer(input_shape=input_shape))\n",
        "    for layer in range(n_hidden):\n",
        "        model.add(keras.layers.Dense(n_neurons, activation=\"relu\"))\n",
        "    model.add(keras.layers.Dense(1))\n",
        "    optimizer = keras.optimizers.SGD(learning_rate=learning_rate)\n",
        "    model.compile(loss=\"mse\", optimizer=optimizer)\n",
        "    return model"
      ]
    },
    {
      "cell_type": "code",
      "execution_count": null,
      "metadata": {
        "id": "ATG2kGRSaIO1"
      },
      "outputs": [],
      "source": [
        "keras_reg = keras.wrappers.scikit_learn.KerasRegressor(build_model)"
      ]
    },
    {
      "cell_type": "code",
      "execution_count": null,
      "metadata": {
        "id": "jjEhnQBzaIO1",
        "outputId": "115ad43c-100d-41a6-c4e5-0da7b864ada2"
      },
      "outputs": [
        {
          "name": "stdout",
          "output_type": "stream",
          "text": [
            "Epoch 1/100\n",
            "363/363 [==============================] - 0s 905us/step - loss: 1.5673 - val_loss: 20.7721\n",
            "Epoch 2/100\n",
            "363/363 [==============================] - 0s 665us/step - loss: 1.3216 - val_loss: 5.0266\n",
            "Epoch 3/100\n",
            "363/363 [==============================] - 0s 671us/step - loss: 0.5972 - val_loss: 0.5490\n",
            "Epoch 4/100\n",
            "363/363 [==============================] - 0s 661us/step - loss: 0.4985 - val_loss: 0.4529\n",
            "Epoch 5/100\n",
            "363/363 [==============================] - 0s 687us/step - loss: 0.4608 - val_loss: 0.4188\n",
            "Epoch 6/100\n",
            "363/363 [==============================] - 0s 678us/step - loss: 0.4410 - val_loss: 0.4129\n",
            "Epoch 7/100\n",
            "363/363 [==============================] - 0s 676us/step - loss: 0.4463 - val_loss: 0.4004\n",
            "Epoch 8/100\n",
            "363/363 [==============================] - 0s 686us/step - loss: 0.4283 - val_loss: 0.3944\n",
            "Epoch 9/100\n",
            "363/363 [==============================] - 0s 660us/step - loss: 0.4139 - val_loss: 0.3961\n",
            "Epoch 10/100\n",
            "363/363 [==============================] - 0s 681us/step - loss: 0.4107 - val_loss: 0.4071\n",
            "Epoch 11/100\n",
            "363/363 [==============================] - 0s 655us/step - loss: 0.3992 - val_loss: 0.3855\n",
            "Epoch 12/100\n",
            "363/363 [==============================] - 0s 627us/step - loss: 0.3982 - val_loss: 0.4136\n",
            "Epoch 13/100\n",
            "363/363 [==============================] - 0s 692us/step - loss: 0.3983 - val_loss: 0.3997\n",
            "Epoch 14/100\n",
            "363/363 [==============================] - 0s 675us/step - loss: 0.3910 - val_loss: 0.3818\n",
            "Epoch 15/100\n",
            "363/363 [==============================] - 0s 592us/step - loss: 0.3948 - val_loss: 0.3829\n",
            "Epoch 16/100\n",
            "363/363 [==============================] - 0s 686us/step - loss: 0.3981 - val_loss: 0.3739\n",
            "Epoch 17/100\n",
            "363/363 [==============================] - 0s 674us/step - loss: 0.3821 - val_loss: 0.4022\n",
            "Epoch 18/100\n",
            "<<130 more lines>>\n",
            "363/363 [==============================] - 0s 627us/step - loss: 0.3441 - val_loss: 0.3342\n",
            "Epoch 84/100\n",
            "363/363 [==============================] - 0s 640us/step - loss: 0.3240 - val_loss: 0.4136\n",
            "Epoch 85/100\n",
            "363/363 [==============================] - 0s 656us/step - loss: 0.3303 - val_loss: 0.3285\n",
            "Epoch 86/100\n",
            "363/363 [==============================] - 0s 671us/step - loss: 0.3263 - val_loss: 0.3440\n",
            "Epoch 87/100\n",
            "363/363 [==============================] - 0s 672us/step - loss: 0.3483 - val_loss: 0.3733\n",
            "Epoch 88/100\n",
            "363/363 [==============================] - 0s 649us/step - loss: 0.3305 - val_loss: 0.3188\n",
            "Epoch 89/100\n",
            "363/363 [==============================] - 0s 578us/step - loss: 0.3283 - val_loss: 0.3492\n",
            "Epoch 90/100\n",
            "363/363 [==============================] - 0s 665us/step - loss: 0.3243 - val_loss: 0.3175\n",
            "Epoch 91/100\n",
            "363/363 [==============================] - 0s 664us/step - loss: 0.3288 - val_loss: 0.3594\n",
            "Epoch 92/100\n",
            "363/363 [==============================] - 0s 675us/step - loss: 0.3343 - val_loss: 0.3169\n",
            "Epoch 93/100\n",
            "363/363 [==============================] - 0s 666us/step - loss: 0.3485 - val_loss: 0.3607\n",
            "Epoch 94/100\n",
            "363/363 [==============================] - 0s 659us/step - loss: 0.3262 - val_loss: 0.5184\n",
            "Epoch 95/100\n",
            "363/363 [==============================] - 0s 677us/step - loss: 0.3284 - val_loss: 0.7536\n",
            "Epoch 96/100\n",
            "363/363 [==============================] - 0s 674us/step - loss: 0.3494 - val_loss: 0.5075\n",
            "Epoch 97/100\n",
            "363/363 [==============================] - 0s 628us/step - loss: 0.3290 - val_loss: 0.8087\n",
            "Epoch 98/100\n",
            "363/363 [==============================] - 0s 624us/step - loss: 0.3277 - val_loss: 1.0447\n",
            "Epoch 99/100\n",
            "363/363 [==============================] - 0s 683us/step - loss: 0.3199 - val_loss: 1.6881\n",
            "Epoch 100/100\n",
            "363/363 [==============================] - 0s 671us/step - loss: 0.3706 - val_loss: 1.9265\n"
          ]
        },
        {
          "data": {
            "text/plain": [
              "<tensorflow.python.keras.callbacks.History at 0x7fd97a00df90>"
            ]
          },
          "execution_count": 96,
          "metadata": {},
          "output_type": "execute_result"
        }
      ],
      "source": [
        "keras_reg.fit(X_train, y_train, epochs=100,\n",
        "              validation_data=(X_valid, y_valid),\n",
        "              callbacks=[keras.callbacks.EarlyStopping(patience=10)])"
      ]
    },
    {
      "cell_type": "code",
      "execution_count": null,
      "metadata": {
        "id": "ew772guKaIO1",
        "outputId": "941ba4ac-fb46-4562-b6c9-83834db588df"
      },
      "outputs": [
        {
          "name": "stdout",
          "output_type": "stream",
          "text": [
            "162/162 [==============================] - 0s 417us/step - loss: 0.3409\n"
          ]
        }
      ],
      "source": [
        "mse_test = keras_reg.score(X_test, y_test)"
      ]
    },
    {
      "cell_type": "code",
      "execution_count": null,
      "metadata": {
        "id": "Nt9uJBu0aIO1",
        "outputId": "c7ad40c3-5c6e-4bfb-913a-41cbd8f0f4c9"
      },
      "outputs": [
        {
          "name": "stdout",
          "output_type": "stream",
          "text": [
            "WARNING:tensorflow:8 out of the last 9 calls to <function Model.make_predict_function.<locals>.predict_function at 0x7fd98963b7a0> triggered tf.function retracing. Tracing is expensive and the excessive number of tracings could be due to (1) creating @tf.function repeatedly in a loop, (2) passing tensors with different shapes, (3) passing Python objects instead of tensors. For (1), please define your @tf.function outside of the loop. For (2), @tf.function has experimental_relax_shapes=True option that relaxes argument shapes that can avoid unnecessary retracing. For (3), please refer to https://www.tensorflow.org/guide/function#controlling_retracing and https://www.tensorflow.org/api_docs/python/tf/function for  more details.\n"
          ]
        }
      ],
      "source": [
        "y_pred = keras_reg.predict(X_new)"
      ]
    },
    {
      "cell_type": "code",
      "execution_count": null,
      "metadata": {
        "id": "xWwQ0UUPaIO1"
      },
      "outputs": [],
      "source": [
        "np.random.seed(42)\n",
        "tf.random.set_seed(42)"
      ]
    },
    {
      "cell_type": "markdown",
      "metadata": {
        "id": "6oEcpzCuaIO1"
      },
      "source": [
        "**Warning**: the following cell crashes at the end of training. This seems to be caused by [Keras issue #13586](https://github.com/keras-team/keras/issues/13586), which was triggered by a recent change in Scikit-Learn. [Pull Request #13598](https://github.com/keras-team/keras/pull/13598) seems to fix the issue, so this problem should be resolved soon. In the meantime, I've added `.tolist()` and `.rvs(1000).tolist()` as workarounds."
      ]
    },
    {
      "cell_type": "code",
      "execution_count": null,
      "metadata": {
        "id": "ljITZD2AaIO1",
        "outputId": "5c46b513-d397-4dcf-f9ff-e9c76fad5e97"
      },
      "outputs": [
        {
          "name": "stdout",
          "output_type": "stream",
          "text": [
            "Fitting 3 folds for each of 10 candidates, totalling 30 fits\n",
            "Epoch 1/100\n",
            "242/242 [==============================] - 0s 1ms/step - loss: 1.3827 - val_loss: 0.4703\n",
            "Epoch 2/100\n",
            "242/242 [==============================] - 0s 757us/step - loss: 0.4880 - val_loss: 0.4247\n",
            "Epoch 3/100\n",
            "242/242 [==============================] - 0s 765us/step - loss: 0.4541 - val_loss: 0.4052\n",
            "Epoch 4/100\n",
            "242/242 [==============================] - 0s 745us/step - loss: 0.4518 - val_loss: 0.3975\n",
            "Epoch 5/100\n",
            "242/242 [==============================] - 0s 765us/step - loss: 0.4337 - val_loss: 0.3991\n",
            "Epoch 6/100\n",
            "242/242 [==============================] - 0s 751us/step - loss: 0.4263 - val_loss: 0.4031\n",
            "Epoch 7/100\n",
            "242/242 [==============================] - 0s 743us/step - loss: 0.4385 - val_loss: 0.4043\n",
            "Epoch 8/100\n",
            "242/242 [==============================] - 0s 780us/step - loss: 0.4301 - val_loss: 0.3929\n",
            "Epoch 9/100\n",
            "242/242 [==============================] - 0s 792us/step - loss: 0.4108 - val_loss: 0.4040\n",
            "Epoch 10/100\n",
            "242/242 [==============================] - 0s 764us/step - loss: 0.4200 - val_loss: 0.3886\n",
            "Epoch 11/100\n",
            "242/242 [==============================] - 0s 745us/step - loss: 0.4099 - val_loss: 0.3999\n",
            "Epoch 12/100\n",
            "242/242 [==============================] - 0s 740us/step - loss: 0.3897 - val_loss: 0.4085\n",
            "Epoch 13/100\n",
            "242/242 [==============================] - 0s 765us/step - loss: 0.4265 - val_loss: 0.3922\n",
            "Epoch 14/100\n",
            "242/242 [==============================] - 0s 752us/step - loss: 0.4108 - val_loss: 0.3918\n",
            "Epoch 15/100\n",
            "242/242 [==============================] - 0s 731us/step - loss: 0.4070 - val_loss: 0.3886\n",
            "Epoch 16/100\n",
            "242/242 [==============================] - 0s 737us/step - loss: 0.4032 - val_loss: 0.3933\n",
            "Epoch 17/100\n",
            "242/242 [==============================] - 0s 774us/step - loss: 0.4212 - val_loss: 0.3907\n",
            "<<2367 more lines>>\n",
            "363/363 [==============================] - 0s 622us/step - loss: 0.3312 - val_loss: 0.5455\n",
            "Epoch 12/100\n",
            "363/363 [==============================] - 0s 727us/step - loss: 0.3456 - val_loss: 0.6470\n",
            "Epoch 13/100\n",
            "363/363 [==============================] - 0s 742us/step - loss: 0.3320 - val_loss: 0.3109\n",
            "Epoch 14/100\n",
            "363/363 [==============================] - 0s 697us/step - loss: 0.3259 - val_loss: 0.3198\n",
            "Epoch 15/100\n",
            "363/363 [==============================] - 0s 662us/step - loss: 0.3222 - val_loss: 0.3065\n",
            "Epoch 16/100\n",
            "363/363 [==============================] - 0s 748us/step - loss: 0.3277 - val_loss: 0.3252\n",
            "Epoch 17/100\n",
            "363/363 [==============================] - 0s 724us/step - loss: 0.3095 - val_loss: 0.3965\n",
            "Epoch 18/100\n",
            "363/363 [==============================] - 0s 703us/step - loss: 0.3107 - val_loss: 0.2997\n",
            "Epoch 19/100\n",
            "363/363 [==============================] - 0s 706us/step - loss: 0.3060 - val_loss: 0.3079\n",
            "Epoch 20/100\n",
            "363/363 [==============================] - 0s 704us/step - loss: 0.3003 - val_loss: 0.4544\n",
            "Epoch 21/100\n",
            "363/363 [==============================] - 0s 698us/step - loss: 0.3090 - val_loss: 0.3274\n",
            "Epoch 22/100\n",
            "363/363 [==============================] - 0s 709us/step - loss: 0.2949 - val_loss: 0.5018\n",
            "Epoch 23/100\n",
            "363/363 [==============================] - 0s 715us/step - loss: 0.3126 - val_loss: 0.5565\n",
            "Epoch 24/100\n",
            "363/363 [==============================] - 0s 702us/step - loss: 0.3031 - val_loss: 0.5390\n",
            "Epoch 25/100\n",
            "363/363 [==============================] - 0s 698us/step - loss: 0.2992 - val_loss: 0.3339\n",
            "Epoch 26/100\n",
            "363/363 [==============================] - 0s 719us/step - loss: 0.2988 - val_loss: 0.5095\n",
            "Epoch 27/100\n",
            "363/363 [==============================] - 0s 716us/step - loss: 0.3001 - val_loss: 0.6597\n",
            "Epoch 28/100\n",
            "363/363 [==============================] - 0s 721us/step - loss: 0.3058 - val_loss: 0.5106\n"
          ]
        },
        {
          "data": {
            "text/plain": [
              "RandomizedSearchCV(cv=3,\n",
              "                   estimator=<tensorflow.python.keras.wrappers.scikit_learn.KerasRegressor object at 0x7fd939643c10>,\n",
              "                   param_distributions={'learning_rate': [0.001683454924600351,\n",
              "                                                          0.02390836445593178,\n",
              "                                                          0.008731907739399206,\n",
              "                                                          0.004725396149933917,\n",
              "                                                          0.0006154014789262348,\n",
              "                                                          0.0006153331256530192,\n",
              "                                                          0.0003920021771415983,\n",
              "                                                          0.01619845322936229,\n",
              "                                                          0.004779156784872302,\n",
              "                                                          0.0...\n",
              "                                                          0.005021425736625637,\n",
              "                                                          0.0005703073595961105,\n",
              "                                                          0.001151888789941251,\n",
              "                                                          0.001621231156394198,\n",
              "                                                          0.0024505367684280487,\n",
              "                                                          0.011155092541719619,\n",
              "                                                          0.0007524347058135697,\n",
              "                                                          0.0032032448128444043,\n",
              "                                                          0.004591455636549438,\n",
              "                                                          0.0003715541189658278, ...],\n",
              "                                        'n_hidden': [0, 1, 2, 3],\n",
              "                                        'n_neurons': [1, 2, 3, 4, 5, 6, 7, 8, 9,\n",
              "                                                      10, 11, 12, 13, 14, 15,\n",
              "                                                      16, 17, 18, 19, 20, 21,\n",
              "                                                      22, 23, 24, 25, 26, 27,\n",
              "                                                      28, 29, 30, ...]},\n",
              "                   verbose=2)"
            ]
          },
          "execution_count": 100,
          "metadata": {},
          "output_type": "execute_result"
        }
      ],
      "source": [
        "from scipy.stats import reciprocal\n",
        "from sklearn.model_selection import RandomizedSearchCV\n",
        "\n",
        "param_distribs = {\n",
        "    \"n_hidden\": [0, 1, 2, 3],\n",
        "    \"n_neurons\": np.arange(1, 100)               .tolist(),\n",
        "    \"learning_rate\": reciprocal(3e-4, 3e-2)      .rvs(1000).tolist(),\n",
        "}\n",
        "\n",
        "rnd_search_cv = RandomizedSearchCV(keras_reg, param_distribs, n_iter=10, cv=3, verbose=2)\n",
        "rnd_search_cv.fit(X_train, y_train, epochs=100,\n",
        "                  validation_data=(X_valid, y_valid),\n",
        "                  callbacks=[keras.callbacks.EarlyStopping(patience=10)])"
      ]
    },
    {
      "cell_type": "code",
      "execution_count": null,
      "metadata": {
        "id": "EydgNYz4aIO2",
        "outputId": "1ee008e5-6a08-4790-bdd8-86edc4fa0b66"
      },
      "outputs": [
        {
          "data": {
            "text/plain": [
              "{'n_neurons': 74, 'n_hidden': 3, 'learning_rate': 0.005803602934201024}"
            ]
          },
          "execution_count": 101,
          "metadata": {},
          "output_type": "execute_result"
        }
      ],
      "source": [
        "rnd_search_cv.best_params_"
      ]
    },
    {
      "cell_type": "code",
      "execution_count": null,
      "metadata": {
        "id": "3e_4TNUVaIO2",
        "outputId": "0970d5c8-89c9-4ff9-af42-eabcb8f1d1f3"
      },
      "outputs": [
        {
          "data": {
            "text/plain": [
              "-0.32039451599121094"
            ]
          },
          "execution_count": 102,
          "metadata": {},
          "output_type": "execute_result"
        }
      ],
      "source": [
        "rnd_search_cv.best_score_"
      ]
    },
    {
      "cell_type": "code",
      "execution_count": null,
      "metadata": {
        "id": "04eePdutaIO2",
        "outputId": "e2bcb975-8c67-4637-b44f-d72c4b2e4d31"
      },
      "outputs": [
        {
          "data": {
            "text/plain": [
              "<tensorflow.python.keras.wrappers.scikit_learn.KerasRegressor at 0x7fd972969310>"
            ]
          },
          "execution_count": 103,
          "metadata": {},
          "output_type": "execute_result"
        }
      ],
      "source": [
        "rnd_search_cv.best_estimator_"
      ]
    },
    {
      "cell_type": "code",
      "execution_count": null,
      "metadata": {
        "id": "lOKSOf3vaIO2",
        "outputId": "87d4ecbc-0b9f-490f-809b-66352c430345"
      },
      "outputs": [
        {
          "name": "stdout",
          "output_type": "stream",
          "text": [
            "162/162 [==============================] - 0s 436us/step - loss: 0.3029\n"
          ]
        },
        {
          "data": {
            "text/plain": [
              "-0.3028871417045593"
            ]
          },
          "execution_count": 104,
          "metadata": {},
          "output_type": "execute_result"
        }
      ],
      "source": [
        "rnd_search_cv.score(X_test, y_test)"
      ]
    },
    {
      "cell_type": "code",
      "execution_count": null,
      "metadata": {
        "id": "vP3smhqGaIO2",
        "outputId": "e37d3a0b-7268-43cc-e2d2-0d9a89fc2801"
      },
      "outputs": [
        {
          "data": {
            "text/plain": [
              "<tensorflow.python.keras.engine.sequential.Sequential at 0x7fd988eafa10>"
            ]
          },
          "execution_count": 105,
          "metadata": {},
          "output_type": "execute_result"
        }
      ],
      "source": [
        "model = rnd_search_cv.best_estimator_.model\n",
        "model"
      ]
    },
    {
      "cell_type": "code",
      "execution_count": null,
      "metadata": {
        "scrolled": true,
        "id": "mViqJ_FoaIO2",
        "outputId": "7f517e6b-6ef8-4682-dfc2-645add010e5e"
      },
      "outputs": [
        {
          "name": "stdout",
          "output_type": "stream",
          "text": [
            "162/162 [==============================] - 0s 446us/step - loss: 0.3029\n"
          ]
        },
        {
          "data": {
            "text/plain": [
              "0.3028871417045593"
            ]
          },
          "execution_count": 106,
          "metadata": {},
          "output_type": "execute_result"
        }
      ],
      "source": [
        "model.evaluate(X_test, y_test)"
      ]
    },
    {
      "cell_type": "markdown",
      "metadata": {
        "id": "7T84gH4SaIO2"
      },
      "source": [
        "# Exercise solutions"
      ]
    },
    {
      "cell_type": "markdown",
      "metadata": {
        "id": "sBZMRlC5aIO2"
      },
      "source": [
        "## 1. to 9."
      ]
    },
    {
      "cell_type": "markdown",
      "metadata": {
        "id": "uJeFsy0uaIO3"
      },
      "source": [
        "See appendix A."
      ]
    },
    {
      "cell_type": "markdown",
      "metadata": {
        "id": "33cHwuReaIO3"
      },
      "source": [
        "## 10."
      ]
    },
    {
      "cell_type": "markdown",
      "metadata": {
        "id": "T425ZBwKaIO3"
      },
      "source": [
        "*Exercise: Train a deep MLP on the MNIST dataset (you can load it using `keras.datasets.mnist.load_data()`. See if you can get over 98% precision. Try searching for the optimal learning rate by using the approach presented in this chapter (i.e., by growing the learning rate exponentially, plotting the loss, and finding the point where the loss shoots up). Try adding all the bells and whistles—save checkpoints, use early stopping, and plot learning curves using TensorBoard.*"
      ]
    },
    {
      "cell_type": "markdown",
      "metadata": {
        "id": "LZaL9h0caIO3"
      },
      "source": [
        "Let's load the dataset:"
      ]
    },
    {
      "cell_type": "code",
      "execution_count": null,
      "metadata": {
        "id": "pxDS4HVraIO3"
      },
      "outputs": [],
      "source": [
        "(X_train_full, y_train_full), (X_test, y_test) = keras.datasets.mnist.load_data()"
      ]
    },
    {
      "cell_type": "markdown",
      "metadata": {
        "id": "v7yYXr_KaIO3"
      },
      "source": [
        "Just like for the Fashion MNIST dataset, the MNIST training set contains 60,000 grayscale images, each 28x28 pixels:"
      ]
    },
    {
      "cell_type": "code",
      "execution_count": null,
      "metadata": {
        "id": "UcEEYpJNaIO3",
        "outputId": "ef77c49d-b0f6-46cc-d125-94c39e76888f"
      },
      "outputs": [
        {
          "data": {
            "text/plain": [
              "(60000, 28, 28)"
            ]
          },
          "execution_count": 108,
          "metadata": {},
          "output_type": "execute_result"
        }
      ],
      "source": [
        "X_train_full.shape"
      ]
    },
    {
      "cell_type": "markdown",
      "metadata": {
        "id": "6gl8M9akaIO3"
      },
      "source": [
        "Each pixel intensity is also represented as a byte (0 to 255):"
      ]
    },
    {
      "cell_type": "code",
      "execution_count": null,
      "metadata": {
        "id": "_mFTDaoaaIO3",
        "outputId": "4bfe0da4-bd52-4384-d387-d974ad532529"
      },
      "outputs": [
        {
          "data": {
            "text/plain": [
              "dtype('uint8')"
            ]
          },
          "execution_count": 109,
          "metadata": {},
          "output_type": "execute_result"
        }
      ],
      "source": [
        "X_train_full.dtype"
      ]
    },
    {
      "cell_type": "markdown",
      "metadata": {
        "id": "TzKlh2pwaIO4"
      },
      "source": [
        "Let's split the full training set into a validation set and a (smaller) training set. We also scale the pixel intensities down to the 0-1 range and convert them to floats, by dividing by 255, just like we did for Fashion MNIST:"
      ]
    },
    {
      "cell_type": "code",
      "execution_count": null,
      "metadata": {
        "id": "Q51klxOTaIO4"
      },
      "outputs": [],
      "source": [
        "X_valid, X_train = X_train_full[:5000] / 255., X_train_full[5000:] / 255.\n",
        "y_valid, y_train = y_train_full[:5000], y_train_full[5000:]\n",
        "X_test = X_test / 255."
      ]
    },
    {
      "cell_type": "markdown",
      "metadata": {
        "id": "4WJbi8a6aIO4"
      },
      "source": [
        "Let's plot an image using Matplotlib's `imshow()` function, with a `'binary'`\n",
        " color map:"
      ]
    },
    {
      "cell_type": "code",
      "execution_count": null,
      "metadata": {
        "id": "xnpHTlu7aIO4",
        "outputId": "6ed32805-d645-4d4e-8586-69c6444bce21"
      },
      "outputs": [
        {
          "data": {
            "image/png": "[encoded data removed]",
            "text/plain": [
              "<Figure size 432x288 with 1 Axes>"
            ]
          },
          "metadata": {
            "needs_background": "light"
          },
          "output_type": "display_data"
        }
      ],
      "source": [
        "plt.imshow(X_train[0], cmap=\"binary\")\n",
        "plt.axis('off')\n",
        "plt.show()"
      ]
    },
    {
      "cell_type": "markdown",
      "metadata": {
        "id": "whAQjoWiaIO4"
      },
      "source": [
        "The labels are the class IDs (represented as uint8), from 0 to 9. Conveniently, the class IDs correspond to the digits represented in the images, so we don't need a `class_names` array:"
      ]
    },
    {
      "cell_type": "code",
      "execution_count": null,
      "metadata": {
        "id": "Ytgryd4gaIO4",
        "outputId": "8eee724f-790d-4132-a67e-8d56001d781c"
      },
      "outputs": [
        {
          "data": {
            "text/plain": [
              "array([7, 3, 4, ..., 5, 6, 8], dtype=uint8)"
            ]
          },
          "execution_count": 112,
          "metadata": {},
          "output_type": "execute_result"
        }
      ],
      "source": [
        "y_train"
      ]
    },
    {
      "cell_type": "markdown",
      "metadata": {
        "id": "XpyDuyLYaIO4"
      },
      "source": [
        "The validation set contains 5,000 images, and the test set contains 10,000 images:"
      ]
    },
    {
      "cell_type": "code",
      "execution_count": null,
      "metadata": {
        "id": "mDeCkg9NaIO4",
        "outputId": "11fde395-7b7d-4bfe-ea3c-c5ec8b381acc"
      },
      "outputs": [
        {
          "data": {
            "text/plain": [
              "(5000, 28, 28)"
            ]
          },
          "execution_count": 113,
          "metadata": {},
          "output_type": "execute_result"
        }
      ],
      "source": [
        "X_valid.shape"
      ]
    },
    {
      "cell_type": "code",
      "execution_count": null,
      "metadata": {
        "id": "GwQh3upmaIO4",
        "outputId": "55f5dd49-82a6-4344-f34f-24ce7899e0f2"
      },
      "outputs": [
        {
          "data": {
            "text/plain": [
              "(10000, 28, 28)"
            ]
          },
          "execution_count": 114,
          "metadata": {},
          "output_type": "execute_result"
        }
      ],
      "source": [
        "X_test.shape"
      ]
    },
    {
      "cell_type": "markdown",
      "metadata": {
        "id": "fwLrQNXnaIO5"
      },
      "source": [
        "Let's take a look at a sample of the images in the dataset:"
      ]
    },
    {
      "cell_type": "code",
      "execution_count": null,
      "metadata": {
        "id": "cebm1QDpaIO5",
        "outputId": "24c3eadd-c5a3-4463-f274-2987ee2674ff"
      },
      "outputs": [
        {
          "data": {
            "image/png": "[encoded data removed]",
            "text/plain": [
              "<Figure size 864x345.6 with 40 Axes>"
            ]
          },
          "metadata": {
            "needs_background": "light"
          },
          "output_type": "display_data"
        }
      ],
      "source": [
        "n_rows = 4\n",
        "n_cols = 10\n",
        "plt.figure(figsize=(n_cols * 1.2, n_rows * 1.2))\n",
        "for row in range(n_rows):\n",
        "    for col in range(n_cols):\n",
        "        index = n_cols * row + col\n",
        "        plt.subplot(n_rows, n_cols, index + 1)\n",
        "        plt.imshow(X_train[index], cmap=\"binary\", interpolation=\"nearest\")\n",
        "        plt.axis('off')\n",
        "        plt.title(y_train[index], fontsize=12)\n",
        "plt.subplots_adjust(wspace=0.2, hspace=0.5)\n",
        "plt.show()"
      ]
    },
    {
      "cell_type": "markdown",
      "metadata": {
        "id": "9uv5HAfoaIO5"
      },
      "source": [
        "Let's build a simple dense network and find the optimal learning rate. We will need a callback to grow the learning rate at each iteration. It will also record the learning rate and the loss at each iteration:"
      ]
    },
    {
      "cell_type": "code",
      "execution_count": null,
      "metadata": {
        "id": "Yze9dxc3aIO5"
      },
      "outputs": [],
      "source": [
        "K = keras.backend\n",
        "\n",
        "class ExponentialLearningRate(keras.callbacks.Callback):\n",
        "    def __init__(self, factor):\n",
        "        self.factor = factor\n",
        "        self.rates = []\n",
        "        self.losses = []\n",
        "    def on_batch_end(self, batch, logs):\n",
        "        self.rates.append(K.get_value(self.model.optimizer.learning_rate))\n",
        "        self.losses.append(logs[\"loss\"])\n",
        "        K.set_value(self.model.optimizer.learning_rate, self.model.optimizer.learning_rate * self.factor)"
      ]
    },
    {
      "cell_type": "code",
      "execution_count": null,
      "metadata": {
        "id": "OBmEBiJkaIO5"
      },
      "outputs": [],
      "source": [
        "keras.backend.clear_session()\n",
        "np.random.seed(42)\n",
        "tf.random.set_seed(42)"
      ]
    },
    {
      "cell_type": "code",
      "execution_count": null,
      "metadata": {
        "id": "X-GZ1-EDaIO5"
      },
      "outputs": [],
      "source": [
        "model = keras.models.Sequential([\n",
        "    keras.layers.Flatten(input_shape=[28, 28]),\n",
        "    keras.layers.Dense(300, activation=\"relu\"),\n",
        "    keras.layers.Dense(100, activation=\"relu\"),\n",
        "    keras.layers.Dense(10, activation=\"softmax\")\n",
        "])"
      ]
    },
    {
      "cell_type": "markdown",
      "metadata": {
        "id": "7-wrlFTLaIO6"
      },
      "source": [
        "We will start with a small learning rate of 1e-3, and grow it by 0.5% at each iteration:"
      ]
    },
    {
      "cell_type": "code",
      "execution_count": null,
      "metadata": {
        "id": "KoKiy54yaIO6"
      },
      "outputs": [],
      "source": [
        "model.compile(loss=\"sparse_categorical_crossentropy\",\n",
        "              optimizer=keras.optimizers.SGD(learning_rate=1e-3),\n",
        "              metrics=[\"accuracy\"])\n",
        "expon_lr = ExponentialLearningRate(factor=1.005)"
      ]
    },
    {
      "cell_type": "markdown",
      "metadata": {
        "id": "DNtQn4KtaIO6"
      },
      "source": [
        "Now let's train the model for just 1 epoch:"
      ]
    },
    {
      "cell_type": "code",
      "execution_count": null,
      "metadata": {
        "id": "iCr2-M-yaIO6",
        "outputId": "fe583705-dfd7-4ba2-fbe0-9d37535d4edc"
      },
      "outputs": [
        {
          "name": "stdout",
          "output_type": "stream",
          "text": [
            "1719/1719 [==============================] - 2s 1ms/step - loss: 4.6604 - accuracy: 0.4887 - val_loss: 2.3911 - val_accuracy: 0.1126\n"
          ]
        }
      ],
      "source": [
        "history = model.fit(X_train, y_train, epochs=1,\n",
        "                    validation_data=(X_valid, y_valid),\n",
        "                    callbacks=[expon_lr])"
      ]
    },
    {
      "cell_type": "markdown",
      "metadata": {
        "id": "U6gxJjBKaIO6"
      },
      "source": [
        "We can now plot the loss as a function of the learning rate:"
      ]
    },
    {
      "cell_type": "code",
      "execution_count": null,
      "metadata": {
        "id": "WpNnI5_QaIO6",
        "outputId": "70363f01-bdcc-492a-e46a-b915be01b336"
      },
      "outputs": [
        {
          "data": {
            "text/plain": [
              "Text(0, 0.5, 'Loss')"
            ]
          },
          "execution_count": 121,
          "metadata": {},
          "output_type": "execute_result"
        },
        {
          "data": {
            "image/png": "[encoded data removed]",
            "text/plain": [
              "<Figure size 432x288 with 1 Axes>"
            ]
          },
          "metadata": {
            "needs_background": "light"
          },
          "output_type": "display_data"
        }
      ],
      "source": [
        "plt.plot(expon_lr.rates, expon_lr.losses)\n",
        "plt.gca().set_xscale('log')\n",
        "plt.hlines(min(expon_lr.losses), min(expon_lr.rates), max(expon_lr.rates))\n",
        "plt.axis([min(expon_lr.rates), max(expon_lr.rates), 0, expon_lr.losses[0]])\n",
        "plt.grid()\n",
        "plt.xlabel(\"Learning rate\")\n",
        "plt.ylabel(\"Loss\")"
      ]
    },
    {
      "cell_type": "markdown",
      "metadata": {
        "id": "B3cWE_3LaIO6"
      },
      "source": [
        "The loss starts shooting back up violently when the learning rate goes over 6e-1, so let's try using half of that, at 3e-1:"
      ]
    },
    {
      "cell_type": "code",
      "execution_count": null,
      "metadata": {
        "id": "Ix8woCXFaIO7"
      },
      "outputs": [],
      "source": [
        "keras.backend.clear_session()\n",
        "np.random.seed(42)\n",
        "tf.random.set_seed(42)"
      ]
    },
    {
      "cell_type": "code",
      "execution_count": null,
      "metadata": {
        "id": "VOrPRaMTaIO7"
      },
      "outputs": [],
      "source": [
        "model = keras.models.Sequential([\n",
        "    keras.layers.Flatten(input_shape=[28, 28]),\n",
        "    keras.layers.Dense(300, activation=\"relu\"),\n",
        "    keras.layers.Dense(100, activation=\"relu\"),\n",
        "    keras.layers.Dense(10, activation=\"softmax\")\n",
        "])"
      ]
    },
    {
      "cell_type": "code",
      "execution_count": null,
      "metadata": {
        "id": "XMPUF-C4aIO7"
      },
      "outputs": [],
      "source": [
        "model.compile(loss=\"sparse_categorical_crossentropy\",\n",
        "              optimizer=keras.optimizers.SGD(learning_rate=3e-1),\n",
        "              metrics=[\"accuracy\"])"
      ]
    },
    {
      "cell_type": "code",
      "execution_count": null,
      "metadata": {
        "id": "SKjoS_HLaIO7",
        "outputId": "f9d52546-2629-4c13-aec2-7838a1d65527"
      },
      "outputs": [
        {
          "data": {
            "text/plain": [
              "'./my_mnist_logs/run_001'"
            ]
          },
          "execution_count": 125,
          "metadata": {},
          "output_type": "execute_result"
        }
      ],
      "source": [
        "run_index = 1 # increment this at every run\n",
        "run_logdir = os.path.join(os.curdir, \"my_mnist_logs\", \"run_{:03d}\".format(run_index))\n",
        "run_logdir"
      ]
    },
    {
      "cell_type": "code",
      "execution_count": null,
      "metadata": {
        "id": "WbfIIrG-aIO7",
        "outputId": "2d89f7c3-bb4a-43a7-ef97-6e0cafbaa4d1"
      },
      "outputs": [
        {
          "name": "stdout",
          "output_type": "stream",
          "text": [
            "Epoch 1/100\n",
            "1719/1719 [==============================] - 3s 2ms/step - loss: 0.4195 - accuracy: 0.8677 - val_loss: 0.0995 - val_accuracy: 0.9724\n",
            "Epoch 2/100\n",
            "1719/1719 [==============================] - 2s 882us/step - loss: 0.0941 - accuracy: 0.9698 - val_loss: 0.0913 - val_accuracy: 0.9746\n",
            "Epoch 3/100\n",
            "1719/1719 [==============================] - 1s 845us/step - loss: 0.0650 - accuracy: 0.9792 - val_loss: 0.0785 - val_accuracy: 0.9772\n",
            "Epoch 4/100\n",
            "1719/1719 [==============================] - 2s 932us/step - loss: 0.0438 - accuracy: 0.9855 - val_loss: 0.0793 - val_accuracy: 0.9784\n",
            "Epoch 5/100\n",
            "1719/1719 [==============================] - 1s 832us/step - loss: 0.0348 - accuracy: 0.9888 - val_loss: 0.0724 - val_accuracy: 0.9812\n",
            "Epoch 6/100\n",
            "1719/1719 [==============================] - 1s 835us/step - loss: 0.0289 - accuracy: 0.9905 - val_loss: 0.0814 - val_accuracy: 0.9792\n",
            "Epoch 7/100\n",
            "1719/1719 [==============================] - 1s 868us/step - loss: 0.0230 - accuracy: 0.9926 - val_loss: 0.0794 - val_accuracy: 0.9808\n",
            "Epoch 8/100\n",
            "1719/1719 [==============================] - 1s 847us/step - loss: 0.0180 - accuracy: 0.9943 - val_loss: 0.0718 - val_accuracy: 0.9826\n",
            "Epoch 9/100\n",
            "1719/1719 [==============================] - 1s 848us/step - loss: 0.0158 - accuracy: 0.9949 - val_loss: 0.0874 - val_accuracy: 0.9798\n",
            "Epoch 10/100\n",
            "1719/1719 [==============================] - 1s 844us/step - loss: 0.0155 - accuracy: 0.9944 - val_loss: 0.0782 - val_accuracy: 0.9824\n",
            "Epoch 11/100\n",
            "1719/1719 [==============================] - 1s 834us/step - loss: 0.0089 - accuracy: 0.9971 - val_loss: 0.0902 - val_accuracy: 0.9832\n",
            "Epoch 12/100\n",
            "1719/1719 [==============================] - 1s 844us/step - loss: 0.0064 - accuracy: 0.9979 - val_loss: 0.0832 - val_accuracy: 0.9832\n",
            "Epoch 13/100\n",
            "1719/1719 [==============================] - 1s 859us/step - loss: 0.0059 - accuracy: 0.9981 - val_loss: 0.0888 - val_accuracy: 0.9814\n",
            "Epoch 14/100\n",
            "1719/1719 [==============================] - 2s 919us/step - loss: 0.0110 - accuracy: 0.9963 - val_loss: 0.1080 - val_accuracy: 0.9792\n",
            "Epoch 15/100\n",
            "1719/1719 [==============================] - 2s 921us/step - loss: 0.0075 - accuracy: 0.9973 - val_loss: 0.0828 - val_accuracy: 0.9840\n",
            "Epoch 16/100\n",
            "1719/1719 [==============================] - 2s 945us/step - loss: 0.0039 - accuracy: 0.9991 - val_loss: 0.0869 - val_accuracy: 0.9848\n",
            "Epoch 17/100\n",
            "1719/1719 [==============================] - 2s 962us/step - loss: 0.0064 - accuracy: 0.9982 - val_loss: 0.0997 - val_accuracy: 0.9816\n",
            "Epoch 18/100\n",
            "1719/1719 [==============================] - 2s 976us/step - loss: 0.0071 - accuracy: 0.9979 - val_loss: 0.1001 - val_accuracy: 0.9840\n",
            "Epoch 19/100\n",
            "1719/1719 [==============================] - 2s 1ms/step - loss: 0.0086 - accuracy: 0.9972 - val_loss: 0.1239 - val_accuracy: 0.9796\n",
            "Epoch 20/100\n",
            "1719/1719 [==============================] - 2s 1ms/step - loss: 0.0095 - accuracy: 0.9973 - val_loss: 0.1107 - val_accuracy: 0.9808\n",
            "Epoch 21/100\n",
            "1719/1719 [==============================] - 2s 1ms/step - loss: 0.0055 - accuracy: 0.9981 - val_loss: 0.0891 - val_accuracy: 0.9840\n",
            "Epoch 22/100\n",
            "1719/1719 [==============================] - 2s 967us/step - loss: 0.0041 - accuracy: 0.9988 - val_loss: 0.0893 - val_accuracy: 0.9844\n",
            "Epoch 23/100\n",
            "1719/1719 [==============================] - 2s 963us/step - loss: 6.1009e-04 - accuracy: 0.9999 - val_loss: 0.0899 - val_accuracy: 0.9848\n",
            "Epoch 24/100\n",
            "1719/1719 [==============================] - 2s 972us/step - loss: 8.4212e-05 - accuracy: 1.0000 - val_loss: 0.0894 - val_accuracy: 0.9862\n",
            "Epoch 25/100\n",
            "1719/1719 [==============================] - 2s 1ms/step - loss: 6.0306e-05 - accuracy: 1.0000 - val_loss: 0.0899 - val_accuracy: 0.9858\n",
            "Epoch 26/100\n",
            "1719/1719 [==============================] - 2s 1ms/step - loss: 4.9564e-05 - accuracy: 1.0000 - val_loss: 0.0903 - val_accuracy: 0.9860\n",
            "Epoch 27/100\n",
            "1719/1719 [==============================] - 2s 1ms/step - loss: 4.3609e-05 - accuracy: 1.0000 - val_loss: 0.0906 - val_accuracy: 0.9862\n",
            "Epoch 28/100\n",
            "1719/1719 [==============================] - 2s 973us/step - loss: 4.2216e-05 - accuracy: 1.0000 - val_loss: 0.0911 - val_accuracy: 0.9862\n"
          ]
        }
      ],
      "source": [
        "early_stopping_cb = keras.callbacks.EarlyStopping(patience=20)\n",
        "checkpoint_cb = keras.callbacks.ModelCheckpoint(\"my_mnist_model.h5\", save_best_only=True)\n",
        "tensorboard_cb = keras.callbacks.TensorBoard(run_logdir)\n",
        "\n",
        "history = model.fit(X_train, y_train, epochs=100,\n",
        "                    validation_data=(X_valid, y_valid),\n",
        "                    callbacks=[checkpoint_cb, early_stopping_cb, tensorboard_cb])"
      ]
    },
    {
      "cell_type": "code",
      "execution_count": null,
      "metadata": {
        "id": "amidFPGwaIO7",
        "outputId": "e6476edf-0bda-41c1-e20c-88287a63ceb4"
      },
      "outputs": [
        {
          "name": "stdout",
          "output_type": "stream",
          "text": [
            "313/313 [==============================] - 0s 701us/step - loss: 0.0804 - accuracy: 0.9806\n"
          ]
        },
        {
          "data": {
            "text/plain": [
              "[0.08043695986270905, 0.9805999994277954]"
            ]
          },
          "execution_count": 127,
          "metadata": {},
          "output_type": "execute_result"
        }
      ],
      "source": [
        "model = keras.models.load_model(\"my_mnist_model.h5\") # rollback to best model\n",
        "model.evaluate(X_test, y_test)"
      ]
    },
    {
      "cell_type": "markdown",
      "metadata": {
        "id": "Y9kED7JwaIO7"
      },
      "source": [
        "We got over 98% accuracy. Finally, let's look at the learning curves using TensorBoard:"
      ]
    },
    {
      "cell_type": "code",
      "execution_count": null,
      "metadata": {
        "id": "qz6sEoQnaIO8",
        "outputId": "e3f787d2-3920-4887-d7d0-b2c772680d2f"
      },
      "outputs": [
        {
          "data": {
            "text/html": [
              "\n",
              "      <iframe id=\"tensorboard-frame-27a48e88c728a23e\" width=\"100%\" height=\"800\" frameborder=\"0\">\n",
              "      </iframe>\n",
              "      <script>\n",
              "        (function() {\n",
              "          const frame = document.getElementById(\"tensorboard-frame-27a48e88c728a23e\");\n",
              "          const url = new URL(\"/\", window.location);\n",
              "          const port = 6006;\n",
              "          if (port) {\n",
              "            url.port = port;\n",
              "          }\n",
              "          frame.src = url;\n",
              "        })();\n",
              "      </script>\n",
              "    "
            ],
            "text/plain": [
              "<IPython.core.display.HTML object>"
            ]
          },
          "metadata": {},
          "output_type": "display_data"
        }
      ],
      "source": [
        "%tensorboard --logdir=./my_mnist_logs --port=6006"
      ]
    },
    {
      "cell_type": "code",
      "execution_count": null,
      "metadata": {
        "id": "C72sTyRsaIO8"
      },
      "outputs": [],
      "source": []
    }
  ],
  "metadata": {
    "kernelspec": {
      "display_name": "Python 3",
      "language": "python",
      "name": "python3"
    },
    "language_info": {
      "codemirror_mode": {
        "name": "ipython",
        "version": 3
      },
      "file_extension": ".py",
      "mimetype": "text/x-python",
      "name": "python",
      "nbconvert_exporter": "python",
      "pygments_lexer": "ipython3",
      "version": "3.7.10"
    },
    "nav_menu": {
      "height": "264px",
      "width": "369px"
    },
    "toc": {
      "navigate_menu": true,
      "number_sections": true,
      "sideBar": true,
      "threshold": 6,
      "toc_cell": false,
      "toc_section_display": "block",
      "toc_window_display": false
    },
    "colab": {
      "provenance": []
    }
  },
  "nbformat": 4,
  "nbformat_minor": 0
}